{
 "cells": [
  {
   "cell_type": "markdown",
   "id": "dd7df7c7-6f38-4e25-91fb-44d21bffd65d",
   "metadata": {
    "papermill": {
     "duration": 0.014057,
     "end_time": "2021-12-11T20:06:23.976677",
     "exception": false,
     "start_time": "2021-12-11T20:06:23.962620",
     "status": "completed"
    },
    "tags": []
   },
   "source": [
    "## Enriquecimento da base"
   ]
  },
  {
   "cell_type": "code",
   "execution_count": 1,
   "id": "b1a1a97f-6be6-4192-8ae0-83f8b4296ad2",
   "metadata": {
    "execution": {
     "iopub.execute_input": "2021-12-11T20:06:24.005339Z",
     "iopub.status.busy": "2021-12-11T20:06:24.004721Z",
     "iopub.status.idle": "2021-12-11T20:06:24.351210Z",
     "shell.execute_reply": "2021-12-11T20:06:24.351467Z"
    },
    "papermill": {
     "duration": 0.363007,
     "end_time": "2021-12-11T20:06:24.351637",
     "exception": false,
     "start_time": "2021-12-11T20:06:23.988630",
     "status": "completed"
    },
    "tags": []
   },
   "outputs": [],
   "source": [
    "from Enriquecimento_UF import DataQuality\n",
    "from os import listdir\n",
    "from datetime import  datetime as dt \n",
    "from Enriquecimento_UF import Logs"
   ]
  },
  {
   "cell_type": "code",
   "execution_count": 2,
   "id": "12ed103e-b84c-4825-b97c-6608dac1e64a",
   "metadata": {
    "execution": {
     "iopub.execute_input": "2021-12-11T20:06:24.379093Z",
     "iopub.status.busy": "2021-12-11T20:06:24.378733Z",
     "iopub.status.idle": "2021-12-11T20:06:24.381150Z",
     "shell.execute_reply": "2021-12-11T20:06:24.381534Z"
    },
    "papermill": {
     "duration": 0.019012,
     "end_time": "2021-12-11T20:06:24.381643",
     "exception": false,
     "start_time": "2021-12-11T20:06:24.362631",
     "status": "completed"
    },
    "tags": []
   },
   "outputs": [],
   "source": [
    "bases = listdir(\"base_gerada\")\n",
    "\n",
    "etapa = \"Etapa 2 - Data Quality\"\n",
    "\n",
    "console_log = Logs(etapa)"
   ]
  },
  {
   "cell_type": "code",
   "execution_count": 3,
   "id": "27a839fd-2547-4ab6-b74f-741814b7ac24",
   "metadata": {
    "execution": {
     "iopub.execute_input": "2021-12-11T20:06:24.409905Z",
     "iopub.status.busy": "2021-12-11T20:06:24.409536Z",
     "iopub.status.idle": "2021-12-11T20:06:24.487768Z",
     "shell.execute_reply": "2021-12-11T20:06:24.488026Z"
    },
    "papermill": {
     "duration": 0.094704,
     "end_time": "2021-12-11T20:06:24.488129",
     "exception": false,
     "start_time": "2021-12-11T20:06:24.393425",
     "status": "completed"
    },
    "tags": []
   },
   "outputs": [
    {
     "data": {
      "text/html": [
       "<div>\n",
       "<style scoped>\n",
       "    .dataframe tbody tr th:only-of-type {\n",
       "        vertical-align: middle;\n",
       "    }\n",
       "\n",
       "    .dataframe tbody tr th {\n",
       "        vertical-align: top;\n",
       "    }\n",
       "\n",
       "    .dataframe thead th {\n",
       "        text-align: right;\n",
       "    }\n",
       "</style>\n",
       "<table border=\"1\" class=\"dataframe\">\n",
       "  <thead>\n",
       "    <tr style=\"text-align: right;\">\n",
       "      <th></th>\n",
       "      <th>document</th>\n",
       "      <th>name</th>\n",
       "      <th>job</th>\n",
       "      <th>jobArea</th>\n",
       "      <th>jobType</th>\n",
       "      <th>phoneNumber</th>\n",
       "      <th>birthDate</th>\n",
       "      <th>city</th>\n",
       "      <th>state</th>\n",
       "      <th>totalSpent</th>\n",
       "      <th>PESSOA</th>\n",
       "      <th>Ano</th>\n",
       "    </tr>\n",
       "  </thead>\n",
       "  <tbody>\n",
       "    <tr>\n",
       "      <th>0</th>\n",
       "      <td>85704855733</td>\n",
       "      <td>Newton Saraiva</td>\n",
       "      <td>Administrador Comunicações Internacional</td>\n",
       "      <td>Prestaçãodecontas</td>\n",
       "      <td>Facilitador</td>\n",
       "      <td>NaN</td>\n",
       "      <td>1982-06-10</td>\n",
       "      <td>Município de Neide do Sul</td>\n",
       "      <td>RR</td>\n",
       "      <td>57.26</td>\n",
       "      <td>FISICA</td>\n",
       "      <td>1982</td>\n",
       "    </tr>\n",
       "    <tr>\n",
       "      <th>1</th>\n",
       "      <td>4556513537</td>\n",
       "      <td>Viviana Braga</td>\n",
       "      <td>NaN</td>\n",
       "      <td>Diretivas</td>\n",
       "      <td>Associado</td>\n",
       "      <td>1.011373e+10</td>\n",
       "      <td>1982-08-10</td>\n",
       "      <td>NaN</td>\n",
       "      <td>AC</td>\n",
       "      <td>920.21</td>\n",
       "      <td>FISICA</td>\n",
       "      <td>1982</td>\n",
       "    </tr>\n",
       "    <tr>\n",
       "      <th>2</th>\n",
       "      <td>11527259714</td>\n",
       "      <td>Daniella Braga</td>\n",
       "      <td>Representante Programa Frente</td>\n",
       "      <td>Criativo</td>\n",
       "      <td>Oficial</td>\n",
       "      <td>5.505396e+11</td>\n",
       "      <td>1982-10-05</td>\n",
       "      <td>NaN</td>\n",
       "      <td>AL</td>\n",
       "      <td>NaN</td>\n",
       "      <td>FISICA</td>\n",
       "      <td>1982</td>\n",
       "    </tr>\n",
       "    <tr>\n",
       "      <th>3</th>\n",
       "      <td>61861484534535</td>\n",
       "      <td>Sr. Yumi</td>\n",
       "      <td>Executivo Qualidade Internacional</td>\n",
       "      <td>Funcionalidade</td>\n",
       "      <td>Orquestrador</td>\n",
       "      <td>5.556719e+11</td>\n",
       "      <td>1982-12-31</td>\n",
       "      <td>Município de Jovelino do Sul</td>\n",
       "      <td>RS</td>\n",
       "      <td>448.48</td>\n",
       "      <td>JURIDICA</td>\n",
       "      <td>1982</td>\n",
       "    </tr>\n",
       "    <tr>\n",
       "      <th>4</th>\n",
       "      <td>1543534775</td>\n",
       "      <td>Maria Braga</td>\n",
       "      <td>Facilitador Diretivas Investidor</td>\n",
       "      <td>Programa</td>\n",
       "      <td>Ligação</td>\n",
       "      <td>6.031678e+10</td>\n",
       "      <td>1982-05-02</td>\n",
       "      <td>Velha Ezequiel</td>\n",
       "      <td>RR</td>\n",
       "      <td>994.40</td>\n",
       "      <td>FISICA</td>\n",
       "      <td>1982</td>\n",
       "    </tr>\n",
       "  </tbody>\n",
       "</table>\n",
       "</div>"
      ],
      "text/plain": [
       "         document            name                                       job  \\\n",
       "0     85704855733  Newton Saraiva  Administrador Comunicações Internacional   \n",
       "1      4556513537   Viviana Braga                                       NaN   \n",
       "2     11527259714  Daniella Braga             Representante Programa Frente   \n",
       "3  61861484534535        Sr. Yumi         Executivo Qualidade Internacional   \n",
       "4      1543534775     Maria Braga          Facilitador Diretivas Investidor   \n",
       "\n",
       "             jobArea       jobType   phoneNumber   birthDate  \\\n",
       "0  Prestaçãodecontas   Facilitador           NaN  1982-06-10   \n",
       "1          Diretivas     Associado  1.011373e+10  1982-08-10   \n",
       "2           Criativo       Oficial  5.505396e+11  1982-10-05   \n",
       "3     Funcionalidade  Orquestrador  5.556719e+11  1982-12-31   \n",
       "4           Programa       Ligação  6.031678e+10  1982-05-02   \n",
       "\n",
       "                           city state  totalSpent    PESSOA   Ano  \n",
       "0     Município de Neide do Sul    RR       57.26    FISICA  1982  \n",
       "1                           NaN    AC      920.21    FISICA  1982  \n",
       "2                           NaN    AL         NaN    FISICA  1982  \n",
       "3  Município de Jovelino do Sul    RS      448.48  JURIDICA  1982  \n",
       "4                Velha Ezequiel    RR      994.40    FISICA  1982  "
      ]
     },
     "execution_count": 3,
     "metadata": {},
     "output_type": "execute_result"
    }
   ],
   "source": [
    "import pandas as pd \n",
    "pd.read_csv(\"base_gerada/\"+bases[0]).head()"
   ]
  },
  {
   "cell_type": "code",
   "execution_count": 4,
   "id": "a7bac518-4f31-4499-baec-166a9c0a32db",
   "metadata": {
    "collapsed": true,
    "execution": {
     "iopub.execute_input": "2021-12-11T20:06:24.518111Z",
     "iopub.status.busy": "2021-12-11T20:06:24.517760Z",
     "iopub.status.idle": "2021-12-11T20:06:34.257994Z",
     "shell.execute_reply": "2021-12-11T20:06:34.257648Z"
    },
    "jupyter": {
     "outputs_hidden": true
    },
    "papermill": {
     "duration": 9.758139,
     "end_time": "2021-12-11T20:06:34.258085",
     "exception": false,
     "start_time": "2021-12-11T20:06:24.499946",
     "status": "completed"
    },
    "tags": []
   },
   "outputs": [
    {
     "name": "stdout",
     "output_type": "stream",
     "text": [
      "[20:6:24:516422]\u001b[43m\u001b[30m[ INFO  ]\u001b[0m : Etapa 2 - Data Quality | Enriquecendo dados com base de UF\n",
      "base_gerada/1982.csv\n"
     ]
    },
    {
     "name": "stdout",
     "output_type": "stream",
     "text": [
      "base_gerada/1982.csv\n",
      "Tempo de Execução:  0:00:00.336949\n",
      "base_gerada/1965.csv\n"
     ]
    },
    {
     "name": "stdout",
     "output_type": "stream",
     "text": [
      "base_gerada/1965.csv\n",
      "Tempo de Execução:  0:00:00.454915\n",
      "base_gerada/1979.csv\n"
     ]
    },
    {
     "name": "stdout",
     "output_type": "stream",
     "text": [
      "base_gerada/1979.csv\n",
      "Tempo de Execução:  0:00:00.308866\n",
      "base_gerada/1980.csv\n"
     ]
    },
    {
     "name": "stdout",
     "output_type": "stream",
     "text": [
      "base_gerada/1980.csv\n",
      "Tempo de Execução:  0:00:00.315374\n",
      "base_gerada/1963.csv\n"
     ]
    },
    {
     "name": "stdout",
     "output_type": "stream",
     "text": [
      "base_gerada/1963.csv\n",
      "Tempo de Execução:  0:00:00.310614\n",
      "base_gerada/1973.csv\n"
     ]
    },
    {
     "name": "stdout",
     "output_type": "stream",
     "text": [
      "base_gerada/1973.csv\n",
      "Tempo de Execução:  0:00:00.308333\n",
      "base_gerada/1986.csv\n"
     ]
    },
    {
     "name": "stdout",
     "output_type": "stream",
     "text": [
      "base_gerada/1986.csv\n",
      "Tempo de Execução:  0:00:00.312190\n",
      "base_gerada/1978.csv\n"
     ]
    },
    {
     "name": "stdout",
     "output_type": "stream",
     "text": [
      "base_gerada/1978.csv\n",
      "Tempo de Execução:  0:00:00.316790\n",
      "base_gerada/1970.csv\n"
     ]
    },
    {
     "name": "stdout",
     "output_type": "stream",
     "text": [
      "base_gerada/1970.csv\n",
      "Tempo de Execução:  0:00:00.324141\n",
      "base_gerada/1962.csv\n"
     ]
    },
    {
     "name": "stdout",
     "output_type": "stream",
     "text": [
      "base_gerada/1962.csv\n",
      "Tempo de Execução:  0:00:00.288433\n",
      "base_gerada/1971.csv\n"
     ]
    },
    {
     "name": "stdout",
     "output_type": "stream",
     "text": [
      "base_gerada/1971.csv\n",
      "Tempo de Execução:  0:00:00.331380\n",
      "base_gerada/1975.csv\n"
     ]
    },
    {
     "name": "stdout",
     "output_type": "stream",
     "text": [
      "base_gerada/1975.csv\n",
      "Tempo de Execução:  0:00:00.305115\n",
      "base_gerada/1977.csv\n"
     ]
    },
    {
     "name": "stdout",
     "output_type": "stream",
     "text": [
      "base_gerada/1977.csv\n",
      "Tempo de Execução:  0:00:00.331905\n",
      "base_gerada/1981.csv\n"
     ]
    },
    {
     "name": "stdout",
     "output_type": "stream",
     "text": [
      "base_gerada/1981.csv\n",
      "Tempo de Execução:  0:00:00.341063\n",
      "base_gerada/1968.csv\n"
     ]
    },
    {
     "name": "stdout",
     "output_type": "stream",
     "text": [
      "base_gerada/1968.csv\n",
      "Tempo de Execução:  0:00:00.370467\n",
      "base_gerada/1985.csv\n"
     ]
    },
    {
     "name": "stdout",
     "output_type": "stream",
     "text": [
      "base_gerada/1985.csv\n",
      "Tempo de Execução:  0:00:00.314386\n",
      "base_gerada/1984.csv\n"
     ]
    },
    {
     "name": "stdout",
     "output_type": "stream",
     "text": [
      "base_gerada/1984.csv\n",
      "Tempo de Execução:  0:00:00.310472\n",
      "base_gerada/1964.csv\n"
     ]
    },
    {
     "name": "stdout",
     "output_type": "stream",
     "text": [
      "base_gerada/1964.csv\n",
      "Tempo de Execução:  0:00:00.310515\n",
      "base_gerada/1989.csv\n"
     ]
    },
    {
     "name": "stdout",
     "output_type": "stream",
     "text": [
      "base_gerada/1989.csv\n",
      "Tempo de Execução:  0:00:00.398043\n",
      "base_gerada/1988.csv\n"
     ]
    },
    {
     "name": "stdout",
     "output_type": "stream",
     "text": [
      "base_gerada/1988.csv\n",
      "Tempo de Execução:  0:00:00.351555\n",
      "base_gerada/1990.csv\n"
     ]
    },
    {
     "name": "stdout",
     "output_type": "stream",
     "text": [
      "base_gerada/1990.csv\n",
      "Tempo de Execução:  0:00:00.152258\n",
      "base_gerada/1966.csv\n"
     ]
    },
    {
     "name": "stdout",
     "output_type": "stream",
     "text": [
      "base_gerada/1966.csv\n",
      "Tempo de Execução:  0:00:00.380937\n",
      "base_gerada/1969.csv\n"
     ]
    },
    {
     "name": "stdout",
     "output_type": "stream",
     "text": [
      "base_gerada/1969.csv\n",
      "Tempo de Execução:  0:00:00.343824\n",
      "base_gerada/1974.csv\n"
     ]
    },
    {
     "name": "stdout",
     "output_type": "stream",
     "text": [
      "base_gerada/1974.csv\n",
      "Tempo de Execução:  0:00:00.395177\n",
      "base_gerada/1983.csv\n"
     ]
    },
    {
     "name": "stdout",
     "output_type": "stream",
     "text": [
      "base_gerada/1983.csv\n",
      "Tempo de Execução:  0:00:00.367134\n",
      "base_gerada/1967.csv\n"
     ]
    },
    {
     "name": "stdout",
     "output_type": "stream",
     "text": [
      "base_gerada/1967.csv\n",
      "Tempo de Execução:  0:00:00.343446\n",
      "base_gerada/1976.csv\n"
     ]
    },
    {
     "name": "stdout",
     "output_type": "stream",
     "text": [
      "base_gerada/1976.csv\n",
      "Tempo de Execução:  0:00:00.315962\n",
      "base_gerada/1972.csv\n"
     ]
    },
    {
     "name": "stdout",
     "output_type": "stream",
     "text": [
      "base_gerada/1972.csv\n",
      "Tempo de Execução:  0:00:00.330434\n",
      "base_gerada/1987.csv\n"
     ]
    },
    {
     "name": "stdout",
     "output_type": "stream",
     "text": [
      "base_gerada/1987.csv\n",
      "Tempo de Execução:  0:00:00.357719\n",
      "[20:6:34:237475]\u001b[43m\u001b[30m[ INFO  ]\u001b[0m : Etapa 2 - Data Quality | Fim do Processo !\n"
     ]
    }
   ],
   "source": [
    "def main():  \n",
    "  console_log.info(\"Enriquecendo dados com base de UF\")\n",
    "  for csv in bases:\n",
    "    if csv.split(\".\")[0].isnumeric() != False:\n",
    "      inicio = dt.now()  \n",
    "    \n",
    "      print(\"base_gerada/\"+csv)\n",
    "      path = \"base_gerada/\"+csv\n",
    "      quality = DataQuality(df=path,\n",
    "                   ufs=\"https://raw.githubusercontent.com/mapaslivres/municipios-br/main/tabelas/ufs.csv\")\n",
    "    \n",
    "      df, ufs = quality.load_bases() \n",
    "      df = quality.rename_df()\n",
    "      base_enriquecida = quality.inner_join(ufs=ufs[['timezone','no_accents','macroregion','uf_code']], df=df,key='uf_code')\n",
    "      \n",
    "      path_save = \"base_gerada/{}\".format(csv)\n",
    "      print(path_save)\n",
    "      base_enriquecida.to_csv(path_save,index=False)\n",
    "      print(\"Tempo de Execução: \",dt.now()-inicio)\n",
    "    \n",
    "      del df\n",
    "      del base_enriquecida\n",
    "        \n",
    "  console_log.info(\"Fim do Processo !\")\n",
    "      \n",
    "      \n",
    "if __name__ == \"__main__\":\n",
    "    main()"
   ]
  },
  {
   "cell_type": "code",
   "execution_count": null,
   "id": "a8e86b91-547b-4971-bf6e-c8be8a5f2206",
   "metadata": {
    "papermill": {
     "duration": 0.032932,
     "end_time": "2021-12-11T20:06:34.324307",
     "exception": false,
     "start_time": "2021-12-11T20:06:34.291375",
     "status": "completed"
    },
    "tags": []
   },
   "outputs": [],
   "source": []
  },
  {
   "cell_type": "code",
   "execution_count": null,
   "id": "591c8134-a364-4890-b566-5bfb0adbbe33",
   "metadata": {
    "papermill": {
     "duration": 0.033148,
     "end_time": "2021-12-11T20:06:34.390149",
     "exception": false,
     "start_time": "2021-12-11T20:06:34.357001",
     "status": "completed"
    },
    "tags": []
   },
   "outputs": [],
   "source": []
  }
 ],
 "metadata": {
  "kernelspec": {
   "display_name": "Python 3 (ipykernel)",
   "language": "python",
   "name": "python3"
  },
  "language_info": {
   "codemirror_mode": {
    "name": "ipython",
    "version": 3
   },
   "file_extension": ".py",
   "mimetype": "text/x-python",
   "name": "python",
   "nbconvert_exporter": "python",
   "pygments_lexer": "ipython3",
   "version": "3.9.7"
  },
  "papermill": {
   "default_parameters": {},
   "duration": 11.598478,
   "end_time": "2021-12-11T20:06:34.630747",
   "environment_variables": {},
   "exception": null,
   "input_path": "/home/jovyan/talent-data-analyst-lv4/Etapa 2/Enriquecimento.ipynb",
   "output_path": "/home/jovyan/talent-data-analyst-lv4/Etapa 2/Enriquecimento.ipynb",
   "parameters": {},
   "start_time": "2021-12-11T20:06:23.032269",
   "version": "2.3.3"
  }
 },
 "nbformat": 4,
 "nbformat_minor": 5
}