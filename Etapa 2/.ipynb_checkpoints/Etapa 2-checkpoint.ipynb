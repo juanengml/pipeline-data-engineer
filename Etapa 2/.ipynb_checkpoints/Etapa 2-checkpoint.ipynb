{
 "cells": [
  {
   "cell_type": "markdown",
   "id": "d40ec309-75ae-44bb-b8ff-3364a3473aeb",
   "metadata": {},
   "source": [
    "## Problema 2: Você deverá implementar um programa, para ler, tratar e particionar os dados.\n",
    "\n",
    "O arquivo fonte está disponível em https://st-it-cloud-public.s3.amazonaws.com/people-v2_1E6.csv.gz\n",
    "\n",
    "### Data Quality\n",
    "\n",
    "- Higienizar e homogenizar o formato da coluna document\n",
    "- Detectar através da coluna document se o registro é de uma Pessoa Física ou Pessoa Jurídica, adicionando uma coluna com essa informação\n",
    "- Higienizar e homogenizar o formato da coluna birthDate\n",
    "\n",
    "- Existem duas colunas nesse dataset que em alguns registros estão trocadas. Quais são essas colunas?\n",
    "- Corrigir os dados com as colunas trocadas\n",
    "- Além desses pontos, existem outras tratamentos para homogenizar esse dataset. Aplique todos que conseguir.\n",
    "\n",
    "### Agregação dos dados\n",
    "- Quais são as 5 PF que mais gastaram (totalSpent)?\n",
    "- Qual é o valor de gasto médio por estado (state)?\n",
    "- Qual é o valor de gasto médio por jobArea?\n",
    "- Qual é a PF que gastou menos (totalSpent)?\n",
    "- Quantos nomes e documentos repetidos existem nesse dataset?\n",
    "- Quantas linhas existem nesse dataset?\n",
    "\n",
    "\n",
    "### Particionamento de dados tratados com as regras descritas em DATA QUALITY\n",
    "- Particionar em arquivos PARQUET por estado (state)\n",
    "- Particionar em arquivos CSV por ano/mes/dia de nascimento (birthDate)"
   ]
  },
  {
   "cell_type": "code",
   "execution_count": null,
   "id": "fb5ce021-5607-4fb4-947f-26caa8dc7eb6",
   "metadata": {},
   "outputs": [],
   "source": []
  }
 ],
 "metadata": {
  "kernelspec": {
   "display_name": "Python 3 (ipykernel)",
   "language": "python",
   "name": "python3"
  },
  "language_info": {
   "codemirror_mode": {
    "name": "ipython",
    "version": 3
   },
   "file_extension": ".py",
   "mimetype": "text/x-python",
   "name": "python",
   "nbconvert_exporter": "python",
   "pygments_lexer": "ipython3",
   "version": "3.9.7"
  }
 },
 "nbformat": 4,
 "nbformat_minor": 5
}
