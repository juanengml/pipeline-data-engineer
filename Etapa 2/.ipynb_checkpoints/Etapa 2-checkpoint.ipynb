{
 "cells": [
  {
   "cell_type": "markdown",
   "id": "d40ec309-75ae-44bb-b8ff-3364a3473aeb",
   "metadata": {
    "papermill": {
     "duration": 0.126158,
     "end_time": "2021-12-09T21:29:04.818399",
     "exception": false,
     "start_time": "2021-12-09T21:29:04.692241",
     "status": "completed"
    },
    "tags": []
   },
   "source": [
    "## Problema 2: Você deverá implementar um programa, para ler, tratar e particionar os dados.\n",
    "\n",
    "O arquivo fonte está disponível em https://st-it-cloud-public.s3.amazonaws.com/people-v2_1E6.csv.gz\n"
   ]
  },
  {
   "cell_type": "markdown",
   "id": "a21cc882-15c2-4b0d-84bd-dd042e3b80ca",
   "metadata": {
    "papermill": {
     "duration": 0.130672,
     "end_time": "2021-12-09T21:29:05.073236",
     "exception": false,
     "start_time": "2021-12-09T21:29:04.942564",
     "status": "completed"
    },
    "tags": []
   },
   "source": [
    "\n",
    "### Data Quality\n",
    "\n",
    "- Higienizar e homogenizar o formato da coluna document\n",
    "- Detectar através da coluna document se o registro é de uma Pessoa Física ou Pessoa Jurídica, adicionando uma coluna com essa informação\n",
    "- Higienizar e homogenizar o formato da coluna birthDate\n",
    "\n",
    "- Existem duas colunas nesse dataset que em alguns registros estão trocadas. Quais são essas colunas?\n",
    "- Corrigir os dados com as colunas trocadas\n",
    "- Além desses pontos, existem outras tratamentos para homogenizar esse dataset. Aplique todos que conseguir.\n"
   ]
  },
  {
   "cell_type": "code",
   "execution_count": 1,
   "id": "dab108ab-8c39-452d-a386-3f4691dfa46f",
   "metadata": {
    "papermill": {
     "duration": 1.052867,
     "end_time": "2021-12-09T21:29:06.271668",
     "exception": false,
     "start_time": "2021-12-09T21:29:05.218801",
     "status": "completed"
    },
    "tags": []
   },
   "outputs": [],
   "source": [
    "from console_logging.console import Console\n",
    "console = Console()\n",
    "from datetime import datetime as dt\n",
    "from Enriquecimento_UF import Logs"
   ]
  },
  {
   "cell_type": "markdown",
   "id": "9b60d6fa-f77f-40c1-97ac-9051c162aabb",
   "metadata": {
    "papermill": {
     "duration": 0.126897,
     "end_time": "2021-12-09T21:29:06.546026",
     "exception": false,
     "start_time": "2021-12-09T21:29:06.419129",
     "status": "completed"
    },
    "tags": []
   },
   "source": [
    "## Carregando Base "
   ]
  },
  {
   "cell_type": "code",
   "execution_count": null,
   "id": "69b92ae4-d2de-49e0-bee6-17709e735136",
   "metadata": {
    "papermill": {
     "duration": null,
     "end_time": null,
     "exception": false,
     "start_time": "2021-12-09T21:29:06.677754",
     "status": "running"
    },
    "tags": []
   },
   "outputs": [
    {
     "name": "stdout",
     "output_type": "stream",
     "text": [
      "[21:30:39:361464]\u001b[43m\u001b[30m[ INFO  ]\u001b[0m : Etapa 2 - Data Clear | Loading dataset :https://st-it-cloud-public.s3.amazonaws.com/people-v2_1E6.csv.gz\n"
     ]
    },
    {
     "name": "stderr",
     "output_type": "stream",
     "text": [
      "/opt/conda/lib/python3.9/site-packages/IPython/core/interactiveshell.py:3444: FutureWarning: The error_bad_lines argument has been deprecated and will be removed in a future version.\n",
      "\n",
      "\n",
      "  exec(code_obj, self.user_global_ns, self.user_ns)\n"
     ]
    }
   ],
   "source": [
    "import pandas as pd\n",
    "import numpy as np\n",
    "import re\n",
    "\n",
    "etapa = \"Etapa 2 - Data Clear\"\n",
    "\n",
    "console_log = Logs(etapa)\n",
    "\n",
    "dataset = \"https://st-it-cloud-public.s3.amazonaws.com/people-v2_1E6.csv.gz\"\n",
    "\n",
    "\n",
    "console_log.info(\"Loading dataset :\" +dataset)\n",
    "\n",
    "\n",
    "df = pd.read_csv(dataset,compression='gzip',error_bad_lines=False,sep=';',low_memory=False)"
   ]
  },
  {
   "cell_type": "markdown",
   "id": "b2388a67-f106-4ba0-a3a8-de4e6e1f4e4a",
   "metadata": {
    "papermill": {
     "duration": null,
     "end_time": null,
     "exception": null,
     "start_time": null,
     "status": "pending"
    },
    "tags": []
   },
   "source": [
    "## Removendo caracter especial da coluna Document"
   ]
  },
  {
   "cell_type": "code",
   "execution_count": null,
   "id": "a66889d9-7fa2-4503-a0e0-e39f7b9beaf0",
   "metadata": {
    "papermill": {
     "duration": null,
     "end_time": null,
     "exception": null,
     "start_time": null,
     "status": "pending"
    },
    "tags": []
   },
   "outputs": [],
   "source": []
  },
  {
   "cell_type": "code",
   "execution_count": null,
   "id": "62100a11-21df-4934-88b4-d61825d2b870",
   "metadata": {
    "papermill": {
     "duration": null,
     "end_time": null,
     "exception": null,
     "start_time": null,
     "status": "pending"
    },
    "tags": []
   },
   "outputs": [],
   "source": [
    "console_log.info(\"Removento caracter especial\")\n",
    "df['document'] = df['document'].apply(lambda x: re.sub('[^A-Za-z0-9]+', '', x))"
   ]
  },
  {
   "cell_type": "code",
   "execution_count": null,
   "id": "eabbd3c7-e237-466d-af2d-f126dac77239",
   "metadata": {
    "papermill": {
     "duration": null,
     "end_time": null,
     "exception": null,
     "start_time": null,
     "status": "pending"
    },
    "tags": []
   },
   "outputs": [],
   "source": [
    "df.head()"
   ]
  },
  {
   "cell_type": "markdown",
   "id": "3353745f-a1f4-4f30-84cd-8b08501ec7c7",
   "metadata": {
    "papermill": {
     "duration": null,
     "end_time": null,
     "exception": null,
     "start_time": null,
     "status": "pending"
    },
    "tags": []
   },
   "source": [
    "## Avaliando Doc para Pessoas Juridica ou Fisica"
   ]
  },
  {
   "cell_type": "code",
   "execution_count": null,
   "id": "983313d5-4f81-4321-a446-a201cee2f434",
   "metadata": {
    "papermill": {
     "duration": null,
     "end_time": null,
     "exception": null,
     "start_time": null,
     "status": "pending"
    },
    "tags": []
   },
   "outputs": [],
   "source": [
    "\n",
    "console_log.info(\"Criando Coluna Pessoas, Pessoa fisica x Pessoa Juridica\")\n",
    "df['PESSOA'] = df['document'].apply(lambda document: \"JURIDICA\" if len(str(document)) == 14 else \"FISICA\")"
   ]
  },
  {
   "cell_type": "markdown",
   "id": "ed1d6847-230d-43d2-ae82-55a8af51858d",
   "metadata": {
    "papermill": {
     "duration": null,
     "end_time": null,
     "exception": null,
     "start_time": null,
     "status": "pending"
    },
    "tags": []
   },
   "source": [
    "## Correção e Parse de Data Hora"
   ]
  },
  {
   "cell_type": "code",
   "execution_count": null,
   "id": "884fb740-e46d-488b-8a08-cda633845350",
   "metadata": {
    "papermill": {
     "duration": null,
     "end_time": null,
     "exception": null,
     "start_time": null,
     "status": "pending"
    },
    "tags": []
   },
   "outputs": [],
   "source": [
    "from dateutil.parser import parse\n",
    "\n",
    "console_log.info(\"CORREÇÃO DATA HORA\")\n",
    "\n",
    "console.info(\"INICIO CORREÇÃO DATA HORA\")\n",
    "inicio = dt.now()\n",
    "df['birthDate'] = df['birthDate'].apply(lambda date: parse (date))\n",
    "\n",
    "console.info(\"FIM CORREÇÃO HORA\")\n",
    "\n",
    "console.log(\"Tempo de Exec: \"+str(dt.now() - inicio))"
   ]
  },
  {
   "cell_type": "markdown",
   "id": "0f8a2848-117e-4196-8a54-a0c88bd333a1",
   "metadata": {
    "papermill": {
     "duration": null,
     "end_time": null,
     "exception": null,
     "start_time": null,
     "status": "pending"
    },
    "tags": []
   },
   "source": [
    "## Processo de correção de phoneNumber e Job Area"
   ]
  },
  {
   "cell_type": "code",
   "execution_count": null,
   "id": "a996b69f-c30a-480d-a6af-1cd7fef5699f",
   "metadata": {
    "papermill": {
     "duration": null,
     "end_time": null,
     "exception": null,
     "start_time": null,
     "status": "pending"
    },
    "tags": []
   },
   "outputs": [],
   "source": [
    "df['phoneNumber'] = df['phoneNumber'].apply(lambda x: re.sub('[^A-Za-z0-9]+', '', x))"
   ]
  },
  {
   "cell_type": "code",
   "execution_count": null,
   "id": "fec3e229-560e-4345-86e7-72346f024c1f",
   "metadata": {
    "papermill": {
     "duration": null,
     "end_time": null,
     "exception": null,
     "start_time": null,
     "status": "pending"
    },
    "tags": []
   },
   "outputs": [],
   "source": [
    "df['jobArea'] = df['jobArea'].apply(lambda x: x.replace(\"+\",\"\").replace(\"(\",\"\").replace(\")\",\"\").replace(\"-\",\"\").replace(\" \",\"\"))"
   ]
  },
  {
   "cell_type": "code",
   "execution_count": null,
   "id": "1c06af22-fd5c-4293-a1c9-17309819e4d4",
   "metadata": {
    "papermill": {
     "duration": null,
     "end_time": null,
     "exception": null,
     "start_time": null,
     "status": "pending"
    },
    "tags": []
   },
   "outputs": [],
   "source": [
    "df.iloc[[20,21,22,42,44,45,46,49,63,70]]"
   ]
  },
  {
   "cell_type": "code",
   "execution_count": null,
   "id": "ea6c0633-f0b7-4c14-92a4-28f6e61bb7d1",
   "metadata": {
    "papermill": {
     "duration": null,
     "end_time": null,
     "exception": null,
     "start_time": null,
     "status": "pending"
    },
    "tags": []
   },
   "outputs": [],
   "source": [
    "def fuck_corrige(df):\n",
    "    aux = df.copy()\n",
    "\n",
    "    for ids,item in df[['jobArea','phoneNumber']].iterrows():\n",
    "        if item['jobArea'].isnumeric() == True and item['phoneNumber'].isnumeric() == False:\n",
    "              aux.loc[ids,\"jobArea\"] = item[\"phoneNumber\"]\n",
    "              aux.loc[ids,\"phoneNumber\"]= item [\"jobArea\"]\n",
    "\n",
    "        if item[\"jobArea\"].isnumeric() == False and item['phoneNumber'].isnumeric() == True:\n",
    "            pass    \n",
    "        \n",
    "        if item[\"jobArea\"].isnumeric() == True and item['phoneNumber'].isnumeric() == True:\n",
    "            aux.loc[ids,\"jobArea\"] =  \"\"\n",
    "\n",
    "        if item[\"jobArea\"].isnumeric() == False and item['phoneNumber'].isnumeric() == False:\n",
    "            aux.loc[ids,\"phoneNumber\"]= \"\" \n",
    "    return aux \n"
   ]
  },
  {
   "cell_type": "code",
   "execution_count": null,
   "id": "81e8cd48-72c7-4f0d-9342-5f95367a1ee6",
   "metadata": {
    "papermill": {
     "duration": null,
     "end_time": null,
     "exception": null,
     "start_time": null,
     "status": "pending"
    },
    "tags": []
   },
   "outputs": [],
   "source": [
    "\n",
    "inicio = dt.now()\n",
    "console_log.info(\" TRATAMENTO DE COLUNAS \")\n",
    "\n",
    "df_aux = fuck_corrige(df)\n",
    "\n",
    "console.log(\"Tempo de Exec: \"+str(dt.now() - inicio))"
   ]
  },
  {
   "cell_type": "code",
   "execution_count": null,
   "id": "e38b6b98-0104-4abe-a44c-d140f706cff0",
   "metadata": {
    "papermill": {
     "duration": null,
     "end_time": null,
     "exception": null,
     "start_time": null,
     "status": "pending"
    },
    "tags": []
   },
   "outputs": [],
   "source": [
    "df.iloc[[20,21,22,42,44,45,46,49,63,70]]"
   ]
  },
  {
   "cell_type": "code",
   "execution_count": null,
   "id": "e0c2df8b-a5fa-4c0f-ab65-c0cc405e0e86",
   "metadata": {
    "papermill": {
     "duration": null,
     "end_time": null,
     "exception": null,
     "start_time": null,
     "status": "pending"
    },
    "tags": []
   },
   "outputs": [],
   "source": [
    "df_aux.iloc[[20,21,22,42,44,45,46,49,63,70]]"
   ]
  },
  {
   "cell_type": "markdown",
   "id": "48a20433-6100-4eee-b3ed-8bf7d51d3c18",
   "metadata": {
    "papermill": {
     "duration": null,
     "end_time": null,
     "exception": null,
     "start_time": null,
     "status": "pending"
    },
    "tags": []
   },
   "source": [
    "## Correção de UF "
   ]
  },
  {
   "cell_type": "code",
   "execution_count": null,
   "id": "d1686e8c-955e-4b67-bf08-dd7ee360d4e8",
   "metadata": {
    "papermill": {
     "duration": null,
     "end_time": null,
     "exception": null,
     "start_time": null,
     "status": "pending"
    },
    "tags": []
   },
   "outputs": [],
   "source": [
    "ufs = pd.read_csv(\"https://raw.githubusercontent.com/mapaslivres/municipios-br/main/tabelas/ufs.csv\")"
   ]
  },
  {
   "cell_type": "code",
   "execution_count": null,
   "id": "e7675c56-3722-4a51-9eef-f685c474cecd",
   "metadata": {
    "papermill": {
     "duration": null,
     "end_time": null,
     "exception": null,
     "start_time": null,
     "status": "pending"
    },
    "tags": []
   },
   "outputs": [],
   "source": [
    "!pip install fuzzywuzzy"
   ]
  },
  {
   "cell_type": "code",
   "execution_count": null,
   "id": "22707ff1-173b-4f95-b512-40a38596d50f",
   "metadata": {
    "papermill": {
     "duration": null,
     "end_time": null,
     "exception": null,
     "start_time": null,
     "status": "pending"
    },
    "tags": []
   },
   "outputs": [],
   "source": [
    "import string\n",
    "from fuzzywuzzy import fuzz\n",
    "\n",
    "console_log.info(\" CORRIGINDO UF \")\n",
    "\n",
    "lista_state = df_aux[['state']].groupby('state').count().index.tolist()\n",
    "\n",
    "for index, value in ufs[['uf_code','name']].iterrows():\n",
    "    #\n",
    "    for uf in lista_state:\n",
    "        distance = fuzz.ratio(value['name'], string.capwords(uf))  \n",
    "        if distance > 60:\n",
    "          print(value['uf_code'], value['name'],uf, distance)\n",
    "          query = \"state == '{}'\".format(uf)\n",
    "          print(query)  \n",
    "          lista_index_estados = df_aux.query(query).index.to_list()\n",
    "          df_aux.loc[lista_index_estados,'state'] = value['uf_code']  \n",
    "          "
   ]
  },
  {
   "cell_type": "code",
   "execution_count": null,
   "id": "fb720035-1913-49a4-9b2d-9765021d4614",
   "metadata": {
    "papermill": {
     "duration": null,
     "end_time": null,
     "exception": null,
     "start_time": null,
     "status": "pending"
    },
    "tags": []
   },
   "outputs": [],
   "source": [
    "df_aux"
   ]
  },
  {
   "cell_type": "markdown",
   "id": "ae338e8a-a329-4fd2-8102-e0e4b269be41",
   "metadata": {
    "papermill": {
     "duration": null,
     "end_time": null,
     "exception": null,
     "start_time": null,
     "status": "pending"
    },
    "tags": []
   },
   "source": [
    "## Salvando dados "
   ]
  },
  {
   "cell_type": "code",
   "execution_count": null,
   "id": "13a3d77e-9bb7-4e09-8575-8e8eb8857ed1",
   "metadata": {
    "papermill": {
     "duration": null,
     "end_time": null,
     "exception": null,
     "start_time": null,
     "status": "pending"
    },
    "tags": []
   },
   "outputs": [],
   "source": [
    "!mkdir base_gerada"
   ]
  },
  {
   "cell_type": "code",
   "execution_count": null,
   "id": "898b8adf-0348-4d41-b400-d41b08ee5b88",
   "metadata": {
    "papermill": {
     "duration": null,
     "end_time": null,
     "exception": null,
     "start_time": null,
     "status": "pending"
    },
    "tags": []
   },
   "outputs": [],
   "source": [
    "console_log.info(\" TRATANDO ANO  \")"
   ]
  },
  {
   "cell_type": "code",
   "execution_count": null,
   "id": "c76c0a16-8ebd-4dc5-b3c6-c4f188f24651",
   "metadata": {
    "papermill": {
     "duration": null,
     "end_time": null,
     "exception": null,
     "start_time": null,
     "status": "pending"
    },
    "tags": []
   },
   "outputs": [],
   "source": [
    "df_aux[\"Ano\"] = df_aux[\"birthDate\"].apply(lambda x:str(x).split(\"-\")[0])"
   ]
  },
  {
   "cell_type": "code",
   "execution_count": null,
   "id": "bfff8d7f-20a3-47cc-b87a-8ede730e6466",
   "metadata": {
    "papermill": {
     "duration": null,
     "end_time": null,
     "exception": null,
     "start_time": null,
     "status": "pending"
    },
    "tags": []
   },
   "outputs": [],
   "source": [
    "lista_anos = df_aux[['Ano']].groupby('Ano').count().index.tolist()"
   ]
  },
  {
   "cell_type": "code",
   "execution_count": null,
   "id": "22aa731b-7476-4766-affd-f40ce3f81cd6",
   "metadata": {
    "papermill": {
     "duration": null,
     "end_time": null,
     "exception": null,
     "start_time": null,
     "status": "pending"
    },
    "tags": []
   },
   "outputs": [],
   "source": [
    "[df_aux.query('Ano == \"{}\"'.format(ano)).to_csv(\"base_gerada/{}.csv\".format(ano),index=False)  for ano in lista_anos ]"
   ]
  },
  {
   "cell_type": "markdown",
   "id": "2ecef15b-6079-429c-8633-027728b62b41",
   "metadata": {
    "papermill": {
     "duration": null,
     "end_time": null,
     "exception": null,
     "start_time": null,
     "status": "pending"
    },
    "tags": []
   },
   "source": [
    "\n",
    "### Particionamento de dados tratados com as regras descritas em DATA QUALITY\n",
    "- Particionar em arquivos PARQUET por estado (state)\n",
    "- Particionar em arquivos CSV por ano/mes/dia de nascimento (birthDate)"
   ]
  },
  {
   "cell_type": "code",
   "execution_count": null,
   "id": "d43caec2-683a-4207-9f33-e3fd735026ba",
   "metadata": {
    "papermill": {
     "duration": null,
     "end_time": null,
     "exception": null,
     "start_time": null,
     "status": "pending"
    },
    "tags": []
   },
   "outputs": [],
   "source": [
    "!pip install fastparquet"
   ]
  },
  {
   "cell_type": "code",
   "execution_count": null,
   "id": "6d0f59aa-8966-4e2b-9f67-36ff17fd2652",
   "metadata": {
    "papermill": {
     "duration": null,
     "end_time": null,
     "exception": null,
     "start_time": null,
     "status": "pending"
    },
    "tags": []
   },
   "outputs": [],
   "source": [
    "df_aux.to_parquet('base_gerada/df.parquet.gzip',compression='gzip')"
   ]
  },
  {
   "cell_type": "code",
   "execution_count": null,
   "id": "8ffbff5a-18d6-424f-8508-420b7bd478d0",
   "metadata": {
    "papermill": {
     "duration": null,
     "end_time": null,
     "exception": null,
     "start_time": null,
     "status": "pending"
    },
    "tags": []
   },
   "outputs": [],
   "source": [
    "console_log.info(\" FIM ETAPA 2 - NOTEBOOK  \")"
   ]
  },
  {
   "cell_type": "markdown",
   "id": "150732e4-8982-4c1b-9fd6-cb17166bf0b5",
   "metadata": {
    "papermill": {
     "duration": null,
     "end_time": null,
     "exception": null,
     "start_time": null,
     "status": "pending"
    },
    "tags": []
   },
   "source": [
    "\n",
    "### Agregação dos dados Essa resposta estara no (BI) Metabase\n",
    "- Quais são as 5 PF que mais gastaram (totalSpent)?\n",
    "- Qual é o valor de gasto médio por estado (state)?\n",
    "- Qual é o valor de gasto médio por jobArea?\n",
    "- Qual é a PF que gastou menos (totalSpent)?\n",
    "- Quantos nomes e documentos repetidos existem nesse dataset?\n",
    "- Quantas linhas existem nesse dataset?\n",
    "\n"
   ]
  },
  {
   "cell_type": "code",
   "execution_count": null,
   "id": "fafe096c-5383-433d-9582-244b9d6cf4e9",
   "metadata": {
    "papermill": {
     "duration": null,
     "end_time": null,
     "exception": null,
     "start_time": null,
     "status": "pending"
    },
    "tags": []
   },
   "outputs": [],
   "source": []
  },
  {
   "cell_type": "code",
   "execution_count": null,
   "id": "55a6413e-b092-4d9c-91a7-8137d3775666",
   "metadata": {
    "papermill": {
     "duration": null,
     "end_time": null,
     "exception": null,
     "start_time": null,
     "status": "pending"
    },
    "tags": []
   },
   "outputs": [],
   "source": []
  }
 ],
 "metadata": {
  "kernelspec": {
   "display_name": "Python 3 (ipykernel)",
   "language": "python",
   "name": "python3"
  },
  "language_info": {
   "codemirror_mode": {
    "name": "ipython",
    "version": 3
   },
   "file_extension": ".py",
   "mimetype": "text/x-python",
   "name": "python",
   "nbconvert_exporter": "python",
   "pygments_lexer": "ipython3",
   "version": "3.9.7"
  },
  "papermill": {
   "default_parameters": {},
   "duration": null,
   "end_time": null,
   "environment_variables": {},
   "exception": null,
   "input_path": "/home/jovyan/talent-data-analyst-lv4/Etapa 2/Etapa 2.ipynb",
   "output_path": "/home/jovyan/talent-data-analyst-lv4/Etapa 2/Etapa 2.ipynb",
   "parameters": {},
   "start_time": "2021-12-09T21:29:03.168665",
   "version": "2.3.3"
  }
 },
 "nbformat": 4,
 "nbformat_minor": 5
}
