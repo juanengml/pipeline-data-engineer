{
 "cells": [
  {
   "cell_type": "markdown",
   "id": "1a8a131d",
   "metadata": {
    "tags": [
     "papermill-error-cell-tag"
    ]
   },
   "source": [
    "<span style=\"color:red; font-family:Helvetica Neue, Helvetica, Arial, sans-serif; font-size:2em;\">An Exception was encountered at '<a href=\"#papermill-error-cell\">In [17]</a>'.</span>"
   ]
  },
  {
   "cell_type": "markdown",
   "id": "d40ec309-75ae-44bb-b8ff-3364a3473aeb",
   "metadata": {
    "papermill": {
     "duration": 0.104382,
     "end_time": "2021-12-11T18:28:23.549917",
     "exception": false,
     "start_time": "2021-12-11T18:28:23.445535",
     "status": "completed"
    },
    "tags": []
   },
   "source": [
    "## Problema 2: Você deverá implementar um programa, para ler, tratar e particionar os dados.\n",
    "\n",
    "O arquivo fonte está disponível em https://st-it-cloud-public.s3.amazonaws.com/people-v2_1E6.csv.gz\n"
   ]
  },
  {
   "cell_type": "markdown",
   "id": "a21cc882-15c2-4b0d-84bd-dd042e3b80ca",
   "metadata": {
    "papermill": {
     "duration": 0.181582,
     "end_time": "2021-12-11T18:28:23.824515",
     "exception": false,
     "start_time": "2021-12-11T18:28:23.642933",
     "status": "completed"
    },
    "tags": []
   },
   "source": [
    "\n",
    "### Data Quality\n",
    "\n",
    "- Higienizar e homogenizar o formato da coluna document\n",
    "- Detectar através da coluna document se o registro é de uma Pessoa Física ou Pessoa Jurídica, adicionando uma coluna com essa informação\n",
    "- Higienizar e homogenizar o formato da coluna birthDate\n",
    "\n",
    "- Existem duas colunas nesse dataset que em alguns registros estão trocadas. Quais são essas colunas?\n",
    "- Corrigir os dados com as colunas trocadas\n",
    "- Além desses pontos, existem outras tratamentos para homogenizar esse dataset. Aplique todos que conseguir.\n"
   ]
  },
  {
   "cell_type": "code",
   "execution_count": 1,
   "id": "fe83f734-b52f-4fb7-9236-7ef1f614c159",
   "metadata": {
    "execution": {
     "iopub.execute_input": "2021-12-11T18:28:24.032247Z",
     "iopub.status.busy": "2021-12-11T18:28:24.031676Z",
     "iopub.status.idle": "2021-12-11T18:28:31.895198Z",
     "shell.execute_reply": "2021-12-11T18:28:31.891715Z"
    },
    "papermill": {
     "duration": 7.969093,
     "end_time": "2021-12-11T18:28:31.897189",
     "exception": false,
     "start_time": "2021-12-11T18:28:23.928096",
     "status": "completed"
    },
    "tags": []
   },
   "outputs": [
    {
     "name": "stdout",
     "output_type": "stream",
     "text": [
      "\u001b[33mWARNING: The directory '/home/jovyan/.cache/pip' or its parent directory is not owned or is not writable by the current user. The cache has been disabled. Check the permissions and owner of that directory. If executing pip with sudo, you should use sudo's -H flag.\u001b[0m\n",
      "Requirement already satisfied: console-logging in /opt/conda/lib/python3.9/site-packages (0.0.5.0)\n",
      "Requirement already satisfied: termcolor in /opt/conda/lib/python3.9/site-packages (from console-logging) (1.1.0)\n",
      "\u001b[33mWARNING: Running pip as the 'root' user can result in broken permissions and conflicting behaviour with the system package manager. It is recommended to use a virtual environment instead: https://pip.pypa.io/warnings/venv\u001b[0m\n",
      "\u001b[33mWARNING: The directory '/home/jovyan/.cache/pip' or its parent directory is not owned or is not writable by the current user. The cache has been disabled. Check the permissions and owner of that directory. If executing pip with sudo, you should use sudo's -H flag.\u001b[0m\n",
      "Requirement already satisfied: fuzzywuzzy in /opt/conda/lib/python3.9/site-packages (0.18.0)\n",
      "\u001b[33mWARNING: Running pip as the 'root' user can result in broken permissions and conflicting behaviour with the system package manager. It is recommended to use a virtual environment instead: https://pip.pypa.io/warnings/venv\u001b[0m\n",
      "Reading package lists... Done\n",
      "Building dependency tree       \n",
      "Reading state information... Done\n",
      "libmysqlclient-dev is already the newest version (8.0.27-0ubuntu0.20.04.1).\n",
      "0 upgraded, 0 newly installed, 0 to remove and 4 not upgraded.\n",
      "Requirement already satisfied: dataset in /opt/conda/lib/python3.9/site-packages (1.5.1)\n",
      "Requirement already satisfied: console-logging in /opt/conda/lib/python3.9/site-packages (0.0.5.0)\n",
      "Requirement already satisfied: mysqlclient in /opt/conda/lib/python3.9/site-packages (2.1.0)\n",
      "Requirement already satisfied: sqlalchemy>=1.3.2 in /opt/conda/lib/python3.9/site-packages (from dataset) (1.4.26)\n",
      "Requirement already satisfied: alembic>=0.6.2 in /opt/conda/lib/python3.9/site-packages (from dataset) (1.7.4)\n",
      "Requirement already satisfied: banal>=1.0.1 in /opt/conda/lib/python3.9/site-packages (from dataset) (1.0.6)\n",
      "Requirement already satisfied: termcolor in /opt/conda/lib/python3.9/site-packages (from console-logging) (1.1.0)\n",
      "Requirement already satisfied: Mako in /opt/conda/lib/python3.9/site-packages (from alembic>=0.6.2->dataset) (1.1.5)\n",
      "Requirement already satisfied: greenlet!=0.4.17 in /opt/conda/lib/python3.9/site-packages (from sqlalchemy>=1.3.2->dataset) (1.1.2)\n",
      "Requirement already satisfied: MarkupSafe>=0.9.2 in /opt/conda/lib/python3.9/site-packages (from Mako->alembic>=0.6.2->dataset) (2.0.1)\n",
      "\u001b[33mWARNING: Running pip as the 'root' user can result in broken permissions and conflicting behaviour with the system package manager. It is recommended to use a virtual environment instead: https://pip.pypa.io/warnings/venv\u001b[0m\n"
     ]
    }
   ],
   "source": [
    "!pip install console-logging  \n",
    "!pip install fuzzywuzzy\n",
    "!sudo apt-get install libmysqlclient-dev --yes\n",
    "!pip install dataset console-logging mysqlclient dataset --no-cache-dir"
   ]
  },
  {
   "cell_type": "code",
   "execution_count": 2,
   "id": "dab108ab-8c39-452d-a386-3f4691dfa46f",
   "metadata": {
    "execution": {
     "iopub.execute_input": "2021-12-11T18:28:32.187898Z",
     "iopub.status.busy": "2021-12-11T18:28:32.187359Z",
     "iopub.status.idle": "2021-12-11T18:28:32.657703Z",
     "shell.execute_reply": "2021-12-11T18:28:32.658128Z"
    },
    "papermill": {
     "duration": 0.58495,
     "end_time": "2021-12-11T18:28:32.658290",
     "exception": false,
     "start_time": "2021-12-11T18:28:32.073340",
     "status": "completed"
    },
    "tags": []
   },
   "outputs": [],
   "source": [
    "from console_logging.console import Console\n",
    "console = Console()\n",
    "from datetime import datetime as dt\n",
    "from Enriquecimento_UF import Logs"
   ]
  },
  {
   "cell_type": "markdown",
   "id": "9b60d6fa-f77f-40c1-97ac-9051c162aabb",
   "metadata": {
    "papermill": {
     "duration": 0.107636,
     "end_time": "2021-12-11T18:28:32.873520",
     "exception": false,
     "start_time": "2021-12-11T18:28:32.765884",
     "status": "completed"
    },
    "tags": []
   },
   "source": [
    "## Carregando Base "
   ]
  },
  {
   "cell_type": "code",
   "execution_count": 3,
   "id": "69b92ae4-d2de-49e0-bee6-17709e735136",
   "metadata": {
    "execution": {
     "iopub.execute_input": "2021-12-11T18:28:33.095382Z",
     "iopub.status.busy": "2021-12-11T18:28:33.094728Z",
     "iopub.status.idle": "2021-12-11T18:31:03.805591Z",
     "shell.execute_reply": "2021-12-11T18:31:03.805031Z"
    },
    "papermill": {
     "duration": 150.824968,
     "end_time": "2021-12-11T18:31:03.805745",
     "exception": false,
     "start_time": "2021-12-11T18:28:32.980777",
     "status": "completed"
    },
    "tags": []
   },
   "outputs": [
    {
     "name": "stdout",
     "output_type": "stream",
     "text": [
      "[18:28:33:93136]\u001b[43m\u001b[30m[ INFO  ]\u001b[0m : Etapa 2 - Data Clear | Loading dataset :https://st-it-cloud-public.s3.amazonaws.com/people-v2_1E6.csv.gz\n"
     ]
    },
    {
     "name": "stderr",
     "output_type": "stream",
     "text": [
      "/opt/conda/lib/python3.9/site-packages/IPython/core/interactiveshell.py:3444: FutureWarning: The error_bad_lines argument has been deprecated and will be removed in a future version.\n",
      "\n",
      "\n",
      "  exec(code_obj, self.user_global_ns, self.user_ns)\n"
     ]
    }
   ],
   "source": [
    "import pandas as pd\n",
    "import numpy as np\n",
    "import re\n",
    "\n",
    "etapa = \"Etapa 2 - Data Clear\"\n",
    "\n",
    "console_log = Logs(etapa)\n",
    "\n",
    "dataset = \"https://st-it-cloud-public.s3.amazonaws.com/people-v2_1E6.csv.gz\"\n",
    "\n",
    "\n",
    "console_log.info(\"Loading dataset :\" +dataset)\n",
    "\n",
    "\n",
    "df = pd.read_csv(dataset,compression='gzip',error_bad_lines=False,sep=';',low_memory=False)"
   ]
  },
  {
   "cell_type": "markdown",
   "id": "b2388a67-f106-4ba0-a3a8-de4e6e1f4e4a",
   "metadata": {
    "papermill": {
     "duration": 0.108751,
     "end_time": "2021-12-11T18:31:04.059560",
     "exception": false,
     "start_time": "2021-12-11T18:31:03.950809",
     "status": "completed"
    },
    "tags": []
   },
   "source": [
    "## Removendo caracter especial da coluna Document"
   ]
  },
  {
   "cell_type": "code",
   "execution_count": null,
   "id": "a66889d9-7fa2-4503-a0e0-e39f7b9beaf0",
   "metadata": {
    "papermill": {
     "duration": 0.108931,
     "end_time": "2021-12-11T18:31:04.276676",
     "exception": false,
     "start_time": "2021-12-11T18:31:04.167745",
     "status": "completed"
    },
    "tags": []
   },
   "outputs": [],
   "source": []
  },
  {
   "cell_type": "code",
   "execution_count": 4,
   "id": "62100a11-21df-4934-88b4-d61825d2b870",
   "metadata": {
    "execution": {
     "iopub.execute_input": "2021-12-11T18:31:04.498787Z",
     "iopub.status.busy": "2021-12-11T18:31:04.498188Z",
     "iopub.status.idle": "2021-12-11T18:31:06.026195Z",
     "shell.execute_reply": "2021-12-11T18:31:06.025507Z"
    },
    "papermill": {
     "duration": 1.641806,
     "end_time": "2021-12-11T18:31:06.026342",
     "exception": false,
     "start_time": "2021-12-11T18:31:04.384536",
     "status": "completed"
    },
    "tags": []
   },
   "outputs": [
    {
     "name": "stdout",
     "output_type": "stream",
     "text": [
      "[18:31:4:496366]\u001b[43m\u001b[30m[ INFO  ]\u001b[0m : Etapa 2 - Data Clear | Removento caracter especial\n"
     ]
    }
   ],
   "source": [
    "console_log.info(\"Removento caracter especial\")\n",
    "df['document'] = df['document'].apply(lambda x: re.sub('[^A-Za-z0-9]+', '', x))"
   ]
  },
  {
   "cell_type": "code",
   "execution_count": 5,
   "id": "eabbd3c7-e237-466d-af2d-f126dac77239",
   "metadata": {
    "execution": {
     "iopub.execute_input": "2021-12-11T18:31:06.262386Z",
     "iopub.status.busy": "2021-12-11T18:31:06.261827Z",
     "iopub.status.idle": "2021-12-11T18:31:06.277808Z",
     "shell.execute_reply": "2021-12-11T18:31:06.277289Z"
    },
    "papermill": {
     "duration": 0.134289,
     "end_time": "2021-12-11T18:31:06.277952",
     "exception": false,
     "start_time": "2021-12-11T18:31:06.143663",
     "status": "completed"
    },
    "tags": []
   },
   "outputs": [
    {
     "data": {
      "text/html": [
       "<div>\n",
       "<style scoped>\n",
       "    .dataframe tbody tr th:only-of-type {\n",
       "        vertical-align: middle;\n",
       "    }\n",
       "\n",
       "    .dataframe tbody tr th {\n",
       "        vertical-align: top;\n",
       "    }\n",
       "\n",
       "    .dataframe thead th {\n",
       "        text-align: right;\n",
       "    }\n",
       "</style>\n",
       "<table border=\"1\" class=\"dataframe\">\n",
       "  <thead>\n",
       "    <tr style=\"text-align: right;\">\n",
       "      <th></th>\n",
       "      <th>document</th>\n",
       "      <th>name</th>\n",
       "      <th>job</th>\n",
       "      <th>jobArea</th>\n",
       "      <th>jobType</th>\n",
       "      <th>phoneNumber</th>\n",
       "      <th>birthDate</th>\n",
       "      <th>city</th>\n",
       "      <th>state</th>\n",
       "      <th>totalSpent</th>\n",
       "    </tr>\n",
       "  </thead>\n",
       "  <tbody>\n",
       "    <tr>\n",
       "      <th>0</th>\n",
       "      <td>76684148787</td>\n",
       "      <td>Charlleny Braga</td>\n",
       "      <td>Oficial Criativo Dinâmico</td>\n",
       "      <td>Configuração</td>\n",
       "      <td>Estrategista</td>\n",
       "      <td>(62) 4216-9799</td>\n",
       "      <td>20-05-1972</td>\n",
       "      <td>Município de Iara</td>\n",
       "      <td>Goiás</td>\n",
       "      <td>913.80</td>\n",
       "    </tr>\n",
       "    <tr>\n",
       "      <th>1</th>\n",
       "      <td>85704855733</td>\n",
       "      <td>Newton Saraiva</td>\n",
       "      <td>Administrador Comunicações Internacional</td>\n",
       "      <td>Prestação de contas</td>\n",
       "      <td>Facilitador</td>\n",
       "      <td>Aplicações</td>\n",
       "      <td>10-Jun-1982</td>\n",
       "      <td>Município de Neide do Sul</td>\n",
       "      <td>RR</td>\n",
       "      <td>57.26</td>\n",
       "    </tr>\n",
       "    <tr>\n",
       "      <th>2</th>\n",
       "      <td>15664328373377</td>\n",
       "      <td>Dr. Sr. Solange Macedo</td>\n",
       "      <td>Designer Identidade Direto</td>\n",
       "      <td>Métricas</td>\n",
       "      <td>NaN</td>\n",
       "      <td>+55 (95) 7143-3307</td>\n",
       "      <td>05/16/1968</td>\n",
       "      <td>Município de Santo</td>\n",
       "      <td>RO</td>\n",
       "      <td>660.71</td>\n",
       "    </tr>\n",
       "    <tr>\n",
       "      <th>3</th>\n",
       "      <td>02328238087786</td>\n",
       "      <td>Celina Carvalho Jr.</td>\n",
       "      <td>NaN</td>\n",
       "      <td>Qualidade</td>\n",
       "      <td>Ligação</td>\n",
       "      <td>+55 (58) 4136-5577</td>\n",
       "      <td>19810417,</td>\n",
       "      <td>Reis do Norte</td>\n",
       "      <td>RO</td>\n",
       "      <td>542.51</td>\n",
       "    </tr>\n",
       "    <tr>\n",
       "      <th>4</th>\n",
       "      <td>30073687408740</td>\n",
       "      <td>Aurilo Martins</td>\n",
       "      <td>Especialista Paradigma Internacional</td>\n",
       "      <td>Programa</td>\n",
       "      <td>Executivo</td>\n",
       "      <td>(96) 47498-7325</td>\n",
       "      <td>04/07/1980</td>\n",
       "      <td>Município de Aminadab</td>\n",
       "      <td>RO</td>\n",
       "      <td>104.33</td>\n",
       "    </tr>\n",
       "  </tbody>\n",
       "</table>\n",
       "</div>"
      ],
      "text/plain": [
       "         document                    name  \\\n",
       "0     76684148787         Charlleny Braga   \n",
       "1     85704855733          Newton Saraiva   \n",
       "2  15664328373377  Dr. Sr. Solange Macedo   \n",
       "3  02328238087786     Celina Carvalho Jr.   \n",
       "4  30073687408740          Aurilo Martins   \n",
       "\n",
       "                                        job              jobArea  \\\n",
       "0                 Oficial Criativo Dinâmico         Configuração   \n",
       "1  Administrador Comunicações Internacional  Prestação de contas   \n",
       "2                Designer Identidade Direto             Métricas   \n",
       "3                                       NaN            Qualidade   \n",
       "4      Especialista Paradigma Internacional             Programa   \n",
       "\n",
       "        jobType         phoneNumber    birthDate                       city  \\\n",
       "0  Estrategista      (62) 4216-9799   20-05-1972          Município de Iara   \n",
       "1   Facilitador          Aplicações  10-Jun-1982  Município de Neide do Sul   \n",
       "2           NaN  +55 (95) 7143-3307   05/16/1968         Município de Santo   \n",
       "3       Ligação  +55 (58) 4136-5577    19810417,              Reis do Norte   \n",
       "4     Executivo     (96) 47498-7325   04/07/1980      Município de Aminadab   \n",
       "\n",
       "   state  totalSpent  \n",
       "0  Goiás      913.80  \n",
       "1     RR       57.26  \n",
       "2     RO      660.71  \n",
       "3     RO      542.51  \n",
       "4     RO      104.33  "
      ]
     },
     "execution_count": 5,
     "metadata": {},
     "output_type": "execute_result"
    }
   ],
   "source": [
    "df.head()"
   ]
  },
  {
   "cell_type": "markdown",
   "id": "3353745f-a1f4-4f30-84cd-8b08501ec7c7",
   "metadata": {
    "papermill": {
     "duration": 0.113363,
     "end_time": "2021-12-11T18:31:06.503054",
     "exception": false,
     "start_time": "2021-12-11T18:31:06.389691",
     "status": "completed"
    },
    "tags": []
   },
   "source": [
    "## Avaliando Doc para Pessoas Juridica ou Fisica"
   ]
  },
  {
   "cell_type": "code",
   "execution_count": 6,
   "id": "983313d5-4f81-4321-a446-a201cee2f434",
   "metadata": {
    "execution": {
     "iopub.execute_input": "2021-12-11T18:31:06.736169Z",
     "iopub.status.busy": "2021-12-11T18:31:06.735625Z",
     "iopub.status.idle": "2021-12-11T18:31:07.009260Z",
     "shell.execute_reply": "2021-12-11T18:31:07.009695Z"
    },
    "papermill": {
     "duration": 0.392784,
     "end_time": "2021-12-11T18:31:07.009878",
     "exception": false,
     "start_time": "2021-12-11T18:31:06.617094",
     "status": "completed"
    },
    "tags": []
   },
   "outputs": [
    {
     "name": "stdout",
     "output_type": "stream",
     "text": [
      "[18:31:6:733576]\u001b[43m\u001b[30m[ INFO  ]\u001b[0m : Etapa 2 - Data Clear | Criando Coluna Pessoas, Pessoa fisica x Pessoa Juridica\n"
     ]
    }
   ],
   "source": [
    "\n",
    "console_log.info(\"Criando Coluna Pessoas, Pessoa fisica x Pessoa Juridica\")\n",
    "df['PESSOA'] = df['document'].apply(lambda document: \"JURIDICA\" if len(str(document)) == 14 else \"FISICA\")"
   ]
  },
  {
   "cell_type": "markdown",
   "id": "ed1d6847-230d-43d2-ae82-55a8af51858d",
   "metadata": {
    "papermill": {
     "duration": 0.114203,
     "end_time": "2021-12-11T18:31:07.241785",
     "exception": false,
     "start_time": "2021-12-11T18:31:07.127582",
     "status": "completed"
    },
    "tags": []
   },
   "source": [
    "## Correção e Parse de Data Hora"
   ]
  },
  {
   "cell_type": "code",
   "execution_count": 7,
   "id": "884fb740-e46d-488b-8a08-cda633845350",
   "metadata": {
    "execution": {
     "iopub.execute_input": "2021-12-11T18:31:07.474513Z",
     "iopub.status.busy": "2021-12-11T18:31:07.473930Z",
     "iopub.status.idle": "2021-12-11T18:32:05.975988Z",
     "shell.execute_reply": "2021-12-11T18:32:05.976451Z"
    },
    "papermill": {
     "duration": 58.622439,
     "end_time": "2021-12-11T18:32:05.976681",
     "exception": false,
     "start_time": "2021-12-11T18:31:07.354242",
     "status": "completed"
    },
    "tags": []
   },
   "outputs": [
    {
     "name": "stdout",
     "output_type": "stream",
     "text": [
      "[18:31:7:472249]\u001b[43m\u001b[30m[ INFO  ]\u001b[0m : Etapa 2 - Data Clear | CORREÇÃO DATA HORA\n",
      "[18:31:7:481850]\u001b[43m\u001b[30m[ INFO  ]\u001b[0m : INICIO CORREÇÃO DATA HORA\n",
      "[18:32:5:845617]\u001b[43m\u001b[30m[ INFO  ]\u001b[0m : FIM CORREÇÃO HORA\n",
      "[18:32:5:845855]\u001b[7m[  LOG  ]\u001b[0m : Tempo de Exec: 0:00:58.363864\n"
     ]
    }
   ],
   "source": [
    "from dateutil.parser import parse\n",
    "\n",
    "console_log.info(\"CORREÇÃO DATA HORA\")\n",
    "\n",
    "console.info(\"INICIO CORREÇÃO DATA HORA\")\n",
    "inicio = dt.now()\n",
    "df['birthDate'] = df['birthDate'].apply(lambda date: parse (date))\n",
    "\n",
    "console.info(\"FIM CORREÇÃO HORA\")\n",
    "\n",
    "console.log(\"Tempo de Exec: \"+str(dt.now() - inicio))"
   ]
  },
  {
   "cell_type": "markdown",
   "id": "0f8a2848-117e-4196-8a54-a0c88bd333a1",
   "metadata": {
    "papermill": {
     "duration": 0.114404,
     "end_time": "2021-12-11T18:32:06.205786",
     "exception": false,
     "start_time": "2021-12-11T18:32:06.091382",
     "status": "completed"
    },
    "tags": []
   },
   "source": [
    "## Processo de correção de phoneNumber e Job Area"
   ]
  },
  {
   "cell_type": "code",
   "execution_count": 8,
   "id": "a996b69f-c30a-480d-a6af-1cd7fef5699f",
   "metadata": {
    "execution": {
     "iopub.execute_input": "2021-12-11T18:32:06.445207Z",
     "iopub.status.busy": "2021-12-11T18:32:06.444550Z",
     "iopub.status.idle": "2021-12-11T18:32:08.407899Z",
     "shell.execute_reply": "2021-12-11T18:32:08.408456Z"
    },
    "papermill": {
     "duration": 2.088396,
     "end_time": "2021-12-11T18:32:08.408651",
     "exception": false,
     "start_time": "2021-12-11T18:32:06.320255",
     "status": "completed"
    },
    "tags": []
   },
   "outputs": [],
   "source": [
    "df['phoneNumber'] = df['phoneNumber'].apply(lambda x: re.sub('[^A-Za-z0-9]+', '', x))"
   ]
  },
  {
   "cell_type": "code",
   "execution_count": 9,
   "id": "fec3e229-560e-4345-86e7-72346f024c1f",
   "metadata": {
    "execution": {
     "iopub.execute_input": "2021-12-11T18:32:08.685507Z",
     "iopub.status.busy": "2021-12-11T18:32:08.681753Z",
     "iopub.status.idle": "2021-12-11T18:32:09.150588Z",
     "shell.execute_reply": "2021-12-11T18:32:09.150991Z"
    },
    "papermill": {
     "duration": 0.598663,
     "end_time": "2021-12-11T18:32:09.151142",
     "exception": false,
     "start_time": "2021-12-11T18:32:08.552479",
     "status": "completed"
    },
    "tags": []
   },
   "outputs": [],
   "source": [
    "df['jobArea'] = df['jobArea'].apply(lambda x: x.replace(\"+\",\"\").replace(\"(\",\"\").replace(\")\",\"\").replace(\"-\",\"\").replace(\" \",\"\"))"
   ]
  },
  {
   "cell_type": "code",
   "execution_count": 10,
   "id": "1c06af22-fd5c-4293-a1c9-17309819e4d4",
   "metadata": {
    "execution": {
     "iopub.execute_input": "2021-12-11T18:32:09.663181Z",
     "iopub.status.busy": "2021-12-11T18:32:09.389081Z",
     "iopub.status.idle": "2021-12-11T18:32:09.782335Z",
     "shell.execute_reply": "2021-12-11T18:32:09.781690Z"
    },
    "papermill": {
     "duration": 0.511971,
     "end_time": "2021-12-11T18:32:09.782478",
     "exception": false,
     "start_time": "2021-12-11T18:32:09.270507",
     "status": "completed"
    },
    "tags": []
   },
   "outputs": [
    {
     "data": {
      "text/html": [
       "<div>\n",
       "<style scoped>\n",
       "    .dataframe tbody tr th:only-of-type {\n",
       "        vertical-align: middle;\n",
       "    }\n",
       "\n",
       "    .dataframe tbody tr th {\n",
       "        vertical-align: top;\n",
       "    }\n",
       "\n",
       "    .dataframe thead th {\n",
       "        text-align: right;\n",
       "    }\n",
       "</style>\n",
       "<table border=\"1\" class=\"dataframe\">\n",
       "  <thead>\n",
       "    <tr style=\"text-align: right;\">\n",
       "      <th></th>\n",
       "      <th>document</th>\n",
       "      <th>name</th>\n",
       "      <th>job</th>\n",
       "      <th>jobArea</th>\n",
       "      <th>jobType</th>\n",
       "      <th>phoneNumber</th>\n",
       "      <th>birthDate</th>\n",
       "      <th>city</th>\n",
       "      <th>state</th>\n",
       "      <th>totalSpent</th>\n",
       "      <th>PESSOA</th>\n",
       "    </tr>\n",
       "  </thead>\n",
       "  <tbody>\n",
       "    <tr>\n",
       "      <th>20</th>\n",
       "      <td>30608514374605</td>\n",
       "      <td>Vanilda Carvalho</td>\n",
       "      <td>Supervisor Paradigma Regional</td>\n",
       "      <td>Operações</td>\n",
       "      <td>Analista</td>\n",
       "      <td>5281574122</td>\n",
       "      <td>1979-04-11</td>\n",
       "      <td>Grande Hernandes de Nossa Senhora</td>\n",
       "      <td>AM</td>\n",
       "      <td>722.46</td>\n",
       "      <td>JURIDICA</td>\n",
       "    </tr>\n",
       "    <tr>\n",
       "      <th>21</th>\n",
       "      <td>65270593106</td>\n",
       "      <td>Flormira Costa Neto</td>\n",
       "      <td>Designer Prestação de contas Chefe</td>\n",
       "      <td>Mercados</td>\n",
       "      <td>NaN</td>\n",
       "      <td>44137571479</td>\n",
       "      <td>1972-11-14</td>\n",
       "      <td>Vila Tochie do Descoberto</td>\n",
       "      <td>PI</td>\n",
       "      <td>617.65</td>\n",
       "      <td>FISICA</td>\n",
       "    </tr>\n",
       "    <tr>\n",
       "      <th>22</th>\n",
       "      <td>35171180369</td>\n",
       "      <td>Vanoil Xavier Filho Filho</td>\n",
       "      <td>Analista Comunicações Corporativo</td>\n",
       "      <td>554729539641</td>\n",
       "      <td>Analista</td>\n",
       "      <td>Operaes</td>\n",
       "      <td>1979-09-25</td>\n",
       "      <td>Velha Fátima do Descoberto</td>\n",
       "      <td>Paraná</td>\n",
       "      <td>402.10</td>\n",
       "      <td>FISICA</td>\n",
       "    </tr>\n",
       "    <tr>\n",
       "      <th>42</th>\n",
       "      <td>27511213308</td>\n",
       "      <td>Leila Melo</td>\n",
       "      <td>Ligação Resposta Frente</td>\n",
       "      <td>553538379102</td>\n",
       "      <td>Analista</td>\n",
       "      <td>3978491494</td>\n",
       "      <td>1965-06-05</td>\n",
       "      <td>Deise do Sul</td>\n",
       "      <td>Tocantins</td>\n",
       "      <td>521.93</td>\n",
       "      <td>FISICA</td>\n",
       "    </tr>\n",
       "    <tr>\n",
       "      <th>44</th>\n",
       "      <td>18273161285</td>\n",
       "      <td>Sinezio Saraiva Filho</td>\n",
       "      <td>Produtor Fatores Diretor</td>\n",
       "      <td>71492839575</td>\n",
       "      <td>Associado</td>\n",
       "      <td>4067855749</td>\n",
       "      <td>1980-01-11</td>\n",
       "      <td>Angelino do Norte</td>\n",
       "      <td>Rio de Janeiro</td>\n",
       "      <td>195.40</td>\n",
       "      <td>FISICA</td>\n",
       "    </tr>\n",
       "    <tr>\n",
       "      <th>45</th>\n",
       "      <td>18091073500</td>\n",
       "      <td>Mauricio Costa</td>\n",
       "      <td>NaN</td>\n",
       "      <td>Implementação</td>\n",
       "      <td>Representante</td>\n",
       "      <td>551545325212</td>\n",
       "      <td>1970-11-05</td>\n",
       "      <td>NaN</td>\n",
       "      <td>Amapá</td>\n",
       "      <td>514.80</td>\n",
       "      <td>FISICA</td>\n",
       "    </tr>\n",
       "    <tr>\n",
       "      <th>46</th>\n",
       "      <td>28673547067</td>\n",
       "      <td>Dr. Laura Nogueira Filho</td>\n",
       "      <td>Ligação Operações Global</td>\n",
       "      <td>Configuração</td>\n",
       "      <td>Coordenador</td>\n",
       "      <td>556813989342</td>\n",
       "      <td>1977-10-23</td>\n",
       "      <td>Costa de Nossa Senhora</td>\n",
       "      <td>Espírito Santo</td>\n",
       "      <td>275.79</td>\n",
       "      <td>FISICA</td>\n",
       "    </tr>\n",
       "    <tr>\n",
       "      <th>49</th>\n",
       "      <td>91131730810</td>\n",
       "      <td>Rizia Carvalho</td>\n",
       "      <td>Assistente Integração Frente</td>\n",
       "      <td>554500855603</td>\n",
       "      <td>Oficial</td>\n",
       "      <td>2068756735</td>\n",
       "      <td>1985-09-23</td>\n",
       "      <td>NaN</td>\n",
       "      <td>Roraima</td>\n",
       "      <td>717.84</td>\n",
       "      <td>FISICA</td>\n",
       "    </tr>\n",
       "    <tr>\n",
       "      <th>63</th>\n",
       "      <td>27534718198</td>\n",
       "      <td>Srta. Emerson Neto</td>\n",
       "      <td>Técnico Aplicações Internacional</td>\n",
       "      <td>16392243386</td>\n",
       "      <td>NaN</td>\n",
       "      <td>555744493385</td>\n",
       "      <td>1970-11-19</td>\n",
       "      <td>NaN</td>\n",
       "      <td>AC</td>\n",
       "      <td>615.94</td>\n",
       "      <td>FISICA</td>\n",
       "    </tr>\n",
       "    <tr>\n",
       "      <th>70</th>\n",
       "      <td>39481762483</td>\n",
       "      <td>Dr. Valdirene Costa Neto</td>\n",
       "      <td>Executivo Marca Regional</td>\n",
       "      <td>40953777274</td>\n",
       "      <td>Produtor</td>\n",
       "      <td>08994475247</td>\n",
       "      <td>1972-03-30</td>\n",
       "      <td>Grande Jurema do Descoberto</td>\n",
       "      <td>Ceará</td>\n",
       "      <td>863.68</td>\n",
       "      <td>FISICA</td>\n",
       "    </tr>\n",
       "  </tbody>\n",
       "</table>\n",
       "</div>"
      ],
      "text/plain": [
       "          document                       name  \\\n",
       "20  30608514374605           Vanilda Carvalho   \n",
       "21     65270593106        Flormira Costa Neto   \n",
       "22     35171180369  Vanoil Xavier Filho Filho   \n",
       "42     27511213308                 Leila Melo   \n",
       "44     18273161285      Sinezio Saraiva Filho   \n",
       "45     18091073500             Mauricio Costa   \n",
       "46     28673547067   Dr. Laura Nogueira Filho   \n",
       "49     91131730810             Rizia Carvalho   \n",
       "63     27534718198         Srta. Emerson Neto   \n",
       "70     39481762483   Dr. Valdirene Costa Neto   \n",
       "\n",
       "                                   job        jobArea        jobType  \\\n",
       "20       Supervisor Paradigma Regional      Operações       Analista   \n",
       "21  Designer Prestação de contas Chefe       Mercados            NaN   \n",
       "22   Analista Comunicações Corporativo   554729539641       Analista   \n",
       "42             Ligação Resposta Frente   553538379102       Analista   \n",
       "44            Produtor Fatores Diretor    71492839575      Associado   \n",
       "45                                 NaN  Implementação  Representante   \n",
       "46            Ligação Operações Global   Configuração    Coordenador   \n",
       "49        Assistente Integração Frente   554500855603        Oficial   \n",
       "63    Técnico Aplicações Internacional    16392243386            NaN   \n",
       "70            Executivo Marca Regional    40953777274       Produtor   \n",
       "\n",
       "     phoneNumber  birthDate                               city  \\\n",
       "20    5281574122 1979-04-11  Grande Hernandes de Nossa Senhora   \n",
       "21   44137571479 1972-11-14          Vila Tochie do Descoberto   \n",
       "22       Operaes 1979-09-25         Velha Fátima do Descoberto   \n",
       "42    3978491494 1965-06-05                       Deise do Sul   \n",
       "44    4067855749 1980-01-11                  Angelino do Norte   \n",
       "45  551545325212 1970-11-05                                NaN   \n",
       "46  556813989342 1977-10-23             Costa de Nossa Senhora   \n",
       "49    2068756735 1985-09-23                                NaN   \n",
       "63  555744493385 1970-11-19                                NaN   \n",
       "70   08994475247 1972-03-30        Grande Jurema do Descoberto   \n",
       "\n",
       "             state  totalSpent    PESSOA  \n",
       "20              AM      722.46  JURIDICA  \n",
       "21              PI      617.65    FISICA  \n",
       "22          Paraná      402.10    FISICA  \n",
       "42       Tocantins      521.93    FISICA  \n",
       "44  Rio de Janeiro      195.40    FISICA  \n",
       "45           Amapá      514.80    FISICA  \n",
       "46  Espírito Santo      275.79    FISICA  \n",
       "49         Roraima      717.84    FISICA  \n",
       "63              AC      615.94    FISICA  \n",
       "70           Ceará      863.68    FISICA  "
      ]
     },
     "execution_count": 10,
     "metadata": {},
     "output_type": "execute_result"
    }
   ],
   "source": [
    "df.iloc[[20,21,22,42,44,45,46,49,63,70]]"
   ]
  },
  {
   "cell_type": "code",
   "execution_count": 11,
   "id": "ea6c0633-f0b7-4c14-92a4-28f6e61bb7d1",
   "metadata": {
    "execution": {
     "iopub.execute_input": "2021-12-11T18:32:10.032879Z",
     "iopub.status.busy": "2021-12-11T18:32:10.032309Z",
     "iopub.status.idle": "2021-12-11T18:32:10.035385Z",
     "shell.execute_reply": "2021-12-11T18:32:10.034955Z"
    },
    "papermill": {
     "duration": 0.127848,
     "end_time": "2021-12-11T18:32:10.035531",
     "exception": false,
     "start_time": "2021-12-11T18:32:09.907683",
     "status": "completed"
    },
    "tags": []
   },
   "outputs": [],
   "source": [
    "def fuck_corrige(df):\n",
    "    aux = df.copy()\n",
    "\n",
    "    for ids,item in df[['jobArea','phoneNumber']].iterrows():\n",
    "        if item['jobArea'].isnumeric() == True and item['phoneNumber'].isnumeric() == False:\n",
    "              aux.loc[ids,\"jobArea\"] = item[\"phoneNumber\"]\n",
    "              aux.loc[ids,\"phoneNumber\"]= item [\"jobArea\"]\n",
    "\n",
    "        if item[\"jobArea\"].isnumeric() == False and item['phoneNumber'].isnumeric() == True:\n",
    "            pass    \n",
    "        \n",
    "        if item[\"jobArea\"].isnumeric() == True and item['phoneNumber'].isnumeric() == True:\n",
    "            aux.loc[ids,\"jobArea\"] =  \"\"\n",
    "\n",
    "        if item[\"jobArea\"].isnumeric() == False and item['phoneNumber'].isnumeric() == False:\n",
    "            aux.loc[ids,\"phoneNumber\"]= \"\" \n",
    "    return aux \n"
   ]
  },
  {
   "cell_type": "code",
   "execution_count": 12,
   "id": "81e8cd48-72c7-4f0d-9342-5f95367a1ee6",
   "metadata": {
    "execution": {
     "iopub.execute_input": "2021-12-11T18:32:10.277323Z",
     "iopub.status.busy": "2021-12-11T18:32:10.274432Z",
     "iopub.status.idle": "2021-12-11T19:10:58.754843Z",
     "shell.execute_reply": "2021-12-11T19:10:58.755178Z"
    },
    "papermill": {
     "duration": 2328.603765,
     "end_time": "2021-12-11T19:10:58.755301",
     "exception": false,
     "start_time": "2021-12-11T18:32:10.151536",
     "status": "completed"
    },
    "tags": []
   },
   "outputs": [
    {
     "name": "stdout",
     "output_type": "stream",
     "text": [
      "[18:32:10:275223]\u001b[43m\u001b[30m[ INFO  ]\u001b[0m : Etapa 2 - Data Clear |  TRATAMENTO DE COLUNAS \n",
      "[19:10:58:668518]\u001b[7m[  LOG  ]\u001b[0m : Tempo de Exec: 0:38:48.393321\n"
     ]
    }
   ],
   "source": [
    "\n",
    "inicio = dt.now()\n",
    "console_log.info(\" TRATAMENTO DE COLUNAS \")\n",
    "\n",
    "df_aux = fuck_corrige(df)\n",
    "\n",
    "console.log(\"Tempo de Exec: \"+str(dt.now() - inicio))"
   ]
  },
  {
   "cell_type": "code",
   "execution_count": 13,
   "id": "e38b6b98-0104-4abe-a44c-d140f706cff0",
   "metadata": {
    "execution": {
     "iopub.execute_input": "2021-12-11T19:10:58.945421Z",
     "iopub.status.busy": "2021-12-11T19:10:58.945038Z",
     "iopub.status.idle": "2021-12-11T19:10:58.948100Z",
     "shell.execute_reply": "2021-12-11T19:10:58.947827Z"
    },
    "papermill": {
     "duration": 0.104241,
     "end_time": "2021-12-11T19:10:58.948176",
     "exception": false,
     "start_time": "2021-12-11T19:10:58.843935",
     "status": "completed"
    },
    "tags": []
   },
   "outputs": [
    {
     "data": {
      "text/html": [
       "<div>\n",
       "<style scoped>\n",
       "    .dataframe tbody tr th:only-of-type {\n",
       "        vertical-align: middle;\n",
       "    }\n",
       "\n",
       "    .dataframe tbody tr th {\n",
       "        vertical-align: top;\n",
       "    }\n",
       "\n",
       "    .dataframe thead th {\n",
       "        text-align: right;\n",
       "    }\n",
       "</style>\n",
       "<table border=\"1\" class=\"dataframe\">\n",
       "  <thead>\n",
       "    <tr style=\"text-align: right;\">\n",
       "      <th></th>\n",
       "      <th>document</th>\n",
       "      <th>name</th>\n",
       "      <th>job</th>\n",
       "      <th>jobArea</th>\n",
       "      <th>jobType</th>\n",
       "      <th>phoneNumber</th>\n",
       "      <th>birthDate</th>\n",
       "      <th>city</th>\n",
       "      <th>state</th>\n",
       "      <th>totalSpent</th>\n",
       "      <th>PESSOA</th>\n",
       "    </tr>\n",
       "  </thead>\n",
       "  <tbody>\n",
       "    <tr>\n",
       "      <th>20</th>\n",
       "      <td>30608514374605</td>\n",
       "      <td>Vanilda Carvalho</td>\n",
       "      <td>Supervisor Paradigma Regional</td>\n",
       "      <td>Operações</td>\n",
       "      <td>Analista</td>\n",
       "      <td>5281574122</td>\n",
       "      <td>1979-04-11</td>\n",
       "      <td>Grande Hernandes de Nossa Senhora</td>\n",
       "      <td>AM</td>\n",
       "      <td>722.46</td>\n",
       "      <td>JURIDICA</td>\n",
       "    </tr>\n",
       "    <tr>\n",
       "      <th>21</th>\n",
       "      <td>65270593106</td>\n",
       "      <td>Flormira Costa Neto</td>\n",
       "      <td>Designer Prestação de contas Chefe</td>\n",
       "      <td>Mercados</td>\n",
       "      <td>NaN</td>\n",
       "      <td>44137571479</td>\n",
       "      <td>1972-11-14</td>\n",
       "      <td>Vila Tochie do Descoberto</td>\n",
       "      <td>PI</td>\n",
       "      <td>617.65</td>\n",
       "      <td>FISICA</td>\n",
       "    </tr>\n",
       "    <tr>\n",
       "      <th>22</th>\n",
       "      <td>35171180369</td>\n",
       "      <td>Vanoil Xavier Filho Filho</td>\n",
       "      <td>Analista Comunicações Corporativo</td>\n",
       "      <td>554729539641</td>\n",
       "      <td>Analista</td>\n",
       "      <td>Operaes</td>\n",
       "      <td>1979-09-25</td>\n",
       "      <td>Velha Fátima do Descoberto</td>\n",
       "      <td>Paraná</td>\n",
       "      <td>402.10</td>\n",
       "      <td>FISICA</td>\n",
       "    </tr>\n",
       "    <tr>\n",
       "      <th>42</th>\n",
       "      <td>27511213308</td>\n",
       "      <td>Leila Melo</td>\n",
       "      <td>Ligação Resposta Frente</td>\n",
       "      <td>553538379102</td>\n",
       "      <td>Analista</td>\n",
       "      <td>3978491494</td>\n",
       "      <td>1965-06-05</td>\n",
       "      <td>Deise do Sul</td>\n",
       "      <td>Tocantins</td>\n",
       "      <td>521.93</td>\n",
       "      <td>FISICA</td>\n",
       "    </tr>\n",
       "    <tr>\n",
       "      <th>44</th>\n",
       "      <td>18273161285</td>\n",
       "      <td>Sinezio Saraiva Filho</td>\n",
       "      <td>Produtor Fatores Diretor</td>\n",
       "      <td>71492839575</td>\n",
       "      <td>Associado</td>\n",
       "      <td>4067855749</td>\n",
       "      <td>1980-01-11</td>\n",
       "      <td>Angelino do Norte</td>\n",
       "      <td>Rio de Janeiro</td>\n",
       "      <td>195.40</td>\n",
       "      <td>FISICA</td>\n",
       "    </tr>\n",
       "    <tr>\n",
       "      <th>45</th>\n",
       "      <td>18091073500</td>\n",
       "      <td>Mauricio Costa</td>\n",
       "      <td>NaN</td>\n",
       "      <td>Implementação</td>\n",
       "      <td>Representante</td>\n",
       "      <td>551545325212</td>\n",
       "      <td>1970-11-05</td>\n",
       "      <td>NaN</td>\n",
       "      <td>Amapá</td>\n",
       "      <td>514.80</td>\n",
       "      <td>FISICA</td>\n",
       "    </tr>\n",
       "    <tr>\n",
       "      <th>46</th>\n",
       "      <td>28673547067</td>\n",
       "      <td>Dr. Laura Nogueira Filho</td>\n",
       "      <td>Ligação Operações Global</td>\n",
       "      <td>Configuração</td>\n",
       "      <td>Coordenador</td>\n",
       "      <td>556813989342</td>\n",
       "      <td>1977-10-23</td>\n",
       "      <td>Costa de Nossa Senhora</td>\n",
       "      <td>Espírito Santo</td>\n",
       "      <td>275.79</td>\n",
       "      <td>FISICA</td>\n",
       "    </tr>\n",
       "    <tr>\n",
       "      <th>49</th>\n",
       "      <td>91131730810</td>\n",
       "      <td>Rizia Carvalho</td>\n",
       "      <td>Assistente Integração Frente</td>\n",
       "      <td>554500855603</td>\n",
       "      <td>Oficial</td>\n",
       "      <td>2068756735</td>\n",
       "      <td>1985-09-23</td>\n",
       "      <td>NaN</td>\n",
       "      <td>Roraima</td>\n",
       "      <td>717.84</td>\n",
       "      <td>FISICA</td>\n",
       "    </tr>\n",
       "    <tr>\n",
       "      <th>63</th>\n",
       "      <td>27534718198</td>\n",
       "      <td>Srta. Emerson Neto</td>\n",
       "      <td>Técnico Aplicações Internacional</td>\n",
       "      <td>16392243386</td>\n",
       "      <td>NaN</td>\n",
       "      <td>555744493385</td>\n",
       "      <td>1970-11-19</td>\n",
       "      <td>NaN</td>\n",
       "      <td>AC</td>\n",
       "      <td>615.94</td>\n",
       "      <td>FISICA</td>\n",
       "    </tr>\n",
       "    <tr>\n",
       "      <th>70</th>\n",
       "      <td>39481762483</td>\n",
       "      <td>Dr. Valdirene Costa Neto</td>\n",
       "      <td>Executivo Marca Regional</td>\n",
       "      <td>40953777274</td>\n",
       "      <td>Produtor</td>\n",
       "      <td>08994475247</td>\n",
       "      <td>1972-03-30</td>\n",
       "      <td>Grande Jurema do Descoberto</td>\n",
       "      <td>Ceará</td>\n",
       "      <td>863.68</td>\n",
       "      <td>FISICA</td>\n",
       "    </tr>\n",
       "  </tbody>\n",
       "</table>\n",
       "</div>"
      ],
      "text/plain": [
       "          document                       name  \\\n",
       "20  30608514374605           Vanilda Carvalho   \n",
       "21     65270593106        Flormira Costa Neto   \n",
       "22     35171180369  Vanoil Xavier Filho Filho   \n",
       "42     27511213308                 Leila Melo   \n",
       "44     18273161285      Sinezio Saraiva Filho   \n",
       "45     18091073500             Mauricio Costa   \n",
       "46     28673547067   Dr. Laura Nogueira Filho   \n",
       "49     91131730810             Rizia Carvalho   \n",
       "63     27534718198         Srta. Emerson Neto   \n",
       "70     39481762483   Dr. Valdirene Costa Neto   \n",
       "\n",
       "                                   job        jobArea        jobType  \\\n",
       "20       Supervisor Paradigma Regional      Operações       Analista   \n",
       "21  Designer Prestação de contas Chefe       Mercados            NaN   \n",
       "22   Analista Comunicações Corporativo   554729539641       Analista   \n",
       "42             Ligação Resposta Frente   553538379102       Analista   \n",
       "44            Produtor Fatores Diretor    71492839575      Associado   \n",
       "45                                 NaN  Implementação  Representante   \n",
       "46            Ligação Operações Global   Configuração    Coordenador   \n",
       "49        Assistente Integração Frente   554500855603        Oficial   \n",
       "63    Técnico Aplicações Internacional    16392243386            NaN   \n",
       "70            Executivo Marca Regional    40953777274       Produtor   \n",
       "\n",
       "     phoneNumber  birthDate                               city  \\\n",
       "20    5281574122 1979-04-11  Grande Hernandes de Nossa Senhora   \n",
       "21   44137571479 1972-11-14          Vila Tochie do Descoberto   \n",
       "22       Operaes 1979-09-25         Velha Fátima do Descoberto   \n",
       "42    3978491494 1965-06-05                       Deise do Sul   \n",
       "44    4067855749 1980-01-11                  Angelino do Norte   \n",
       "45  551545325212 1970-11-05                                NaN   \n",
       "46  556813989342 1977-10-23             Costa de Nossa Senhora   \n",
       "49    2068756735 1985-09-23                                NaN   \n",
       "63  555744493385 1970-11-19                                NaN   \n",
       "70   08994475247 1972-03-30        Grande Jurema do Descoberto   \n",
       "\n",
       "             state  totalSpent    PESSOA  \n",
       "20              AM      722.46  JURIDICA  \n",
       "21              PI      617.65    FISICA  \n",
       "22          Paraná      402.10    FISICA  \n",
       "42       Tocantins      521.93    FISICA  \n",
       "44  Rio de Janeiro      195.40    FISICA  \n",
       "45           Amapá      514.80    FISICA  \n",
       "46  Espírito Santo      275.79    FISICA  \n",
       "49         Roraima      717.84    FISICA  \n",
       "63              AC      615.94    FISICA  \n",
       "70           Ceará      863.68    FISICA  "
      ]
     },
     "execution_count": 13,
     "metadata": {},
     "output_type": "execute_result"
    }
   ],
   "source": [
    "df.iloc[[20,21,22,42,44,45,46,49,63,70]]"
   ]
  },
  {
   "cell_type": "code",
   "execution_count": 14,
   "id": "e0c2df8b-a5fa-4c0f-ab65-c0cc405e0e86",
   "metadata": {
    "execution": {
     "iopub.execute_input": "2021-12-11T19:10:59.142358Z",
     "iopub.status.busy": "2021-12-11T19:10:59.142010Z",
     "iopub.status.idle": "2021-12-11T19:10:59.145411Z",
     "shell.execute_reply": "2021-12-11T19:10:59.145067Z"
    },
    "papermill": {
     "duration": 0.106368,
     "end_time": "2021-12-11T19:10:59.145490",
     "exception": false,
     "start_time": "2021-12-11T19:10:59.039122",
     "status": "completed"
    },
    "tags": []
   },
   "outputs": [
    {
     "data": {
      "text/html": [
       "<div>\n",
       "<style scoped>\n",
       "    .dataframe tbody tr th:only-of-type {\n",
       "        vertical-align: middle;\n",
       "    }\n",
       "\n",
       "    .dataframe tbody tr th {\n",
       "        vertical-align: top;\n",
       "    }\n",
       "\n",
       "    .dataframe thead th {\n",
       "        text-align: right;\n",
       "    }\n",
       "</style>\n",
       "<table border=\"1\" class=\"dataframe\">\n",
       "  <thead>\n",
       "    <tr style=\"text-align: right;\">\n",
       "      <th></th>\n",
       "      <th>document</th>\n",
       "      <th>name</th>\n",
       "      <th>job</th>\n",
       "      <th>jobArea</th>\n",
       "      <th>jobType</th>\n",
       "      <th>phoneNumber</th>\n",
       "      <th>birthDate</th>\n",
       "      <th>city</th>\n",
       "      <th>state</th>\n",
       "      <th>totalSpent</th>\n",
       "      <th>PESSOA</th>\n",
       "    </tr>\n",
       "  </thead>\n",
       "  <tbody>\n",
       "    <tr>\n",
       "      <th>20</th>\n",
       "      <td>30608514374605</td>\n",
       "      <td>Vanilda Carvalho</td>\n",
       "      <td>Supervisor Paradigma Regional</td>\n",
       "      <td>Operações</td>\n",
       "      <td>Analista</td>\n",
       "      <td>5281574122</td>\n",
       "      <td>1979-04-11</td>\n",
       "      <td>Grande Hernandes de Nossa Senhora</td>\n",
       "      <td>AM</td>\n",
       "      <td>722.46</td>\n",
       "      <td>JURIDICA</td>\n",
       "    </tr>\n",
       "    <tr>\n",
       "      <th>21</th>\n",
       "      <td>65270593106</td>\n",
       "      <td>Flormira Costa Neto</td>\n",
       "      <td>Designer Prestação de contas Chefe</td>\n",
       "      <td>Mercados</td>\n",
       "      <td>NaN</td>\n",
       "      <td>44137571479</td>\n",
       "      <td>1972-11-14</td>\n",
       "      <td>Vila Tochie do Descoberto</td>\n",
       "      <td>PI</td>\n",
       "      <td>617.65</td>\n",
       "      <td>FISICA</td>\n",
       "    </tr>\n",
       "    <tr>\n",
       "      <th>22</th>\n",
       "      <td>35171180369</td>\n",
       "      <td>Vanoil Xavier Filho Filho</td>\n",
       "      <td>Analista Comunicações Corporativo</td>\n",
       "      <td>Operaes</td>\n",
       "      <td>Analista</td>\n",
       "      <td>554729539641</td>\n",
       "      <td>1979-09-25</td>\n",
       "      <td>Velha Fátima do Descoberto</td>\n",
       "      <td>Paraná</td>\n",
       "      <td>402.10</td>\n",
       "      <td>FISICA</td>\n",
       "    </tr>\n",
       "    <tr>\n",
       "      <th>42</th>\n",
       "      <td>27511213308</td>\n",
       "      <td>Leila Melo</td>\n",
       "      <td>Ligação Resposta Frente</td>\n",
       "      <td></td>\n",
       "      <td>Analista</td>\n",
       "      <td>3978491494</td>\n",
       "      <td>1965-06-05</td>\n",
       "      <td>Deise do Sul</td>\n",
       "      <td>Tocantins</td>\n",
       "      <td>521.93</td>\n",
       "      <td>FISICA</td>\n",
       "    </tr>\n",
       "    <tr>\n",
       "      <th>44</th>\n",
       "      <td>18273161285</td>\n",
       "      <td>Sinezio Saraiva Filho</td>\n",
       "      <td>Produtor Fatores Diretor</td>\n",
       "      <td></td>\n",
       "      <td>Associado</td>\n",
       "      <td>4067855749</td>\n",
       "      <td>1980-01-11</td>\n",
       "      <td>Angelino do Norte</td>\n",
       "      <td>Rio de Janeiro</td>\n",
       "      <td>195.40</td>\n",
       "      <td>FISICA</td>\n",
       "    </tr>\n",
       "    <tr>\n",
       "      <th>45</th>\n",
       "      <td>18091073500</td>\n",
       "      <td>Mauricio Costa</td>\n",
       "      <td>NaN</td>\n",
       "      <td>Implementação</td>\n",
       "      <td>Representante</td>\n",
       "      <td>551545325212</td>\n",
       "      <td>1970-11-05</td>\n",
       "      <td>NaN</td>\n",
       "      <td>Amapá</td>\n",
       "      <td>514.80</td>\n",
       "      <td>FISICA</td>\n",
       "    </tr>\n",
       "    <tr>\n",
       "      <th>46</th>\n",
       "      <td>28673547067</td>\n",
       "      <td>Dr. Laura Nogueira Filho</td>\n",
       "      <td>Ligação Operações Global</td>\n",
       "      <td>Configuração</td>\n",
       "      <td>Coordenador</td>\n",
       "      <td>556813989342</td>\n",
       "      <td>1977-10-23</td>\n",
       "      <td>Costa de Nossa Senhora</td>\n",
       "      <td>Espírito Santo</td>\n",
       "      <td>275.79</td>\n",
       "      <td>FISICA</td>\n",
       "    </tr>\n",
       "    <tr>\n",
       "      <th>49</th>\n",
       "      <td>91131730810</td>\n",
       "      <td>Rizia Carvalho</td>\n",
       "      <td>Assistente Integração Frente</td>\n",
       "      <td></td>\n",
       "      <td>Oficial</td>\n",
       "      <td>2068756735</td>\n",
       "      <td>1985-09-23</td>\n",
       "      <td>NaN</td>\n",
       "      <td>Roraima</td>\n",
       "      <td>717.84</td>\n",
       "      <td>FISICA</td>\n",
       "    </tr>\n",
       "    <tr>\n",
       "      <th>63</th>\n",
       "      <td>27534718198</td>\n",
       "      <td>Srta. Emerson Neto</td>\n",
       "      <td>Técnico Aplicações Internacional</td>\n",
       "      <td></td>\n",
       "      <td>NaN</td>\n",
       "      <td>555744493385</td>\n",
       "      <td>1970-11-19</td>\n",
       "      <td>NaN</td>\n",
       "      <td>AC</td>\n",
       "      <td>615.94</td>\n",
       "      <td>FISICA</td>\n",
       "    </tr>\n",
       "    <tr>\n",
       "      <th>70</th>\n",
       "      <td>39481762483</td>\n",
       "      <td>Dr. Valdirene Costa Neto</td>\n",
       "      <td>Executivo Marca Regional</td>\n",
       "      <td></td>\n",
       "      <td>Produtor</td>\n",
       "      <td>08994475247</td>\n",
       "      <td>1972-03-30</td>\n",
       "      <td>Grande Jurema do Descoberto</td>\n",
       "      <td>Ceará</td>\n",
       "      <td>863.68</td>\n",
       "      <td>FISICA</td>\n",
       "    </tr>\n",
       "  </tbody>\n",
       "</table>\n",
       "</div>"
      ],
      "text/plain": [
       "          document                       name  \\\n",
       "20  30608514374605           Vanilda Carvalho   \n",
       "21     65270593106        Flormira Costa Neto   \n",
       "22     35171180369  Vanoil Xavier Filho Filho   \n",
       "42     27511213308                 Leila Melo   \n",
       "44     18273161285      Sinezio Saraiva Filho   \n",
       "45     18091073500             Mauricio Costa   \n",
       "46     28673547067   Dr. Laura Nogueira Filho   \n",
       "49     91131730810             Rizia Carvalho   \n",
       "63     27534718198         Srta. Emerson Neto   \n",
       "70     39481762483   Dr. Valdirene Costa Neto   \n",
       "\n",
       "                                   job        jobArea        jobType  \\\n",
       "20       Supervisor Paradigma Regional      Operações       Analista   \n",
       "21  Designer Prestação de contas Chefe       Mercados            NaN   \n",
       "22   Analista Comunicações Corporativo        Operaes       Analista   \n",
       "42             Ligação Resposta Frente                      Analista   \n",
       "44            Produtor Fatores Diretor                     Associado   \n",
       "45                                 NaN  Implementação  Representante   \n",
       "46            Ligação Operações Global   Configuração    Coordenador   \n",
       "49        Assistente Integração Frente                       Oficial   \n",
       "63    Técnico Aplicações Internacional                           NaN   \n",
       "70            Executivo Marca Regional                      Produtor   \n",
       "\n",
       "     phoneNumber  birthDate                               city  \\\n",
       "20    5281574122 1979-04-11  Grande Hernandes de Nossa Senhora   \n",
       "21   44137571479 1972-11-14          Vila Tochie do Descoberto   \n",
       "22  554729539641 1979-09-25         Velha Fátima do Descoberto   \n",
       "42    3978491494 1965-06-05                       Deise do Sul   \n",
       "44    4067855749 1980-01-11                  Angelino do Norte   \n",
       "45  551545325212 1970-11-05                                NaN   \n",
       "46  556813989342 1977-10-23             Costa de Nossa Senhora   \n",
       "49    2068756735 1985-09-23                                NaN   \n",
       "63  555744493385 1970-11-19                                NaN   \n",
       "70   08994475247 1972-03-30        Grande Jurema do Descoberto   \n",
       "\n",
       "             state  totalSpent    PESSOA  \n",
       "20              AM      722.46  JURIDICA  \n",
       "21              PI      617.65    FISICA  \n",
       "22          Paraná      402.10    FISICA  \n",
       "42       Tocantins      521.93    FISICA  \n",
       "44  Rio de Janeiro      195.40    FISICA  \n",
       "45           Amapá      514.80    FISICA  \n",
       "46  Espírito Santo      275.79    FISICA  \n",
       "49         Roraima      717.84    FISICA  \n",
       "63              AC      615.94    FISICA  \n",
       "70           Ceará      863.68    FISICA  "
      ]
     },
     "execution_count": 14,
     "metadata": {},
     "output_type": "execute_result"
    }
   ],
   "source": [
    "df_aux.iloc[[20,21,22,42,44,45,46,49,63,70]]"
   ]
  },
  {
   "cell_type": "markdown",
   "id": "48a20433-6100-4eee-b3ed-8bf7d51d3c18",
   "metadata": {
    "papermill": {
     "duration": 0.093795,
     "end_time": "2021-12-11T19:10:59.332663",
     "exception": false,
     "start_time": "2021-12-11T19:10:59.238868",
     "status": "completed"
    },
    "tags": []
   },
   "source": [
    "## Correção de UF "
   ]
  },
  {
   "cell_type": "code",
   "execution_count": 15,
   "id": "d1686e8c-955e-4b67-bf08-dd7ee360d4e8",
   "metadata": {
    "execution": {
     "iopub.execute_input": "2021-12-11T19:10:59.518525Z",
     "iopub.status.busy": "2021-12-11T19:10:59.513664Z",
     "iopub.status.idle": "2021-12-11T19:10:59.822172Z",
     "shell.execute_reply": "2021-12-11T19:10:59.821643Z"
    },
    "papermill": {
     "duration": 0.396219,
     "end_time": "2021-12-11T19:10:59.822335",
     "exception": false,
     "start_time": "2021-12-11T19:10:59.426116",
     "status": "completed"
    },
    "tags": []
   },
   "outputs": [],
   "source": [
    "ufs = pd.read_csv(\"https://raw.githubusercontent.com/mapaslivres/municipios-br/main/tabelas/ufs.csv\")"
   ]
  },
  {
   "cell_type": "code",
   "execution_count": 16,
   "id": "e7675c56-3722-4a51-9eef-f685c474cecd",
   "metadata": {
    "execution": {
     "iopub.execute_input": "2021-12-11T19:11:00.013027Z",
     "iopub.status.busy": "2021-12-11T19:11:00.012659Z",
     "iopub.status.idle": "2021-12-11T19:11:01.590929Z",
     "shell.execute_reply": "2021-12-11T19:11:01.590556Z"
    },
    "papermill": {
     "duration": 1.67822,
     "end_time": "2021-12-11T19:11:01.591013",
     "exception": false,
     "start_time": "2021-12-11T19:10:59.912793",
     "status": "completed"
    },
    "tags": []
   },
   "outputs": [
    {
     "name": "stdout",
     "output_type": "stream",
     "text": [
      "\u001b[33mWARNING: The directory '/home/jovyan/.cache/pip' or its parent directory is not owned or is not writable by the current user. The cache has been disabled. Check the permissions and owner of that directory. If executing pip with sudo, you should use sudo's -H flag.\u001b[0m\n",
      "Requirement already satisfied: fuzzywuzzy in /opt/conda/lib/python3.9/site-packages (0.18.0)\n",
      "\u001b[33mWARNING: Running pip as the 'root' user can result in broken permissions and conflicting behaviour with the system package manager. It is recommended to use a virtual environment instead: https://pip.pypa.io/warnings/venv\u001b[0m\n"
     ]
    }
   ],
   "source": [
    "!pip install fuzzywuzzy"
   ]
  },
  {
   "cell_type": "markdown",
   "id": "b26cc9dd",
   "metadata": {
    "tags": [
     "papermill-error-cell-tag"
    ]
   },
   "source": [
    "<span id=\"papermill-error-cell\" style=\"color:red; font-family:Helvetica Neue, Helvetica, Arial, sans-serif; font-size:2em;\">Execution using papermill encountered an exception here and stopped:</span>"
   ]
  },
  {
   "cell_type": "code",
   "execution_count": 17,
   "id": "22707ff1-173b-4f95-b512-40a38596d50f",
   "metadata": {
    "collapsed": true,
    "execution": {
     "iopub.execute_input": "2021-12-11T19:11:01.781808Z",
     "iopub.status.busy": "2021-12-11T19:11:01.781162Z",
     "iopub.status.idle": "2021-12-11T19:11:01.869484Z",
     "shell.execute_reply": "2021-12-11T19:11:01.868724Z"
    },
    "jupyter": {
     "outputs_hidden": true
    },
    "papermill": {
     "duration": 0.189111,
     "end_time": "2021-12-11T19:11:01.869664",
     "exception": true,
     "start_time": "2021-12-11T19:11:01.680553",
     "status": "failed"
    },
    "tags": []
   },
   "outputs": [
    {
     "name": "stdout",
     "output_type": "stream",
     "text": [
      "[19:11:1:783529]\u001b[43m\u001b[30m[ INFO  ]\u001b[0m : Etapa 2 - Data Clear |  CORRIGINDO UF \n"
     ]
    },
    {
     "name": "stderr",
     "output_type": "stream",
     "text": [
      "/opt/conda/lib/python3.9/site-packages/fuzzywuzzy/fuzz.py:11: UserWarning: Using slow pure-python SequenceMatcher. Install python-Levenshtein to remove this warning\n",
      "  warnings.warn('Using slow pure-python SequenceMatcher. Install python-Levenshtein to remove this warning')\n"
     ]
    },
    {
     "ename": "OperationalError",
     "evalue": "(MySQLdb._exceptions.OperationalError) (2013, 'Lost connection to MySQL server during query')\n[SQL: INSERT INTO tlb_logs (`status`, dt, etapa) VALUES (%s, %s, %s)]\n[parameters: (' CORRIGINDO UF ', '2021-12-11 19:11:01.783630', 'Etapa 2 - Data Clear')]\n(Background on this error at: https://sqlalche.me/e/14/e3q8)",
     "output_type": "error",
     "traceback": [
      "\u001b[0;31m---------------------------------------------------------------------------\u001b[0m",
      "\u001b[0;31mOperationalError\u001b[0m                          Traceback (most recent call last)",
      "\u001b[0;32m/opt/conda/lib/python3.9/site-packages/sqlalchemy/engine/base.py\u001b[0m in \u001b[0;36m_execute_context\u001b[0;34m(self, dialect, constructor, statement, parameters, execution_options, *args, **kw)\u001b[0m\n\u001b[1;32m   1798\u001b[0m                 \u001b[0;32mif\u001b[0m \u001b[0;32mnot\u001b[0m \u001b[0mevt_handled\u001b[0m\u001b[0;34m:\u001b[0m\u001b[0;34m\u001b[0m\u001b[0;34m\u001b[0m\u001b[0m\n\u001b[0;32m-> 1799\u001b[0;31m                     self.dialect.do_execute(\n\u001b[0m\u001b[1;32m   1800\u001b[0m                         \u001b[0mcursor\u001b[0m\u001b[0;34m,\u001b[0m \u001b[0mstatement\u001b[0m\u001b[0;34m,\u001b[0m \u001b[0mparameters\u001b[0m\u001b[0;34m,\u001b[0m \u001b[0mcontext\u001b[0m\u001b[0;34m\u001b[0m\u001b[0;34m\u001b[0m\u001b[0m\n",
      "\u001b[0;32m/opt/conda/lib/python3.9/site-packages/sqlalchemy/engine/default.py\u001b[0m in \u001b[0;36mdo_execute\u001b[0;34m(self, cursor, statement, parameters, context)\u001b[0m\n\u001b[1;32m    716\u001b[0m     \u001b[0;32mdef\u001b[0m \u001b[0mdo_execute\u001b[0m\u001b[0;34m(\u001b[0m\u001b[0mself\u001b[0m\u001b[0;34m,\u001b[0m \u001b[0mcursor\u001b[0m\u001b[0;34m,\u001b[0m \u001b[0mstatement\u001b[0m\u001b[0;34m,\u001b[0m \u001b[0mparameters\u001b[0m\u001b[0;34m,\u001b[0m \u001b[0mcontext\u001b[0m\u001b[0;34m=\u001b[0m\u001b[0;32mNone\u001b[0m\u001b[0;34m)\u001b[0m\u001b[0;34m:\u001b[0m\u001b[0;34m\u001b[0m\u001b[0;34m\u001b[0m\u001b[0m\n\u001b[0;32m--> 717\u001b[0;31m         \u001b[0mcursor\u001b[0m\u001b[0;34m.\u001b[0m\u001b[0mexecute\u001b[0m\u001b[0;34m(\u001b[0m\u001b[0mstatement\u001b[0m\u001b[0;34m,\u001b[0m \u001b[0mparameters\u001b[0m\u001b[0;34m)\u001b[0m\u001b[0;34m\u001b[0m\u001b[0;34m\u001b[0m\u001b[0m\n\u001b[0m\u001b[1;32m    718\u001b[0m \u001b[0;34m\u001b[0m\u001b[0m\n",
      "\u001b[0;32m/opt/conda/lib/python3.9/site-packages/MySQLdb/cursors.py\u001b[0m in \u001b[0;36mexecute\u001b[0;34m(self, query, args)\u001b[0m\n\u001b[1;32m    205\u001b[0m         \u001b[0;32massert\u001b[0m \u001b[0misinstance\u001b[0m\u001b[0;34m(\u001b[0m\u001b[0mquery\u001b[0m\u001b[0;34m,\u001b[0m \u001b[0;34m(\u001b[0m\u001b[0mbytes\u001b[0m\u001b[0;34m,\u001b[0m \u001b[0mbytearray\u001b[0m\u001b[0;34m)\u001b[0m\u001b[0;34m)\u001b[0m\u001b[0;34m\u001b[0m\u001b[0;34m\u001b[0m\u001b[0m\n\u001b[0;32m--> 206\u001b[0;31m         \u001b[0mres\u001b[0m \u001b[0;34m=\u001b[0m \u001b[0mself\u001b[0m\u001b[0;34m.\u001b[0m\u001b[0m_query\u001b[0m\u001b[0;34m(\u001b[0m\u001b[0mquery\u001b[0m\u001b[0;34m)\u001b[0m\u001b[0;34m\u001b[0m\u001b[0;34m\u001b[0m\u001b[0m\n\u001b[0m\u001b[1;32m    207\u001b[0m         \u001b[0;32mreturn\u001b[0m \u001b[0mres\u001b[0m\u001b[0;34m\u001b[0m\u001b[0;34m\u001b[0m\u001b[0m\n",
      "\u001b[0;32m/opt/conda/lib/python3.9/site-packages/MySQLdb/cursors.py\u001b[0m in \u001b[0;36m_query\u001b[0;34m(self, q)\u001b[0m\n\u001b[1;32m    318\u001b[0m         \u001b[0mself\u001b[0m\u001b[0;34m.\u001b[0m\u001b[0m_result\u001b[0m \u001b[0;34m=\u001b[0m \u001b[0;32mNone\u001b[0m\u001b[0;34m\u001b[0m\u001b[0;34m\u001b[0m\u001b[0m\n\u001b[0;32m--> 319\u001b[0;31m         \u001b[0mdb\u001b[0m\u001b[0;34m.\u001b[0m\u001b[0mquery\u001b[0m\u001b[0;34m(\u001b[0m\u001b[0mq\u001b[0m\u001b[0;34m)\u001b[0m\u001b[0;34m\u001b[0m\u001b[0;34m\u001b[0m\u001b[0m\n\u001b[0m\u001b[1;32m    320\u001b[0m         \u001b[0mself\u001b[0m\u001b[0;34m.\u001b[0m\u001b[0m_do_get_result\u001b[0m\u001b[0;34m(\u001b[0m\u001b[0mdb\u001b[0m\u001b[0;34m)\u001b[0m\u001b[0;34m\u001b[0m\u001b[0;34m\u001b[0m\u001b[0m\n",
      "\u001b[0;32m/opt/conda/lib/python3.9/site-packages/MySQLdb/connections.py\u001b[0m in \u001b[0;36mquery\u001b[0;34m(self, query)\u001b[0m\n\u001b[1;32m    253\u001b[0m             \u001b[0mquery\u001b[0m \u001b[0;34m=\u001b[0m \u001b[0mbytes\u001b[0m\u001b[0;34m(\u001b[0m\u001b[0mquery\u001b[0m\u001b[0;34m)\u001b[0m\u001b[0;34m\u001b[0m\u001b[0;34m\u001b[0m\u001b[0m\n\u001b[0;32m--> 254\u001b[0;31m         \u001b[0m_mysql\u001b[0m\u001b[0;34m.\u001b[0m\u001b[0mconnection\u001b[0m\u001b[0;34m.\u001b[0m\u001b[0mquery\u001b[0m\u001b[0;34m(\u001b[0m\u001b[0mself\u001b[0m\u001b[0;34m,\u001b[0m \u001b[0mquery\u001b[0m\u001b[0;34m)\u001b[0m\u001b[0;34m\u001b[0m\u001b[0;34m\u001b[0m\u001b[0m\n\u001b[0m\u001b[1;32m    255\u001b[0m \u001b[0;34m\u001b[0m\u001b[0m\n",
      "\u001b[0;31mOperationalError\u001b[0m: (2013, 'Lost connection to MySQL server during query')",
      "\nThe above exception was the direct cause of the following exception:\n",
      "\u001b[0;31mOperationalError\u001b[0m                          Traceback (most recent call last)",
      "\u001b[0;32m/tmp/ipykernel_448/819676242.py\u001b[0m in \u001b[0;36m<module>\u001b[0;34m\u001b[0m\n\u001b[1;32m      2\u001b[0m \u001b[0;32mfrom\u001b[0m \u001b[0mfuzzywuzzy\u001b[0m \u001b[0;32mimport\u001b[0m \u001b[0mfuzz\u001b[0m\u001b[0;34m\u001b[0m\u001b[0;34m\u001b[0m\u001b[0m\n\u001b[1;32m      3\u001b[0m \u001b[0;34m\u001b[0m\u001b[0m\n\u001b[0;32m----> 4\u001b[0;31m \u001b[0mconsole_log\u001b[0m\u001b[0;34m.\u001b[0m\u001b[0minfo\u001b[0m\u001b[0;34m(\u001b[0m\u001b[0;34m\" CORRIGINDO UF \"\u001b[0m\u001b[0;34m)\u001b[0m\u001b[0;34m\u001b[0m\u001b[0;34m\u001b[0m\u001b[0m\n\u001b[0m\u001b[1;32m      5\u001b[0m \u001b[0;34m\u001b[0m\u001b[0m\n\u001b[1;32m      6\u001b[0m \u001b[0mlista_state\u001b[0m \u001b[0;34m=\u001b[0m \u001b[0mdf_aux\u001b[0m\u001b[0;34m[\u001b[0m\u001b[0;34m[\u001b[0m\u001b[0;34m'state'\u001b[0m\u001b[0;34m]\u001b[0m\u001b[0;34m]\u001b[0m\u001b[0;34m.\u001b[0m\u001b[0mgroupby\u001b[0m\u001b[0;34m(\u001b[0m\u001b[0;34m'state'\u001b[0m\u001b[0;34m)\u001b[0m\u001b[0;34m.\u001b[0m\u001b[0mcount\u001b[0m\u001b[0;34m(\u001b[0m\u001b[0;34m)\u001b[0m\u001b[0;34m.\u001b[0m\u001b[0mindex\u001b[0m\u001b[0;34m.\u001b[0m\u001b[0mtolist\u001b[0m\u001b[0;34m(\u001b[0m\u001b[0;34m)\u001b[0m\u001b[0;34m\u001b[0m\u001b[0;34m\u001b[0m\u001b[0m\n",
      "\u001b[0;32m~/talent-data-analyst-lv4/Etapa 2/Enriquecimento_UF.py\u001b[0m in \u001b[0;36minfo\u001b[0;34m(self, msg)\u001b[0m\n\u001b[1;32m     16\u001b[0m     \u001b[0;32mdef\u001b[0m \u001b[0minfo\u001b[0m\u001b[0;34m(\u001b[0m\u001b[0mself\u001b[0m\u001b[0;34m,\u001b[0m\u001b[0mmsg\u001b[0m\u001b[0;34m)\u001b[0m\u001b[0;34m:\u001b[0m\u001b[0;34m\u001b[0m\u001b[0;34m\u001b[0m\u001b[0m\n\u001b[1;32m     17\u001b[0m         \u001b[0mconsole\u001b[0m\u001b[0;34m.\u001b[0m\u001b[0minfo\u001b[0m\u001b[0;34m(\u001b[0m\u001b[0mself\u001b[0m\u001b[0;34m.\u001b[0m\u001b[0metapa\u001b[0m\u001b[0;34m+\u001b[0m \u001b[0;34m\" | \"\u001b[0m\u001b[0;34m+\u001b[0m\u001b[0mmsg\u001b[0m\u001b[0;34m)\u001b[0m\u001b[0;34m\u001b[0m\u001b[0;34m\u001b[0m\u001b[0m\n\u001b[0;32m---> 18\u001b[0;31m         \u001b[0mtable\u001b[0m\u001b[0;34m.\u001b[0m\u001b[0minsert\u001b[0m\u001b[0;34m(\u001b[0m\u001b[0mdict\u001b[0m\u001b[0;34m(\u001b[0m\u001b[0metapa\u001b[0m\u001b[0;34m=\u001b[0m\u001b[0mself\u001b[0m\u001b[0;34m.\u001b[0m\u001b[0metapa\u001b[0m \u001b[0;34m,\u001b[0m\u001b[0mstatus\u001b[0m\u001b[0;34m=\u001b[0m\u001b[0mmsg\u001b[0m\u001b[0;34m,\u001b[0m\u001b[0mdt\u001b[0m\u001b[0;34m=\u001b[0m\u001b[0mstr\u001b[0m\u001b[0;34m(\u001b[0m\u001b[0mdt\u001b[0m\u001b[0;34m.\u001b[0m\u001b[0mnow\u001b[0m\u001b[0;34m(\u001b[0m\u001b[0;34m)\u001b[0m\u001b[0;34m)\u001b[0m\u001b[0;34m)\u001b[0m\u001b[0;34m)\u001b[0m\u001b[0;34m\u001b[0m\u001b[0;34m\u001b[0m\u001b[0m\n\u001b[0m\u001b[1;32m     19\u001b[0m \u001b[0;34m\u001b[0m\u001b[0m\n\u001b[1;32m     20\u001b[0m \u001b[0;34m\u001b[0m\u001b[0m\n",
      "\u001b[0;32m/opt/conda/lib/python3.9/site-packages/dataset/table.py\u001b[0m in \u001b[0;36minsert\u001b[0;34m(self, row, ensure, types)\u001b[0m\n\u001b[1;32m    117\u001b[0m         \"\"\"\n\u001b[1;32m    118\u001b[0m         \u001b[0mrow\u001b[0m \u001b[0;34m=\u001b[0m \u001b[0mself\u001b[0m\u001b[0;34m.\u001b[0m\u001b[0m_sync_columns\u001b[0m\u001b[0;34m(\u001b[0m\u001b[0mrow\u001b[0m\u001b[0;34m,\u001b[0m \u001b[0mensure\u001b[0m\u001b[0;34m,\u001b[0m \u001b[0mtypes\u001b[0m\u001b[0;34m=\u001b[0m\u001b[0mtypes\u001b[0m\u001b[0;34m)\u001b[0m\u001b[0;34m\u001b[0m\u001b[0;34m\u001b[0m\u001b[0m\n\u001b[0;32m--> 119\u001b[0;31m         \u001b[0mres\u001b[0m \u001b[0;34m=\u001b[0m \u001b[0mself\u001b[0m\u001b[0;34m.\u001b[0m\u001b[0mdb\u001b[0m\u001b[0;34m.\u001b[0m\u001b[0mexecutable\u001b[0m\u001b[0;34m.\u001b[0m\u001b[0mexecute\u001b[0m\u001b[0;34m(\u001b[0m\u001b[0mself\u001b[0m\u001b[0;34m.\u001b[0m\u001b[0mtable\u001b[0m\u001b[0;34m.\u001b[0m\u001b[0minsert\u001b[0m\u001b[0;34m(\u001b[0m\u001b[0mrow\u001b[0m\u001b[0;34m)\u001b[0m\u001b[0;34m)\u001b[0m\u001b[0;34m\u001b[0m\u001b[0;34m\u001b[0m\u001b[0m\n\u001b[0m\u001b[1;32m    120\u001b[0m         \u001b[0;32mif\u001b[0m \u001b[0mlen\u001b[0m\u001b[0;34m(\u001b[0m\u001b[0mres\u001b[0m\u001b[0;34m.\u001b[0m\u001b[0minserted_primary_key\u001b[0m\u001b[0;34m)\u001b[0m \u001b[0;34m>\u001b[0m \u001b[0;36m0\u001b[0m\u001b[0;34m:\u001b[0m\u001b[0;34m\u001b[0m\u001b[0;34m\u001b[0m\u001b[0m\n\u001b[1;32m    121\u001b[0m             \u001b[0;32mreturn\u001b[0m \u001b[0mres\u001b[0m\u001b[0;34m.\u001b[0m\u001b[0minserted_primary_key\u001b[0m\u001b[0;34m[\u001b[0m\u001b[0;36m0\u001b[0m\u001b[0;34m]\u001b[0m\u001b[0;34m\u001b[0m\u001b[0;34m\u001b[0m\u001b[0m\n",
      "\u001b[0;32m/opt/conda/lib/python3.9/site-packages/sqlalchemy/engine/base.py\u001b[0m in \u001b[0;36mexecute\u001b[0;34m(self, statement, *multiparams, **params)\u001b[0m\n\u001b[1;32m   1284\u001b[0m             )\n\u001b[1;32m   1285\u001b[0m         \u001b[0;32melse\u001b[0m\u001b[0;34m:\u001b[0m\u001b[0;34m\u001b[0m\u001b[0;34m\u001b[0m\u001b[0m\n\u001b[0;32m-> 1286\u001b[0;31m             \u001b[0;32mreturn\u001b[0m \u001b[0mmeth\u001b[0m\u001b[0;34m(\u001b[0m\u001b[0mself\u001b[0m\u001b[0;34m,\u001b[0m \u001b[0mmultiparams\u001b[0m\u001b[0;34m,\u001b[0m \u001b[0mparams\u001b[0m\u001b[0;34m,\u001b[0m \u001b[0m_EMPTY_EXECUTION_OPTS\u001b[0m\u001b[0;34m)\u001b[0m\u001b[0;34m\u001b[0m\u001b[0;34m\u001b[0m\u001b[0m\n\u001b[0m\u001b[1;32m   1287\u001b[0m \u001b[0;34m\u001b[0m\u001b[0m\n\u001b[1;32m   1288\u001b[0m     \u001b[0;32mdef\u001b[0m \u001b[0m_execute_function\u001b[0m\u001b[0;34m(\u001b[0m\u001b[0mself\u001b[0m\u001b[0;34m,\u001b[0m \u001b[0mfunc\u001b[0m\u001b[0;34m,\u001b[0m \u001b[0mmultiparams\u001b[0m\u001b[0;34m,\u001b[0m \u001b[0mparams\u001b[0m\u001b[0;34m,\u001b[0m \u001b[0mexecution_options\u001b[0m\u001b[0;34m)\u001b[0m\u001b[0;34m:\u001b[0m\u001b[0;34m\u001b[0m\u001b[0;34m\u001b[0m\u001b[0m\n",
      "\u001b[0;32m/opt/conda/lib/python3.9/site-packages/sqlalchemy/sql/elements.py\u001b[0m in \u001b[0;36m_execute_on_connection\u001b[0;34m(self, connection, multiparams, params, execution_options, _force)\u001b[0m\n\u001b[1;32m    323\u001b[0m     ):\n\u001b[1;32m    324\u001b[0m         \u001b[0;32mif\u001b[0m \u001b[0m_force\u001b[0m \u001b[0;32mor\u001b[0m \u001b[0mself\u001b[0m\u001b[0;34m.\u001b[0m\u001b[0msupports_execution\u001b[0m\u001b[0;34m:\u001b[0m\u001b[0;34m\u001b[0m\u001b[0;34m\u001b[0m\u001b[0m\n\u001b[0;32m--> 325\u001b[0;31m             return connection._execute_clauseelement(\n\u001b[0m\u001b[1;32m    326\u001b[0m                 \u001b[0mself\u001b[0m\u001b[0;34m,\u001b[0m \u001b[0mmultiparams\u001b[0m\u001b[0;34m,\u001b[0m \u001b[0mparams\u001b[0m\u001b[0;34m,\u001b[0m \u001b[0mexecution_options\u001b[0m\u001b[0;34m\u001b[0m\u001b[0;34m\u001b[0m\u001b[0m\n\u001b[1;32m    327\u001b[0m             )\n",
      "\u001b[0;32m/opt/conda/lib/python3.9/site-packages/sqlalchemy/engine/base.py\u001b[0m in \u001b[0;36m_execute_clauseelement\u001b[0;34m(self, elem, multiparams, params, execution_options)\u001b[0m\n\u001b[1;32m   1476\u001b[0m             \u001b[0mlinting\u001b[0m\u001b[0;34m=\u001b[0m\u001b[0mself\u001b[0m\u001b[0;34m.\u001b[0m\u001b[0mdialect\u001b[0m\u001b[0;34m.\u001b[0m\u001b[0mcompiler_linting\u001b[0m \u001b[0;34m|\u001b[0m \u001b[0mcompiler\u001b[0m\u001b[0;34m.\u001b[0m\u001b[0mWARN_LINTING\u001b[0m\u001b[0;34m,\u001b[0m\u001b[0;34m\u001b[0m\u001b[0;34m\u001b[0m\u001b[0m\n\u001b[1;32m   1477\u001b[0m         )\n\u001b[0;32m-> 1478\u001b[0;31m         ret = self._execute_context(\n\u001b[0m\u001b[1;32m   1479\u001b[0m             \u001b[0mdialect\u001b[0m\u001b[0;34m,\u001b[0m\u001b[0;34m\u001b[0m\u001b[0;34m\u001b[0m\u001b[0m\n\u001b[1;32m   1480\u001b[0m             \u001b[0mdialect\u001b[0m\u001b[0;34m.\u001b[0m\u001b[0mexecution_ctx_cls\u001b[0m\u001b[0;34m.\u001b[0m\u001b[0m_init_compiled\u001b[0m\u001b[0;34m,\u001b[0m\u001b[0;34m\u001b[0m\u001b[0;34m\u001b[0m\u001b[0m\n",
      "\u001b[0;32m/opt/conda/lib/python3.9/site-packages/sqlalchemy/engine/base.py\u001b[0m in \u001b[0;36m_execute_context\u001b[0;34m(self, dialect, constructor, statement, parameters, execution_options, *args, **kw)\u001b[0m\n\u001b[1;32m   1840\u001b[0m \u001b[0;34m\u001b[0m\u001b[0m\n\u001b[1;32m   1841\u001b[0m         \u001b[0;32mexcept\u001b[0m \u001b[0mBaseException\u001b[0m \u001b[0;32mas\u001b[0m \u001b[0me\u001b[0m\u001b[0;34m:\u001b[0m\u001b[0;34m\u001b[0m\u001b[0;34m\u001b[0m\u001b[0m\n\u001b[0;32m-> 1842\u001b[0;31m             self._handle_dbapi_exception(\n\u001b[0m\u001b[1;32m   1843\u001b[0m                 \u001b[0me\u001b[0m\u001b[0;34m,\u001b[0m \u001b[0mstatement\u001b[0m\u001b[0;34m,\u001b[0m \u001b[0mparameters\u001b[0m\u001b[0;34m,\u001b[0m \u001b[0mcursor\u001b[0m\u001b[0;34m,\u001b[0m \u001b[0mcontext\u001b[0m\u001b[0;34m\u001b[0m\u001b[0;34m\u001b[0m\u001b[0m\n\u001b[1;32m   1844\u001b[0m             )\n",
      "\u001b[0;32m/opt/conda/lib/python3.9/site-packages/sqlalchemy/engine/base.py\u001b[0m in \u001b[0;36m_handle_dbapi_exception\u001b[0;34m(self, e, statement, parameters, cursor, context)\u001b[0m\n\u001b[1;32m   2021\u001b[0m                 \u001b[0mutil\u001b[0m\u001b[0;34m.\u001b[0m\u001b[0mraise_\u001b[0m\u001b[0;34m(\u001b[0m\u001b[0mnewraise\u001b[0m\u001b[0;34m,\u001b[0m \u001b[0mwith_traceback\u001b[0m\u001b[0;34m=\u001b[0m\u001b[0mexc_info\u001b[0m\u001b[0;34m[\u001b[0m\u001b[0;36m2\u001b[0m\u001b[0;34m]\u001b[0m\u001b[0;34m,\u001b[0m \u001b[0mfrom_\u001b[0m\u001b[0;34m=\u001b[0m\u001b[0me\u001b[0m\u001b[0;34m)\u001b[0m\u001b[0;34m\u001b[0m\u001b[0;34m\u001b[0m\u001b[0m\n\u001b[1;32m   2022\u001b[0m             \u001b[0;32melif\u001b[0m \u001b[0mshould_wrap\u001b[0m\u001b[0;34m:\u001b[0m\u001b[0;34m\u001b[0m\u001b[0;34m\u001b[0m\u001b[0m\n\u001b[0;32m-> 2023\u001b[0;31m                 util.raise_(\n\u001b[0m\u001b[1;32m   2024\u001b[0m                     \u001b[0msqlalchemy_exception\u001b[0m\u001b[0;34m,\u001b[0m \u001b[0mwith_traceback\u001b[0m\u001b[0;34m=\u001b[0m\u001b[0mexc_info\u001b[0m\u001b[0;34m[\u001b[0m\u001b[0;36m2\u001b[0m\u001b[0;34m]\u001b[0m\u001b[0;34m,\u001b[0m \u001b[0mfrom_\u001b[0m\u001b[0;34m=\u001b[0m\u001b[0me\u001b[0m\u001b[0;34m\u001b[0m\u001b[0;34m\u001b[0m\u001b[0m\n\u001b[1;32m   2025\u001b[0m                 )\n",
      "\u001b[0;32m/opt/conda/lib/python3.9/site-packages/sqlalchemy/util/compat.py\u001b[0m in \u001b[0;36mraise_\u001b[0;34m(***failed resolving arguments***)\u001b[0m\n\u001b[1;32m    205\u001b[0m \u001b[0;34m\u001b[0m\u001b[0m\n\u001b[1;32m    206\u001b[0m         \u001b[0;32mtry\u001b[0m\u001b[0;34m:\u001b[0m\u001b[0;34m\u001b[0m\u001b[0;34m\u001b[0m\u001b[0m\n\u001b[0;32m--> 207\u001b[0;31m             \u001b[0;32mraise\u001b[0m \u001b[0mexception\u001b[0m\u001b[0;34m\u001b[0m\u001b[0;34m\u001b[0m\u001b[0m\n\u001b[0m\u001b[1;32m    208\u001b[0m         \u001b[0;32mfinally\u001b[0m\u001b[0;34m:\u001b[0m\u001b[0;34m\u001b[0m\u001b[0;34m\u001b[0m\u001b[0m\n\u001b[1;32m    209\u001b[0m             \u001b[0;31m# credit to\u001b[0m\u001b[0;34m\u001b[0m\u001b[0;34m\u001b[0m\u001b[0m\n",
      "\u001b[0;32m/opt/conda/lib/python3.9/site-packages/sqlalchemy/engine/base.py\u001b[0m in \u001b[0;36m_execute_context\u001b[0;34m(self, dialect, constructor, statement, parameters, execution_options, *args, **kw)\u001b[0m\n\u001b[1;32m   1797\u001b[0m                             \u001b[0;32mbreak\u001b[0m\u001b[0;34m\u001b[0m\u001b[0;34m\u001b[0m\u001b[0m\n\u001b[1;32m   1798\u001b[0m                 \u001b[0;32mif\u001b[0m \u001b[0;32mnot\u001b[0m \u001b[0mevt_handled\u001b[0m\u001b[0;34m:\u001b[0m\u001b[0;34m\u001b[0m\u001b[0;34m\u001b[0m\u001b[0m\n\u001b[0;32m-> 1799\u001b[0;31m                     self.dialect.do_execute(\n\u001b[0m\u001b[1;32m   1800\u001b[0m                         \u001b[0mcursor\u001b[0m\u001b[0;34m,\u001b[0m \u001b[0mstatement\u001b[0m\u001b[0;34m,\u001b[0m \u001b[0mparameters\u001b[0m\u001b[0;34m,\u001b[0m \u001b[0mcontext\u001b[0m\u001b[0;34m\u001b[0m\u001b[0;34m\u001b[0m\u001b[0m\n\u001b[1;32m   1801\u001b[0m                     )\n",
      "\u001b[0;32m/opt/conda/lib/python3.9/site-packages/sqlalchemy/engine/default.py\u001b[0m in \u001b[0;36mdo_execute\u001b[0;34m(self, cursor, statement, parameters, context)\u001b[0m\n\u001b[1;32m    715\u001b[0m \u001b[0;34m\u001b[0m\u001b[0m\n\u001b[1;32m    716\u001b[0m     \u001b[0;32mdef\u001b[0m \u001b[0mdo_execute\u001b[0m\u001b[0;34m(\u001b[0m\u001b[0mself\u001b[0m\u001b[0;34m,\u001b[0m \u001b[0mcursor\u001b[0m\u001b[0;34m,\u001b[0m \u001b[0mstatement\u001b[0m\u001b[0;34m,\u001b[0m \u001b[0mparameters\u001b[0m\u001b[0;34m,\u001b[0m \u001b[0mcontext\u001b[0m\u001b[0;34m=\u001b[0m\u001b[0;32mNone\u001b[0m\u001b[0;34m)\u001b[0m\u001b[0;34m:\u001b[0m\u001b[0;34m\u001b[0m\u001b[0;34m\u001b[0m\u001b[0m\n\u001b[0;32m--> 717\u001b[0;31m         \u001b[0mcursor\u001b[0m\u001b[0;34m.\u001b[0m\u001b[0mexecute\u001b[0m\u001b[0;34m(\u001b[0m\u001b[0mstatement\u001b[0m\u001b[0;34m,\u001b[0m \u001b[0mparameters\u001b[0m\u001b[0;34m)\u001b[0m\u001b[0;34m\u001b[0m\u001b[0;34m\u001b[0m\u001b[0m\n\u001b[0m\u001b[1;32m    718\u001b[0m \u001b[0;34m\u001b[0m\u001b[0m\n\u001b[1;32m    719\u001b[0m     \u001b[0;32mdef\u001b[0m \u001b[0mdo_execute_no_params\u001b[0m\u001b[0;34m(\u001b[0m\u001b[0mself\u001b[0m\u001b[0;34m,\u001b[0m \u001b[0mcursor\u001b[0m\u001b[0;34m,\u001b[0m \u001b[0mstatement\u001b[0m\u001b[0;34m,\u001b[0m \u001b[0mcontext\u001b[0m\u001b[0;34m=\u001b[0m\u001b[0;32mNone\u001b[0m\u001b[0;34m)\u001b[0m\u001b[0;34m:\u001b[0m\u001b[0;34m\u001b[0m\u001b[0;34m\u001b[0m\u001b[0m\n",
      "\u001b[0;32m/opt/conda/lib/python3.9/site-packages/MySQLdb/cursors.py\u001b[0m in \u001b[0;36mexecute\u001b[0;34m(self, query, args)\u001b[0m\n\u001b[1;32m    204\u001b[0m \u001b[0;34m\u001b[0m\u001b[0m\n\u001b[1;32m    205\u001b[0m         \u001b[0;32massert\u001b[0m \u001b[0misinstance\u001b[0m\u001b[0;34m(\u001b[0m\u001b[0mquery\u001b[0m\u001b[0;34m,\u001b[0m \u001b[0;34m(\u001b[0m\u001b[0mbytes\u001b[0m\u001b[0;34m,\u001b[0m \u001b[0mbytearray\u001b[0m\u001b[0;34m)\u001b[0m\u001b[0;34m)\u001b[0m\u001b[0;34m\u001b[0m\u001b[0;34m\u001b[0m\u001b[0m\n\u001b[0;32m--> 206\u001b[0;31m         \u001b[0mres\u001b[0m \u001b[0;34m=\u001b[0m \u001b[0mself\u001b[0m\u001b[0;34m.\u001b[0m\u001b[0m_query\u001b[0m\u001b[0;34m(\u001b[0m\u001b[0mquery\u001b[0m\u001b[0;34m)\u001b[0m\u001b[0;34m\u001b[0m\u001b[0;34m\u001b[0m\u001b[0m\n\u001b[0m\u001b[1;32m    207\u001b[0m         \u001b[0;32mreturn\u001b[0m \u001b[0mres\u001b[0m\u001b[0;34m\u001b[0m\u001b[0;34m\u001b[0m\u001b[0m\n\u001b[1;32m    208\u001b[0m \u001b[0;34m\u001b[0m\u001b[0m\n",
      "\u001b[0;32m/opt/conda/lib/python3.9/site-packages/MySQLdb/cursors.py\u001b[0m in \u001b[0;36m_query\u001b[0;34m(self, q)\u001b[0m\n\u001b[1;32m    317\u001b[0m         \u001b[0mdb\u001b[0m \u001b[0;34m=\u001b[0m \u001b[0mself\u001b[0m\u001b[0;34m.\u001b[0m\u001b[0m_get_db\u001b[0m\u001b[0;34m(\u001b[0m\u001b[0;34m)\u001b[0m\u001b[0;34m\u001b[0m\u001b[0;34m\u001b[0m\u001b[0m\n\u001b[1;32m    318\u001b[0m         \u001b[0mself\u001b[0m\u001b[0;34m.\u001b[0m\u001b[0m_result\u001b[0m \u001b[0;34m=\u001b[0m \u001b[0;32mNone\u001b[0m\u001b[0;34m\u001b[0m\u001b[0;34m\u001b[0m\u001b[0m\n\u001b[0;32m--> 319\u001b[0;31m         \u001b[0mdb\u001b[0m\u001b[0;34m.\u001b[0m\u001b[0mquery\u001b[0m\u001b[0;34m(\u001b[0m\u001b[0mq\u001b[0m\u001b[0;34m)\u001b[0m\u001b[0;34m\u001b[0m\u001b[0;34m\u001b[0m\u001b[0m\n\u001b[0m\u001b[1;32m    320\u001b[0m         \u001b[0mself\u001b[0m\u001b[0;34m.\u001b[0m\u001b[0m_do_get_result\u001b[0m\u001b[0;34m(\u001b[0m\u001b[0mdb\u001b[0m\u001b[0;34m)\u001b[0m\u001b[0;34m\u001b[0m\u001b[0;34m\u001b[0m\u001b[0m\n\u001b[1;32m    321\u001b[0m         \u001b[0mself\u001b[0m\u001b[0;34m.\u001b[0m\u001b[0m_post_get_result\u001b[0m\u001b[0;34m(\u001b[0m\u001b[0;34m)\u001b[0m\u001b[0;34m\u001b[0m\u001b[0;34m\u001b[0m\u001b[0m\n",
      "\u001b[0;32m/opt/conda/lib/python3.9/site-packages/MySQLdb/connections.py\u001b[0m in \u001b[0;36mquery\u001b[0;34m(self, query)\u001b[0m\n\u001b[1;32m    252\u001b[0m         \u001b[0;32mif\u001b[0m \u001b[0misinstance\u001b[0m\u001b[0;34m(\u001b[0m\u001b[0mquery\u001b[0m\u001b[0;34m,\u001b[0m \u001b[0mbytearray\u001b[0m\u001b[0;34m)\u001b[0m\u001b[0;34m:\u001b[0m\u001b[0;34m\u001b[0m\u001b[0;34m\u001b[0m\u001b[0m\n\u001b[1;32m    253\u001b[0m             \u001b[0mquery\u001b[0m \u001b[0;34m=\u001b[0m \u001b[0mbytes\u001b[0m\u001b[0;34m(\u001b[0m\u001b[0mquery\u001b[0m\u001b[0;34m)\u001b[0m\u001b[0;34m\u001b[0m\u001b[0;34m\u001b[0m\u001b[0m\n\u001b[0;32m--> 254\u001b[0;31m         \u001b[0m_mysql\u001b[0m\u001b[0;34m.\u001b[0m\u001b[0mconnection\u001b[0m\u001b[0;34m.\u001b[0m\u001b[0mquery\u001b[0m\u001b[0;34m(\u001b[0m\u001b[0mself\u001b[0m\u001b[0;34m,\u001b[0m \u001b[0mquery\u001b[0m\u001b[0;34m)\u001b[0m\u001b[0;34m\u001b[0m\u001b[0;34m\u001b[0m\u001b[0m\n\u001b[0m\u001b[1;32m    255\u001b[0m \u001b[0;34m\u001b[0m\u001b[0m\n\u001b[1;32m    256\u001b[0m     \u001b[0;32mdef\u001b[0m \u001b[0m_bytes_literal\u001b[0m\u001b[0;34m(\u001b[0m\u001b[0mself\u001b[0m\u001b[0;34m,\u001b[0m \u001b[0mbs\u001b[0m\u001b[0;34m)\u001b[0m\u001b[0;34m:\u001b[0m\u001b[0;34m\u001b[0m\u001b[0;34m\u001b[0m\u001b[0m\n",
      "\u001b[0;31mOperationalError\u001b[0m: (MySQLdb._exceptions.OperationalError) (2013, 'Lost connection to MySQL server during query')\n[SQL: INSERT INTO tlb_logs (`status`, dt, etapa) VALUES (%s, %s, %s)]\n[parameters: (' CORRIGINDO UF ', '2021-12-11 19:11:01.783630', 'Etapa 2 - Data Clear')]\n(Background on this error at: https://sqlalche.me/e/14/e3q8)"
     ]
    }
   ],
   "source": [
    "import string\n",
    "from fuzzywuzzy import fuzz\n",
    "\n",
    "etapa = \"Etapa 2 - Data Clear\"\n",
    "\n",
    "console_log = Logs(etapa)\n",
    "\n",
    "console_log.info(\" CORRIGINDO UF \")\n",
    "\n",
    "lista_state = df_aux[['state']].groupby('state').count().index.tolist()\n",
    "\n",
    "for index, value in ufs[['uf_code','name']].iterrows():\n",
    "    #\n",
    "    for uf in lista_state:\n",
    "        distance = fuzz.ratio(value['name'], string.capwords(uf))  \n",
    "        if distance > 60:\n",
    "          print(value['uf_code'], value['name'],uf, distance)\n",
    "          query = \"state == '{}'\".format(uf)\n",
    "          print(query)  \n",
    "          lista_index_estados = df_aux.query(query).index.to_list()\n",
    "          df_aux.loc[lista_index_estados,'state'] = value['uf_code']  \n",
    "          "
   ]
  },
  {
   "cell_type": "code",
   "execution_count": null,
   "id": "fb720035-1913-49a4-9b2d-9765021d4614",
   "metadata": {
    "papermill": {
     "duration": null,
     "end_time": null,
     "exception": null,
     "start_time": null,
     "status": "pending"
    },
    "tags": []
   },
   "outputs": [],
   "source": [
    "df_aux"
   ]
  },
  {
   "cell_type": "markdown",
   "id": "ae338e8a-a329-4fd2-8102-e0e4b269be41",
   "metadata": {
    "papermill": {
     "duration": null,
     "end_time": null,
     "exception": null,
     "start_time": null,
     "status": "pending"
    },
    "tags": []
   },
   "source": [
    "## Salvando dados "
   ]
  },
  {
   "cell_type": "code",
   "execution_count": null,
   "id": "13a3d77e-9bb7-4e09-8575-8e8eb8857ed1",
   "metadata": {
    "papermill": {
     "duration": null,
     "end_time": null,
     "exception": null,
     "start_time": null,
     "status": "pending"
    },
    "tags": []
   },
   "outputs": [],
   "source": [
    "!mkdir base_gerada"
   ]
  },
  {
   "cell_type": "code",
   "execution_count": null,
   "id": "898b8adf-0348-4d41-b400-d41b08ee5b88",
   "metadata": {
    "papermill": {
     "duration": null,
     "end_time": null,
     "exception": null,
     "start_time": null,
     "status": "pending"
    },
    "tags": []
   },
   "outputs": [],
   "source": [
    "console_log.info(\" TRATANDO ANO  \")"
   ]
  },
  {
   "cell_type": "code",
   "execution_count": null,
   "id": "c76c0a16-8ebd-4dc5-b3c6-c4f188f24651",
   "metadata": {
    "papermill": {
     "duration": null,
     "end_time": null,
     "exception": null,
     "start_time": null,
     "status": "pending"
    },
    "tags": []
   },
   "outputs": [],
   "source": [
    "df_aux[\"Ano\"] = df_aux[\"birthDate\"].apply(lambda x:str(x).split(\"-\")[0])"
   ]
  },
  {
   "cell_type": "code",
   "execution_count": null,
   "id": "bfff8d7f-20a3-47cc-b87a-8ede730e6466",
   "metadata": {
    "papermill": {
     "duration": null,
     "end_time": null,
     "exception": null,
     "start_time": null,
     "status": "pending"
    },
    "tags": []
   },
   "outputs": [],
   "source": [
    "lista_anos = df_aux[['Ano']].groupby('Ano').count().index.tolist()"
   ]
  },
  {
   "cell_type": "code",
   "execution_count": null,
   "id": "22aa731b-7476-4766-affd-f40ce3f81cd6",
   "metadata": {
    "papermill": {
     "duration": null,
     "end_time": null,
     "exception": null,
     "start_time": null,
     "status": "pending"
    },
    "tags": []
   },
   "outputs": [],
   "source": [
    "[df_aux.query('Ano == \"{}\"'.format(ano)).to_csv(\"base_gerada/{}.csv\".format(ano),index=False)  for ano in lista_anos ]"
   ]
  },
  {
   "cell_type": "markdown",
   "id": "2ecef15b-6079-429c-8633-027728b62b41",
   "metadata": {
    "papermill": {
     "duration": null,
     "end_time": null,
     "exception": null,
     "start_time": null,
     "status": "pending"
    },
    "tags": []
   },
   "source": [
    "\n",
    "### Particionamento de dados tratados com as regras descritas em DATA QUALITY\n",
    "- Particionar em arquivos PARQUET por estado (state)\n",
    "- Particionar em arquivos CSV por ano/mes/dia de nascimento (birthDate)"
   ]
  },
  {
   "cell_type": "code",
   "execution_count": null,
   "id": "d43caec2-683a-4207-9f33-e3fd735026ba",
   "metadata": {
    "papermill": {
     "duration": null,
     "end_time": null,
     "exception": null,
     "start_time": null,
     "status": "pending"
    },
    "tags": []
   },
   "outputs": [],
   "source": [
    "!pip install fastparquet"
   ]
  },
  {
   "cell_type": "code",
   "execution_count": null,
   "id": "6d0f59aa-8966-4e2b-9f67-36ff17fd2652",
   "metadata": {
    "papermill": {
     "duration": null,
     "end_time": null,
     "exception": null,
     "start_time": null,
     "status": "pending"
    },
    "tags": []
   },
   "outputs": [],
   "source": [
    "df_aux.to_parquet('base_gerada/df.parquet.gzip',compression='gzip')"
   ]
  },
  {
   "cell_type": "code",
   "execution_count": null,
   "id": "16780007-b2f6-47c2-bb2c-e65817afe824",
   "metadata": {
    "papermill": {
     "duration": null,
     "end_time": null,
     "exception": null,
     "start_time": null,
     "status": "pending"
    },
    "tags": []
   },
   "outputs": [],
   "source": []
  },
  {
   "cell_type": "code",
   "execution_count": null,
   "id": "33c13891-bf5e-40be-a7d1-2b6df283f08c",
   "metadata": {
    "papermill": {
     "duration": null,
     "end_time": null,
     "exception": null,
     "start_time": null,
     "status": "pending"
    },
    "tags": []
   },
   "outputs": [],
   "source": [
    "del df\n",
    "del df_aux"
   ]
  },
  {
   "cell_type": "code",
   "execution_count": null,
   "id": "e0b32c89-af3b-4009-a4c7-aa1d29a13862",
   "metadata": {
    "papermill": {
     "duration": null,
     "end_time": null,
     "exception": null,
     "start_time": null,
     "status": "pending"
    },
    "tags": []
   },
   "outputs": [],
   "source": []
  },
  {
   "cell_type": "code",
   "execution_count": null,
   "id": "8ffbff5a-18d6-424f-8508-420b7bd478d0",
   "metadata": {
    "papermill": {
     "duration": null,
     "end_time": null,
     "exception": null,
     "start_time": null,
     "status": "pending"
    },
    "tags": []
   },
   "outputs": [],
   "source": [
    "console_log.info(\" FIM ETAPA 2 - NOTEBOOK  \")"
   ]
  },
  {
   "cell_type": "markdown",
   "id": "150732e4-8982-4c1b-9fd6-cb17166bf0b5",
   "metadata": {
    "papermill": {
     "duration": null,
     "end_time": null,
     "exception": null,
     "start_time": null,
     "status": "pending"
    },
    "tags": []
   },
   "source": [
    "\n",
    "### Agregação dos dados Essa resposta estara no (BI) Metabase\n",
    "- Quais são as 5 PF que mais gastaram (totalSpent)?\n",
    "- Qual é o valor de gasto médio por estado (state)?\n",
    "- Qual é o valor de gasto médio por jobArea?\n",
    "- Qual é a PF que gastou menos (totalSpent)?\n",
    "- Quantos nomes e documentos repetidos existem nesse dataset?\n",
    "- Quantas linhas existem nesse dataset?\n",
    "\n"
   ]
  },
  {
   "cell_type": "code",
   "execution_count": null,
   "id": "fafe096c-5383-433d-9582-244b9d6cf4e9",
   "metadata": {
    "papermill": {
     "duration": null,
     "end_time": null,
     "exception": null,
     "start_time": null,
     "status": "pending"
    },
    "tags": []
   },
   "outputs": [],
   "source": []
  },
  {
   "cell_type": "code",
   "execution_count": null,
   "id": "55a6413e-b092-4d9c-91a7-8137d3775666",
   "metadata": {
    "papermill": {
     "duration": null,
     "end_time": null,
     "exception": null,
     "start_time": null,
     "status": "pending"
    },
    "tags": []
   },
   "outputs": [],
   "source": []
  }
 ],
 "metadata": {
  "kernelspec": {
   "display_name": "Python 3 (ipykernel)",
   "language": "python",
   "name": "python3"
  },
  "language_info": {
   "codemirror_mode": {
    "name": "ipython",
    "version": 3
   },
   "file_extension": ".py",
   "mimetype": "text/x-python",
   "name": "python",
   "nbconvert_exporter": "python",
   "pygments_lexer": "ipython3",
   "version": "3.9.7"
  },
  "papermill": {
   "default_parameters": {},
   "duration": 2559.8884,
   "end_time": "2021-12-11T19:11:02.378177",
   "environment_variables": {},
   "exception": true,
   "input_path": "/home/jovyan/talent-data-analyst-lv4/Etapa 2/Etapa 2.ipynb",
   "output_path": "/home/jovyan/talent-data-analyst-lv4/Etapa 2/Etapa 2.ipynb",
   "parameters": {},
   "start_time": "2021-12-11T18:28:22.489777",
   "version": "2.3.3"
  }
 },
 "nbformat": 4,
 "nbformat_minor": 5
}
