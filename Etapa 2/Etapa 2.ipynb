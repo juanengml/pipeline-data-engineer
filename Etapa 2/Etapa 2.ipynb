{
 "cells": [
  {
   "cell_type": "markdown",
   "id": "d40ec309-75ae-44bb-b8ff-3364a3473aeb",
   "metadata": {
    "papermill": {
     "duration": 0.079796,
     "end_time": "2021-12-11T19:24:54.730337",
     "exception": false,
     "start_time": "2021-12-11T19:24:54.650541",
     "status": "completed"
    },
    "tags": []
   },
   "source": [
    "## Problema 2: Você deverá implementar um programa, para ler, tratar e particionar os dados.\n",
    "\n",
    "O arquivo fonte está disponível em https://st-it-cloud-public.s3.amazonaws.com/people-v2_1E6.csv.gz\n"
   ]
  },
  {
   "cell_type": "markdown",
   "id": "a21cc882-15c2-4b0d-84bd-dd042e3b80ca",
   "metadata": {
    "papermill": {
     "duration": 0.069443,
     "end_time": "2021-12-11T19:24:54.870912",
     "exception": false,
     "start_time": "2021-12-11T19:24:54.801469",
     "status": "completed"
    },
    "tags": []
   },
   "source": [
    "\n",
    "### Data Quality\n",
    "\n",
    "- Higienizar e homogenizar o formato da coluna document\n",
    "- Detectar através da coluna document se o registro é de uma Pessoa Física ou Pessoa Jurídica, adicionando uma coluna com essa informação\n",
    "- Higienizar e homogenizar o formato da coluna birthDate\n",
    "\n",
    "- Existem duas colunas nesse dataset que em alguns registros estão trocadas. Quais são essas colunas?\n",
    "- Corrigir os dados com as colunas trocadas\n",
    "- Além desses pontos, existem outras tratamentos para homogenizar esse dataset. Aplique todos que conseguir.\n"
   ]
  },
  {
   "cell_type": "code",
   "execution_count": 1,
   "id": "fe83f734-b52f-4fb7-9236-7ef1f614c159",
   "metadata": {
    "execution": {
     "iopub.execute_input": "2021-12-11T19:24:55.023301Z",
     "iopub.status.busy": "2021-12-11T19:24:55.022927Z",
     "iopub.status.idle": "2021-12-11T19:25:00.984688Z",
     "shell.execute_reply": "2021-12-11T19:25:00.984178Z"
    },
    "papermill": {
     "duration": 6.040688,
     "end_time": "2021-12-11T19:25:00.984818",
     "exception": false,
     "start_time": "2021-12-11T19:24:54.944130",
     "status": "completed"
    },
    "tags": []
   },
   "outputs": [
    {
     "name": "stdout",
     "output_type": "stream",
     "text": [
      "\u001b[33mWARNING: The directory '/home/jovyan/.cache/pip' or its parent directory is not owned or is not writable by the current user. The cache has been disabled. Check the permissions and owner of that directory. If executing pip with sudo, you should use sudo's -H flag.\u001b[0m\r\n",
      "Requirement already satisfied: console-logging in /opt/conda/lib/python3.9/site-packages (0.0.5.0)\r\n"
     ]
    },
    {
     "name": "stdout",
     "output_type": "stream",
     "text": [
      "Requirement already satisfied: termcolor in /opt/conda/lib/python3.9/site-packages (from console-logging) (1.1.0)\r\n"
     ]
    },
    {
     "name": "stdout",
     "output_type": "stream",
     "text": [
      "\u001b[33mWARNING: Running pip as the 'root' user can result in broken permissions and conflicting behaviour with the system package manager. It is recommended to use a virtual environment instead: https://pip.pypa.io/warnings/venv\u001b[0m\r\n"
     ]
    },
    {
     "name": "stdout",
     "output_type": "stream",
     "text": [
      "\u001b[33mWARNING: The directory '/home/jovyan/.cache/pip' or its parent directory is not owned or is not writable by the current user. The cache has been disabled. Check the permissions and owner of that directory. If executing pip with sudo, you should use sudo's -H flag.\u001b[0m\r\n",
      "Requirement already satisfied: fuzzywuzzy in /opt/conda/lib/python3.9/site-packages (0.18.0)\r\n"
     ]
    },
    {
     "name": "stdout",
     "output_type": "stream",
     "text": [
      "\u001b[33mWARNING: Running pip as the 'root' user can result in broken permissions and conflicting behaviour with the system package manager. It is recommended to use a virtual environment instead: https://pip.pypa.io/warnings/venv\u001b[0m\r\n"
     ]
    },
    {
     "name": "stdout",
     "output_type": "stream",
     "text": [
      "\r",
      "Reading package lists... 0%\r"
     ]
    },
    {
     "name": "stdout",
     "output_type": "stream",
     "text": [
      "\r",
      "Reading package lists... 0%\r",
      "\r",
      "Reading package lists... 0%\r",
      "\r",
      "Reading package lists... 6%\r",
      "\r",
      "Reading package lists... 6%\r"
     ]
    },
    {
     "name": "stdout",
     "output_type": "stream",
     "text": [
      "\r",
      "Reading package lists... 6%\r",
      "\r",
      "Reading package lists... 6%\r"
     ]
    },
    {
     "name": "stdout",
     "output_type": "stream",
     "text": [
      "\r",
      "Reading package lists... 64%\r",
      "\r",
      "Reading package lists... 64%\r",
      "\r",
      "Reading package lists... 65%\r",
      "\r",
      "Reading package lists... 65%\r"
     ]
    },
    {
     "name": "stdout",
     "output_type": "stream",
     "text": [
      "\r",
      "Reading package lists... 73%\r",
      "\r",
      "Reading package lists... 73%\r",
      "\r",
      "Reading package lists... 77%\r",
      "\r",
      "Reading package lists... 77%\r"
     ]
    },
    {
     "name": "stdout",
     "output_type": "stream",
     "text": [
      "\r",
      "Reading package lists... 83%\r",
      "\r",
      "Reading package lists... 83%\r",
      "\r",
      "Reading package lists... 83%\r",
      "\r",
      "Reading package lists... 83%\r",
      "\r",
      "Reading package lists... 84%\r",
      "\r",
      "Reading package lists... 84%\r",
      "\r",
      "Reading package lists... 84%\r",
      "\r",
      "Reading package lists... 84%\r",
      "\r",
      "Reading package lists... 90%\r",
      "\r",
      "Reading package lists... 90%\r",
      "\r",
      "Reading package lists... 94%\r",
      "\r",
      "Reading package lists... 94%\r",
      "\r",
      "Reading package lists... 99%\r",
      "\r",
      "Reading package lists... 99%\r",
      "\r",
      "Reading package lists... 99%\r",
      "\r",
      "Reading package lists... 99%\r",
      "\r",
      "Reading package lists... Done\r",
      "\r\n"
     ]
    },
    {
     "name": "stdout",
     "output_type": "stream",
     "text": [
      "\r",
      "Building dependency tree... 0%\r",
      "\r",
      "Building dependency tree... 0%\r",
      "\r",
      "Building dependency tree... 50%\r",
      "\r",
      "Building dependency tree... 50%\r"
     ]
    },
    {
     "name": "stdout",
     "output_type": "stream",
     "text": [
      "\r",
      "Building dependency tree       \r",
      "\r\n",
      "\r",
      "Reading state information... 0%\r",
      "\r",
      "Reading state information... 0%\r",
      "\r",
      "Reading state information... Done\r",
      "\r\n",
      "libmysqlclient-dev is already the newest version (8.0.27-0ubuntu0.20.04.1).\r\n"
     ]
    },
    {
     "name": "stdout",
     "output_type": "stream",
     "text": [
      "0 upgraded, 0 newly installed, 0 to remove and 4 not upgraded.\r\n"
     ]
    },
    {
     "name": "stdout",
     "output_type": "stream",
     "text": [
      "Requirement already satisfied: dataset in /opt/conda/lib/python3.9/site-packages (1.5.1)\r\n",
      "Requirement already satisfied: console-logging in /opt/conda/lib/python3.9/site-packages (0.0.5.0)\r\n",
      "Requirement already satisfied: mysqlclient in /opt/conda/lib/python3.9/site-packages (2.1.0)\r\n",
      "Requirement already satisfied: sqlalchemy>=1.3.2 in /opt/conda/lib/python3.9/site-packages (from dataset) (1.4.26)\r\n",
      "Requirement already satisfied: banal>=1.0.1 in /opt/conda/lib/python3.9/site-packages (from dataset) (1.0.6)\r\n",
      "Requirement already satisfied: alembic>=0.6.2 in /opt/conda/lib/python3.9/site-packages (from dataset) (1.7.4)\r\n",
      "Requirement already satisfied: termcolor in /opt/conda/lib/python3.9/site-packages (from console-logging) (1.1.0)\r\n",
      "Requirement already satisfied: Mako in /opt/conda/lib/python3.9/site-packages (from alembic>=0.6.2->dataset) (1.1.5)\r\n"
     ]
    },
    {
     "name": "stdout",
     "output_type": "stream",
     "text": [
      "Requirement already satisfied: greenlet!=0.4.17 in /opt/conda/lib/python3.9/site-packages (from sqlalchemy>=1.3.2->dataset) (1.1.2)\r\n",
      "Requirement already satisfied: MarkupSafe>=0.9.2 in /opt/conda/lib/python3.9/site-packages (from Mako->alembic>=0.6.2->dataset) (2.0.1)\r\n"
     ]
    },
    {
     "name": "stdout",
     "output_type": "stream",
     "text": [
      "\u001b[33mWARNING: Running pip as the 'root' user can result in broken permissions and conflicting behaviour with the system package manager. It is recommended to use a virtual environment instead: https://pip.pypa.io/warnings/venv\u001b[0m\r\n"
     ]
    }
   ],
   "source": [
    "!pip install console-logging  \n",
    "!pip install fuzzywuzzy\n",
    "!sudo apt-get install libmysqlclient-dev --yes\n",
    "!pip install dataset console-logging mysqlclient dataset --no-cache-dir"
   ]
  },
  {
   "cell_type": "code",
   "execution_count": 2,
   "id": "dab108ab-8c39-452d-a386-3f4691dfa46f",
   "metadata": {
    "execution": {
     "iopub.execute_input": "2021-12-11T19:25:01.153268Z",
     "iopub.status.busy": "2021-12-11T19:25:01.152918Z",
     "iopub.status.idle": "2021-12-11T19:25:01.526522Z",
     "shell.execute_reply": "2021-12-11T19:25:01.526159Z"
    },
    "papermill": {
     "duration": 0.461495,
     "end_time": "2021-12-11T19:25:01.526643",
     "exception": false,
     "start_time": "2021-12-11T19:25:01.065148",
     "status": "completed"
    },
    "tags": []
   },
   "outputs": [],
   "source": [
    "from console_logging.console import Console\n",
    "console = Console()\n",
    "from datetime import datetime as dt\n",
    "from Enriquecimento_UF import Logs"
   ]
  },
  {
   "cell_type": "markdown",
   "id": "9b60d6fa-f77f-40c1-97ac-9051c162aabb",
   "metadata": {
    "papermill": {
     "duration": 0.085313,
     "end_time": "2021-12-11T19:25:01.691377",
     "exception": false,
     "start_time": "2021-12-11T19:25:01.606064",
     "status": "completed"
    },
    "tags": []
   },
   "source": [
    "## Carregando Base "
   ]
  },
  {
   "cell_type": "code",
   "execution_count": 3,
   "id": "69b92ae4-d2de-49e0-bee6-17709e735136",
   "metadata": {
    "execution": {
     "iopub.execute_input": "2021-12-11T19:25:01.873553Z",
     "iopub.status.busy": "2021-12-11T19:25:01.871042Z",
     "iopub.status.idle": "2021-12-11T19:27:07.436985Z",
     "shell.execute_reply": "2021-12-11T19:27:07.436527Z"
    },
    "papermill": {
     "duration": 125.654845,
     "end_time": "2021-12-11T19:27:07.437097",
     "exception": false,
     "start_time": "2021-12-11T19:25:01.782252",
     "status": "completed"
    },
    "tags": []
   },
   "outputs": [
    {
     "name": "stdout",
     "output_type": "stream",
     "text": [
      "[19:25:1:872345]\u001b[43m\u001b[30m[ INFO  ]\u001b[0m : Etapa 2 - Data Clear | Loading dataset :https://st-it-cloud-public.s3.amazonaws.com/people-v2_1E6.csv.gz\n"
     ]
    },
    {
     "name": "stderr",
     "output_type": "stream",
     "text": [
      "/opt/conda/lib/python3.9/site-packages/IPython/core/interactiveshell.py:3444: FutureWarning: The error_bad_lines argument has been deprecated and will be removed in a future version.\n",
      "\n",
      "\n",
      "  exec(code_obj, self.user_global_ns, self.user_ns)\n"
     ]
    }
   ],
   "source": [
    "import pandas as pd\n",
    "import numpy as np\n",
    "import re\n",
    "\n",
    "etapa = \"Etapa 2 - Data Clear\"\n",
    "\n",
    "console_log = Logs(etapa)\n",
    "\n",
    "dataset = \"https://st-it-cloud-public.s3.amazonaws.com/people-v2_1E6.csv.gz\"\n",
    "\n",
    "\n",
    "console_log.info(\"Loading dataset :\" +dataset)\n",
    "\n",
    "\n",
    "df = pd.read_csv(dataset,compression='gzip',error_bad_lines=False,sep=';',low_memory=False)"
   ]
  },
  {
   "cell_type": "markdown",
   "id": "b2388a67-f106-4ba0-a3a8-de4e6e1f4e4a",
   "metadata": {
    "papermill": {
     "duration": 0.081242,
     "end_time": "2021-12-11T19:27:07.594768",
     "exception": false,
     "start_time": "2021-12-11T19:27:07.513526",
     "status": "completed"
    },
    "tags": []
   },
   "source": [
    "## Removendo caracter especial da coluna Document"
   ]
  },
  {
   "cell_type": "code",
   "execution_count": null,
   "id": "a66889d9-7fa2-4503-a0e0-e39f7b9beaf0",
   "metadata": {
    "papermill": {
     "duration": 0.081521,
     "end_time": "2021-12-11T19:27:07.758914",
     "exception": false,
     "start_time": "2021-12-11T19:27:07.677393",
     "status": "completed"
    },
    "tags": []
   },
   "outputs": [],
   "source": []
  },
  {
   "cell_type": "code",
   "execution_count": 4,
   "id": "62100a11-21df-4934-88b4-d61825d2b870",
   "metadata": {
    "execution": {
     "iopub.execute_input": "2021-12-11T19:27:07.927836Z",
     "iopub.status.busy": "2021-12-11T19:27:07.927417Z",
     "iopub.status.idle": "2021-12-11T19:27:09.144724Z",
     "shell.execute_reply": "2021-12-11T19:27:09.144283Z"
    },
    "papermill": {
     "duration": 1.302726,
     "end_time": "2021-12-11T19:27:09.144822",
     "exception": false,
     "start_time": "2021-12-11T19:27:07.842096",
     "status": "completed"
    },
    "tags": []
   },
   "outputs": [
    {
     "name": "stdout",
     "output_type": "stream",
     "text": [
      "[19:27:7:925948]\u001b[43m\u001b[30m[ INFO  ]\u001b[0m : Etapa 2 - Data Clear | Removento caracter especial\n"
     ]
    }
   ],
   "source": [
    "console_log.info(\"Removento caracter especial\")\n",
    "df['document'] = df['document'].apply(lambda x: re.sub('[^A-Za-z0-9]+', '', x))"
   ]
  },
  {
   "cell_type": "code",
   "execution_count": 5,
   "id": "eabbd3c7-e237-466d-af2d-f126dac77239",
   "metadata": {
    "execution": {
     "iopub.execute_input": "2021-12-11T19:27:09.315061Z",
     "iopub.status.busy": "2021-12-11T19:27:09.311354Z",
     "iopub.status.idle": "2021-12-11T19:27:09.321264Z",
     "shell.execute_reply": "2021-12-11T19:27:09.321533Z"
    },
    "papermill": {
     "duration": 0.096686,
     "end_time": "2021-12-11T19:27:09.321633",
     "exception": false,
     "start_time": "2021-12-11T19:27:09.224947",
     "status": "completed"
    },
    "tags": []
   },
   "outputs": [
    {
     "data": {
      "text/html": [
       "<div>\n",
       "<style scoped>\n",
       "    .dataframe tbody tr th:only-of-type {\n",
       "        vertical-align: middle;\n",
       "    }\n",
       "\n",
       "    .dataframe tbody tr th {\n",
       "        vertical-align: top;\n",
       "    }\n",
       "\n",
       "    .dataframe thead th {\n",
       "        text-align: right;\n",
       "    }\n",
       "</style>\n",
       "<table border=\"1\" class=\"dataframe\">\n",
       "  <thead>\n",
       "    <tr style=\"text-align: right;\">\n",
       "      <th></th>\n",
       "      <th>document</th>\n",
       "      <th>name</th>\n",
       "      <th>job</th>\n",
       "      <th>jobArea</th>\n",
       "      <th>jobType</th>\n",
       "      <th>phoneNumber</th>\n",
       "      <th>birthDate</th>\n",
       "      <th>city</th>\n",
       "      <th>state</th>\n",
       "      <th>totalSpent</th>\n",
       "    </tr>\n",
       "  </thead>\n",
       "  <tbody>\n",
       "    <tr>\n",
       "      <th>0</th>\n",
       "      <td>76684148787</td>\n",
       "      <td>Charlleny Braga</td>\n",
       "      <td>Oficial Criativo Dinâmico</td>\n",
       "      <td>Configuração</td>\n",
       "      <td>Estrategista</td>\n",
       "      <td>(62) 4216-9799</td>\n",
       "      <td>20-05-1972</td>\n",
       "      <td>Município de Iara</td>\n",
       "      <td>Goiás</td>\n",
       "      <td>913.80</td>\n",
       "    </tr>\n",
       "    <tr>\n",
       "      <th>1</th>\n",
       "      <td>85704855733</td>\n",
       "      <td>Newton Saraiva</td>\n",
       "      <td>Administrador Comunicações Internacional</td>\n",
       "      <td>Prestação de contas</td>\n",
       "      <td>Facilitador</td>\n",
       "      <td>Aplicações</td>\n",
       "      <td>10-Jun-1982</td>\n",
       "      <td>Município de Neide do Sul</td>\n",
       "      <td>RR</td>\n",
       "      <td>57.26</td>\n",
       "    </tr>\n",
       "    <tr>\n",
       "      <th>2</th>\n",
       "      <td>15664328373377</td>\n",
       "      <td>Dr. Sr. Solange Macedo</td>\n",
       "      <td>Designer Identidade Direto</td>\n",
       "      <td>Métricas</td>\n",
       "      <td>NaN</td>\n",
       "      <td>+55 (95) 7143-3307</td>\n",
       "      <td>05/16/1968</td>\n",
       "      <td>Município de Santo</td>\n",
       "      <td>RO</td>\n",
       "      <td>660.71</td>\n",
       "    </tr>\n",
       "    <tr>\n",
       "      <th>3</th>\n",
       "      <td>02328238087786</td>\n",
       "      <td>Celina Carvalho Jr.</td>\n",
       "      <td>NaN</td>\n",
       "      <td>Qualidade</td>\n",
       "      <td>Ligação</td>\n",
       "      <td>+55 (58) 4136-5577</td>\n",
       "      <td>19810417,</td>\n",
       "      <td>Reis do Norte</td>\n",
       "      <td>RO</td>\n",
       "      <td>542.51</td>\n",
       "    </tr>\n",
       "    <tr>\n",
       "      <th>4</th>\n",
       "      <td>30073687408740</td>\n",
       "      <td>Aurilo Martins</td>\n",
       "      <td>Especialista Paradigma Internacional</td>\n",
       "      <td>Programa</td>\n",
       "      <td>Executivo</td>\n",
       "      <td>(96) 47498-7325</td>\n",
       "      <td>04/07/1980</td>\n",
       "      <td>Município de Aminadab</td>\n",
       "      <td>RO</td>\n",
       "      <td>104.33</td>\n",
       "    </tr>\n",
       "  </tbody>\n",
       "</table>\n",
       "</div>"
      ],
      "text/plain": [
       "         document                    name  \\\n",
       "0     76684148787         Charlleny Braga   \n",
       "1     85704855733          Newton Saraiva   \n",
       "2  15664328373377  Dr. Sr. Solange Macedo   \n",
       "3  02328238087786     Celina Carvalho Jr.   \n",
       "4  30073687408740          Aurilo Martins   \n",
       "\n",
       "                                        job              jobArea  \\\n",
       "0                 Oficial Criativo Dinâmico         Configuração   \n",
       "1  Administrador Comunicações Internacional  Prestação de contas   \n",
       "2                Designer Identidade Direto             Métricas   \n",
       "3                                       NaN            Qualidade   \n",
       "4      Especialista Paradigma Internacional             Programa   \n",
       "\n",
       "        jobType         phoneNumber    birthDate                       city  \\\n",
       "0  Estrategista      (62) 4216-9799   20-05-1972          Município de Iara   \n",
       "1   Facilitador          Aplicações  10-Jun-1982  Município de Neide do Sul   \n",
       "2           NaN  +55 (95) 7143-3307   05/16/1968         Município de Santo   \n",
       "3       Ligação  +55 (58) 4136-5577    19810417,              Reis do Norte   \n",
       "4     Executivo     (96) 47498-7325   04/07/1980      Município de Aminadab   \n",
       "\n",
       "   state  totalSpent  \n",
       "0  Goiás      913.80  \n",
       "1     RR       57.26  \n",
       "2     RO      660.71  \n",
       "3     RO      542.51  \n",
       "4     RO      104.33  "
      ]
     },
     "execution_count": 5,
     "metadata": {},
     "output_type": "execute_result"
    }
   ],
   "source": [
    "df.head()"
   ]
  },
  {
   "cell_type": "markdown",
   "id": "3353745f-a1f4-4f30-84cd-8b08501ec7c7",
   "metadata": {
    "papermill": {
     "duration": 0.084037,
     "end_time": "2021-12-11T19:27:09.484754",
     "exception": false,
     "start_time": "2021-12-11T19:27:09.400717",
     "status": "completed"
    },
    "tags": []
   },
   "source": [
    "## Avaliando Doc para Pessoas Juridica ou Fisica"
   ]
  },
  {
   "cell_type": "code",
   "execution_count": 6,
   "id": "983313d5-4f81-4321-a446-a201cee2f434",
   "metadata": {
    "execution": {
     "iopub.execute_input": "2021-12-11T19:27:09.657717Z",
     "iopub.status.busy": "2021-12-11T19:27:09.657135Z",
     "iopub.status.idle": "2021-12-11T19:27:09.877038Z",
     "shell.execute_reply": "2021-12-11T19:27:09.877346Z"
    },
    "papermill": {
     "duration": 0.309617,
     "end_time": "2021-12-11T19:27:09.877464",
     "exception": false,
     "start_time": "2021-12-11T19:27:09.567847",
     "status": "completed"
    },
    "tags": []
   },
   "outputs": [
    {
     "name": "stdout",
     "output_type": "stream",
     "text": [
      "[19:27:9:655657]\u001b[43m\u001b[30m[ INFO  ]\u001b[0m : Etapa 2 - Data Clear | Criando Coluna Pessoas, Pessoa fisica x Pessoa Juridica\n"
     ]
    }
   ],
   "source": [
    "\n",
    "console_log.info(\"Criando Coluna Pessoas, Pessoa fisica x Pessoa Juridica\")\n",
    "df['PESSOA'] = df['document'].apply(lambda document: \"JURIDICA\" if len(str(document)) == 14 else \"FISICA\")"
   ]
  },
  {
   "cell_type": "markdown",
   "id": "ed1d6847-230d-43d2-ae82-55a8af51858d",
   "metadata": {
    "papermill": {
     "duration": 0.082853,
     "end_time": "2021-12-11T19:27:10.046839",
     "exception": false,
     "start_time": "2021-12-11T19:27:09.963986",
     "status": "completed"
    },
    "tags": []
   },
   "source": [
    "## Correção e Parse de Data Hora"
   ]
  },
  {
   "cell_type": "code",
   "execution_count": 7,
   "id": "884fb740-e46d-488b-8a08-cda633845350",
   "metadata": {
    "execution": {
     "iopub.execute_input": "2021-12-11T19:27:10.211720Z",
     "iopub.status.busy": "2021-12-11T19:27:10.211305Z",
     "iopub.status.idle": "2021-12-11T19:27:55.134681Z",
     "shell.execute_reply": "2021-12-11T19:27:55.134987Z"
    },
    "papermill": {
     "duration": 45.005768,
     "end_time": "2021-12-11T19:27:55.135094",
     "exception": false,
     "start_time": "2021-12-11T19:27:10.129326",
     "status": "completed"
    },
    "tags": []
   },
   "outputs": [
    {
     "name": "stdout",
     "output_type": "stream",
     "text": [
      "[19:27:10:210415]\u001b[43m\u001b[30m[ INFO  ]\u001b[0m : Etapa 2 - Data Clear | CORREÇÃO DATA HORA\n",
      "[19:27:10:215929]\u001b[43m\u001b[30m[ INFO  ]\u001b[0m : INICIO CORREÇÃO DATA HORA\n"
     ]
    },
    {
     "name": "stdout",
     "output_type": "stream",
     "text": [
      "[19:27:55:53003]\u001b[43m\u001b[30m[ INFO  ]\u001b[0m : FIM CORREÇÃO HORA\n",
      "[19:27:55:53151]\u001b[7m[  LOG  ]\u001b[0m : Tempo de Exec: 0:00:44.837098\n"
     ]
    }
   ],
   "source": [
    "from dateutil.parser import parse\n",
    "\n",
    "console_log.info(\"CORREÇÃO DATA HORA\")\n",
    "\n",
    "console.info(\"INICIO CORREÇÃO DATA HORA\")\n",
    "inicio = dt.now()\n",
    "df['birthDate'] = df['birthDate'].apply(lambda date: parse (date))\n",
    "\n",
    "console.info(\"FIM CORREÇÃO HORA\")\n",
    "\n",
    "console.log(\"Tempo de Exec: \"+str(dt.now() - inicio))"
   ]
  },
  {
   "cell_type": "markdown",
   "id": "0f8a2848-117e-4196-8a54-a0c88bd333a1",
   "metadata": {
    "papermill": {
     "duration": 0.088589,
     "end_time": "2021-12-11T19:27:55.307236",
     "exception": false,
     "start_time": "2021-12-11T19:27:55.218647",
     "status": "completed"
    },
    "tags": []
   },
   "source": [
    "## Processo de correção de phoneNumber e Job Area"
   ]
  },
  {
   "cell_type": "code",
   "execution_count": 8,
   "id": "a996b69f-c30a-480d-a6af-1cd7fef5699f",
   "metadata": {
    "execution": {
     "iopub.execute_input": "2021-12-11T19:27:55.483455Z",
     "iopub.status.busy": "2021-12-11T19:27:55.483060Z",
     "iopub.status.idle": "2021-12-11T19:27:57.151215Z",
     "shell.execute_reply": "2021-12-11T19:27:57.150052Z"
    },
    "papermill": {
     "duration": 1.75691,
     "end_time": "2021-12-11T19:27:57.151447",
     "exception": false,
     "start_time": "2021-12-11T19:27:55.394537",
     "status": "completed"
    },
    "tags": []
   },
   "outputs": [],
   "source": [
    "df['phoneNumber'] = df['phoneNumber'].apply(lambda x: re.sub('[^A-Za-z0-9]+', '', x))"
   ]
  },
  {
   "cell_type": "code",
   "execution_count": 9,
   "id": "fec3e229-560e-4345-86e7-72346f024c1f",
   "metadata": {
    "execution": {
     "iopub.execute_input": "2021-12-11T19:27:57.328919Z",
     "iopub.status.busy": "2021-12-11T19:27:57.326491Z",
     "iopub.status.idle": "2021-12-11T19:27:57.714059Z",
     "shell.execute_reply": "2021-12-11T19:27:57.714370Z"
    },
    "papermill": {
     "duration": 0.475558,
     "end_time": "2021-12-11T19:27:57.714483",
     "exception": false,
     "start_time": "2021-12-11T19:27:57.238925",
     "status": "completed"
    },
    "tags": []
   },
   "outputs": [],
   "source": [
    "df['jobArea'] = df['jobArea'].apply(lambda x: x.replace(\"+\",\"\").replace(\"(\",\"\").replace(\")\",\"\").replace(\"-\",\"\").replace(\" \",\"\"))"
   ]
  },
  {
   "cell_type": "code",
   "execution_count": 10,
   "id": "1c06af22-fd5c-4293-a1c9-17309819e4d4",
   "metadata": {
    "execution": {
     "iopub.execute_input": "2021-12-11T19:27:58.132961Z",
     "iopub.status.busy": "2021-12-11T19:27:57.886959Z",
     "iopub.status.idle": "2021-12-11T19:27:58.146969Z",
     "shell.execute_reply": "2021-12-11T19:27:58.146545Z"
    },
    "papermill": {
     "duration": 0.349147,
     "end_time": "2021-12-11T19:27:58.147074",
     "exception": false,
     "start_time": "2021-12-11T19:27:57.797927",
     "status": "completed"
    },
    "tags": []
   },
   "outputs": [
    {
     "data": {
      "text/html": [
       "<div>\n",
       "<style scoped>\n",
       "    .dataframe tbody tr th:only-of-type {\n",
       "        vertical-align: middle;\n",
       "    }\n",
       "\n",
       "    .dataframe tbody tr th {\n",
       "        vertical-align: top;\n",
       "    }\n",
       "\n",
       "    .dataframe thead th {\n",
       "        text-align: right;\n",
       "    }\n",
       "</style>\n",
       "<table border=\"1\" class=\"dataframe\">\n",
       "  <thead>\n",
       "    <tr style=\"text-align: right;\">\n",
       "      <th></th>\n",
       "      <th>document</th>\n",
       "      <th>name</th>\n",
       "      <th>job</th>\n",
       "      <th>jobArea</th>\n",
       "      <th>jobType</th>\n",
       "      <th>phoneNumber</th>\n",
       "      <th>birthDate</th>\n",
       "      <th>city</th>\n",
       "      <th>state</th>\n",
       "      <th>totalSpent</th>\n",
       "      <th>PESSOA</th>\n",
       "    </tr>\n",
       "  </thead>\n",
       "  <tbody>\n",
       "    <tr>\n",
       "      <th>20</th>\n",
       "      <td>30608514374605</td>\n",
       "      <td>Vanilda Carvalho</td>\n",
       "      <td>Supervisor Paradigma Regional</td>\n",
       "      <td>Operações</td>\n",
       "      <td>Analista</td>\n",
       "      <td>5281574122</td>\n",
       "      <td>1979-04-11</td>\n",
       "      <td>Grande Hernandes de Nossa Senhora</td>\n",
       "      <td>AM</td>\n",
       "      <td>722.46</td>\n",
       "      <td>JURIDICA</td>\n",
       "    </tr>\n",
       "    <tr>\n",
       "      <th>21</th>\n",
       "      <td>65270593106</td>\n",
       "      <td>Flormira Costa Neto</td>\n",
       "      <td>Designer Prestação de contas Chefe</td>\n",
       "      <td>Mercados</td>\n",
       "      <td>NaN</td>\n",
       "      <td>44137571479</td>\n",
       "      <td>1972-11-14</td>\n",
       "      <td>Vila Tochie do Descoberto</td>\n",
       "      <td>PI</td>\n",
       "      <td>617.65</td>\n",
       "      <td>FISICA</td>\n",
       "    </tr>\n",
       "    <tr>\n",
       "      <th>22</th>\n",
       "      <td>35171180369</td>\n",
       "      <td>Vanoil Xavier Filho Filho</td>\n",
       "      <td>Analista Comunicações Corporativo</td>\n",
       "      <td>554729539641</td>\n",
       "      <td>Analista</td>\n",
       "      <td>Operaes</td>\n",
       "      <td>1979-09-25</td>\n",
       "      <td>Velha Fátima do Descoberto</td>\n",
       "      <td>Paraná</td>\n",
       "      <td>402.10</td>\n",
       "      <td>FISICA</td>\n",
       "    </tr>\n",
       "    <tr>\n",
       "      <th>42</th>\n",
       "      <td>27511213308</td>\n",
       "      <td>Leila Melo</td>\n",
       "      <td>Ligação Resposta Frente</td>\n",
       "      <td>553538379102</td>\n",
       "      <td>Analista</td>\n",
       "      <td>3978491494</td>\n",
       "      <td>1965-06-05</td>\n",
       "      <td>Deise do Sul</td>\n",
       "      <td>Tocantins</td>\n",
       "      <td>521.93</td>\n",
       "      <td>FISICA</td>\n",
       "    </tr>\n",
       "    <tr>\n",
       "      <th>44</th>\n",
       "      <td>18273161285</td>\n",
       "      <td>Sinezio Saraiva Filho</td>\n",
       "      <td>Produtor Fatores Diretor</td>\n",
       "      <td>71492839575</td>\n",
       "      <td>Associado</td>\n",
       "      <td>4067855749</td>\n",
       "      <td>1980-01-11</td>\n",
       "      <td>Angelino do Norte</td>\n",
       "      <td>Rio de Janeiro</td>\n",
       "      <td>195.40</td>\n",
       "      <td>FISICA</td>\n",
       "    </tr>\n",
       "    <tr>\n",
       "      <th>45</th>\n",
       "      <td>18091073500</td>\n",
       "      <td>Mauricio Costa</td>\n",
       "      <td>NaN</td>\n",
       "      <td>Implementação</td>\n",
       "      <td>Representante</td>\n",
       "      <td>551545325212</td>\n",
       "      <td>1970-11-05</td>\n",
       "      <td>NaN</td>\n",
       "      <td>Amapá</td>\n",
       "      <td>514.80</td>\n",
       "      <td>FISICA</td>\n",
       "    </tr>\n",
       "    <tr>\n",
       "      <th>46</th>\n",
       "      <td>28673547067</td>\n",
       "      <td>Dr. Laura Nogueira Filho</td>\n",
       "      <td>Ligação Operações Global</td>\n",
       "      <td>Configuração</td>\n",
       "      <td>Coordenador</td>\n",
       "      <td>556813989342</td>\n",
       "      <td>1977-10-23</td>\n",
       "      <td>Costa de Nossa Senhora</td>\n",
       "      <td>Espírito Santo</td>\n",
       "      <td>275.79</td>\n",
       "      <td>FISICA</td>\n",
       "    </tr>\n",
       "    <tr>\n",
       "      <th>49</th>\n",
       "      <td>91131730810</td>\n",
       "      <td>Rizia Carvalho</td>\n",
       "      <td>Assistente Integração Frente</td>\n",
       "      <td>554500855603</td>\n",
       "      <td>Oficial</td>\n",
       "      <td>2068756735</td>\n",
       "      <td>1985-09-23</td>\n",
       "      <td>NaN</td>\n",
       "      <td>Roraima</td>\n",
       "      <td>717.84</td>\n",
       "      <td>FISICA</td>\n",
       "    </tr>\n",
       "    <tr>\n",
       "      <th>63</th>\n",
       "      <td>27534718198</td>\n",
       "      <td>Srta. Emerson Neto</td>\n",
       "      <td>Técnico Aplicações Internacional</td>\n",
       "      <td>16392243386</td>\n",
       "      <td>NaN</td>\n",
       "      <td>555744493385</td>\n",
       "      <td>1970-11-19</td>\n",
       "      <td>NaN</td>\n",
       "      <td>AC</td>\n",
       "      <td>615.94</td>\n",
       "      <td>FISICA</td>\n",
       "    </tr>\n",
       "    <tr>\n",
       "      <th>70</th>\n",
       "      <td>39481762483</td>\n",
       "      <td>Dr. Valdirene Costa Neto</td>\n",
       "      <td>Executivo Marca Regional</td>\n",
       "      <td>40953777274</td>\n",
       "      <td>Produtor</td>\n",
       "      <td>08994475247</td>\n",
       "      <td>1972-03-30</td>\n",
       "      <td>Grande Jurema do Descoberto</td>\n",
       "      <td>Ceará</td>\n",
       "      <td>863.68</td>\n",
       "      <td>FISICA</td>\n",
       "    </tr>\n",
       "  </tbody>\n",
       "</table>\n",
       "</div>"
      ],
      "text/plain": [
       "          document                       name  \\\n",
       "20  30608514374605           Vanilda Carvalho   \n",
       "21     65270593106        Flormira Costa Neto   \n",
       "22     35171180369  Vanoil Xavier Filho Filho   \n",
       "42     27511213308                 Leila Melo   \n",
       "44     18273161285      Sinezio Saraiva Filho   \n",
       "45     18091073500             Mauricio Costa   \n",
       "46     28673547067   Dr. Laura Nogueira Filho   \n",
       "49     91131730810             Rizia Carvalho   \n",
       "63     27534718198         Srta. Emerson Neto   \n",
       "70     39481762483   Dr. Valdirene Costa Neto   \n",
       "\n",
       "                                   job        jobArea        jobType  \\\n",
       "20       Supervisor Paradigma Regional      Operações       Analista   \n",
       "21  Designer Prestação de contas Chefe       Mercados            NaN   \n",
       "22   Analista Comunicações Corporativo   554729539641       Analista   \n",
       "42             Ligação Resposta Frente   553538379102       Analista   \n",
       "44            Produtor Fatores Diretor    71492839575      Associado   \n",
       "45                                 NaN  Implementação  Representante   \n",
       "46            Ligação Operações Global   Configuração    Coordenador   \n",
       "49        Assistente Integração Frente   554500855603        Oficial   \n",
       "63    Técnico Aplicações Internacional    16392243386            NaN   \n",
       "70            Executivo Marca Regional    40953777274       Produtor   \n",
       "\n",
       "     phoneNumber  birthDate                               city  \\\n",
       "20    5281574122 1979-04-11  Grande Hernandes de Nossa Senhora   \n",
       "21   44137571479 1972-11-14          Vila Tochie do Descoberto   \n",
       "22       Operaes 1979-09-25         Velha Fátima do Descoberto   \n",
       "42    3978491494 1965-06-05                       Deise do Sul   \n",
       "44    4067855749 1980-01-11                  Angelino do Norte   \n",
       "45  551545325212 1970-11-05                                NaN   \n",
       "46  556813989342 1977-10-23             Costa de Nossa Senhora   \n",
       "49    2068756735 1985-09-23                                NaN   \n",
       "63  555744493385 1970-11-19                                NaN   \n",
       "70   08994475247 1972-03-30        Grande Jurema do Descoberto   \n",
       "\n",
       "             state  totalSpent    PESSOA  \n",
       "20              AM      722.46  JURIDICA  \n",
       "21              PI      617.65    FISICA  \n",
       "22          Paraná      402.10    FISICA  \n",
       "42       Tocantins      521.93    FISICA  \n",
       "44  Rio de Janeiro      195.40    FISICA  \n",
       "45           Amapá      514.80    FISICA  \n",
       "46  Espírito Santo      275.79    FISICA  \n",
       "49         Roraima      717.84    FISICA  \n",
       "63              AC      615.94    FISICA  \n",
       "70           Ceará      863.68    FISICA  "
      ]
     },
     "execution_count": 10,
     "metadata": {},
     "output_type": "execute_result"
    }
   ],
   "source": [
    "df.iloc[[20,21,22,42,44,45,46,49,63,70]]"
   ]
  },
  {
   "cell_type": "code",
   "execution_count": 11,
   "id": "ea6c0633-f0b7-4c14-92a4-28f6e61bb7d1",
   "metadata": {
    "execution": {
     "iopub.execute_input": "2021-12-11T19:27:58.320674Z",
     "iopub.status.busy": "2021-12-11T19:27:58.320332Z",
     "iopub.status.idle": "2021-12-11T19:27:58.323043Z",
     "shell.execute_reply": "2021-12-11T19:27:58.322770Z"
    },
    "papermill": {
     "duration": 0.093231,
     "end_time": "2021-12-11T19:27:58.323119",
     "exception": false,
     "start_time": "2021-12-11T19:27:58.229888",
     "status": "completed"
    },
    "tags": []
   },
   "outputs": [],
   "source": [
    "def fuck_corrige(df):\n",
    "    aux = df.copy()\n",
    "\n",
    "    for ids,item in df[['jobArea','phoneNumber']].iterrows():\n",
    "        if item['jobArea'].isnumeric() == True and item['phoneNumber'].isnumeric() == False:\n",
    "              aux.loc[ids,\"jobArea\"] = item[\"phoneNumber\"]\n",
    "              aux.loc[ids,\"phoneNumber\"]= item [\"jobArea\"]\n",
    "\n",
    "        if item[\"jobArea\"].isnumeric() == False and item['phoneNumber'].isnumeric() == True:\n",
    "            pass    \n",
    "        \n",
    "        if item[\"jobArea\"].isnumeric() == True and item['phoneNumber'].isnumeric() == True:\n",
    "            aux.loc[ids,\"jobArea\"] =  \"\"\n",
    "\n",
    "        if item[\"jobArea\"].isnumeric() == False and item['phoneNumber'].isnumeric() == False:\n",
    "            aux.loc[ids,\"phoneNumber\"]= \"\" \n",
    "    return aux \n"
   ]
  },
  {
   "cell_type": "code",
   "execution_count": 12,
   "id": "81e8cd48-72c7-4f0d-9342-5f95367a1ee6",
   "metadata": {
    "execution": {
     "iopub.execute_input": "2021-12-11T19:27:58.489520Z",
     "iopub.status.busy": "2021-12-11T19:27:58.488875Z",
     "iopub.status.idle": "2021-12-11T20:05:42.893301Z",
     "shell.execute_reply": "2021-12-11T20:05:42.893630Z"
    },
    "papermill": {
     "duration": 2264.48543,
     "end_time": "2021-12-11T20:05:42.893738",
     "exception": false,
     "start_time": "2021-12-11T19:27:58.408308",
     "status": "completed"
    },
    "tags": []
   },
   "outputs": [
    {
     "name": "stdout",
     "output_type": "stream",
     "text": [
      "[19:27:58:487254]\u001b[43m\u001b[30m[ INFO  ]\u001b[0m : Etapa 2 - Data Clear |  TRATAMENTO DE COLUNAS \n"
     ]
    },
    {
     "name": "stdout",
     "output_type": "stream",
     "text": [
      "[20:5:42:807957]\u001b[7m[  LOG  ]\u001b[0m : Tempo de Exec: 0:37:44.320710\n"
     ]
    }
   ],
   "source": [
    "\n",
    "inicio = dt.now()\n",
    "console_log.info(\" TRATAMENTO DE COLUNAS \")\n",
    "\n",
    "df_aux = fuck_corrige(df)\n",
    "\n",
    "console.log(\"Tempo de Exec: \"+str(dt.now() - inicio))"
   ]
  },
  {
   "cell_type": "code",
   "execution_count": 13,
   "id": "e38b6b98-0104-4abe-a44c-d140f706cff0",
   "metadata": {
    "execution": {
     "iopub.execute_input": "2021-12-11T20:05:43.071475Z",
     "iopub.status.busy": "2021-12-11T20:05:43.070947Z",
     "iopub.status.idle": "2021-12-11T20:05:43.073811Z",
     "shell.execute_reply": "2021-12-11T20:05:43.074079Z"
    },
    "papermill": {
     "duration": 0.100445,
     "end_time": "2021-12-11T20:05:43.074178",
     "exception": false,
     "start_time": "2021-12-11T20:05:42.973733",
     "status": "completed"
    },
    "tags": []
   },
   "outputs": [
    {
     "data": {
      "text/html": [
       "<div>\n",
       "<style scoped>\n",
       "    .dataframe tbody tr th:only-of-type {\n",
       "        vertical-align: middle;\n",
       "    }\n",
       "\n",
       "    .dataframe tbody tr th {\n",
       "        vertical-align: top;\n",
       "    }\n",
       "\n",
       "    .dataframe thead th {\n",
       "        text-align: right;\n",
       "    }\n",
       "</style>\n",
       "<table border=\"1\" class=\"dataframe\">\n",
       "  <thead>\n",
       "    <tr style=\"text-align: right;\">\n",
       "      <th></th>\n",
       "      <th>document</th>\n",
       "      <th>name</th>\n",
       "      <th>job</th>\n",
       "      <th>jobArea</th>\n",
       "      <th>jobType</th>\n",
       "      <th>phoneNumber</th>\n",
       "      <th>birthDate</th>\n",
       "      <th>city</th>\n",
       "      <th>state</th>\n",
       "      <th>totalSpent</th>\n",
       "      <th>PESSOA</th>\n",
       "    </tr>\n",
       "  </thead>\n",
       "  <tbody>\n",
       "    <tr>\n",
       "      <th>20</th>\n",
       "      <td>30608514374605</td>\n",
       "      <td>Vanilda Carvalho</td>\n",
       "      <td>Supervisor Paradigma Regional</td>\n",
       "      <td>Operações</td>\n",
       "      <td>Analista</td>\n",
       "      <td>5281574122</td>\n",
       "      <td>1979-04-11</td>\n",
       "      <td>Grande Hernandes de Nossa Senhora</td>\n",
       "      <td>AM</td>\n",
       "      <td>722.46</td>\n",
       "      <td>JURIDICA</td>\n",
       "    </tr>\n",
       "    <tr>\n",
       "      <th>21</th>\n",
       "      <td>65270593106</td>\n",
       "      <td>Flormira Costa Neto</td>\n",
       "      <td>Designer Prestação de contas Chefe</td>\n",
       "      <td>Mercados</td>\n",
       "      <td>NaN</td>\n",
       "      <td>44137571479</td>\n",
       "      <td>1972-11-14</td>\n",
       "      <td>Vila Tochie do Descoberto</td>\n",
       "      <td>PI</td>\n",
       "      <td>617.65</td>\n",
       "      <td>FISICA</td>\n",
       "    </tr>\n",
       "    <tr>\n",
       "      <th>22</th>\n",
       "      <td>35171180369</td>\n",
       "      <td>Vanoil Xavier Filho Filho</td>\n",
       "      <td>Analista Comunicações Corporativo</td>\n",
       "      <td>554729539641</td>\n",
       "      <td>Analista</td>\n",
       "      <td>Operaes</td>\n",
       "      <td>1979-09-25</td>\n",
       "      <td>Velha Fátima do Descoberto</td>\n",
       "      <td>Paraná</td>\n",
       "      <td>402.10</td>\n",
       "      <td>FISICA</td>\n",
       "    </tr>\n",
       "    <tr>\n",
       "      <th>42</th>\n",
       "      <td>27511213308</td>\n",
       "      <td>Leila Melo</td>\n",
       "      <td>Ligação Resposta Frente</td>\n",
       "      <td>553538379102</td>\n",
       "      <td>Analista</td>\n",
       "      <td>3978491494</td>\n",
       "      <td>1965-06-05</td>\n",
       "      <td>Deise do Sul</td>\n",
       "      <td>Tocantins</td>\n",
       "      <td>521.93</td>\n",
       "      <td>FISICA</td>\n",
       "    </tr>\n",
       "    <tr>\n",
       "      <th>44</th>\n",
       "      <td>18273161285</td>\n",
       "      <td>Sinezio Saraiva Filho</td>\n",
       "      <td>Produtor Fatores Diretor</td>\n",
       "      <td>71492839575</td>\n",
       "      <td>Associado</td>\n",
       "      <td>4067855749</td>\n",
       "      <td>1980-01-11</td>\n",
       "      <td>Angelino do Norte</td>\n",
       "      <td>Rio de Janeiro</td>\n",
       "      <td>195.40</td>\n",
       "      <td>FISICA</td>\n",
       "    </tr>\n",
       "    <tr>\n",
       "      <th>45</th>\n",
       "      <td>18091073500</td>\n",
       "      <td>Mauricio Costa</td>\n",
       "      <td>NaN</td>\n",
       "      <td>Implementação</td>\n",
       "      <td>Representante</td>\n",
       "      <td>551545325212</td>\n",
       "      <td>1970-11-05</td>\n",
       "      <td>NaN</td>\n",
       "      <td>Amapá</td>\n",
       "      <td>514.80</td>\n",
       "      <td>FISICA</td>\n",
       "    </tr>\n",
       "    <tr>\n",
       "      <th>46</th>\n",
       "      <td>28673547067</td>\n",
       "      <td>Dr. Laura Nogueira Filho</td>\n",
       "      <td>Ligação Operações Global</td>\n",
       "      <td>Configuração</td>\n",
       "      <td>Coordenador</td>\n",
       "      <td>556813989342</td>\n",
       "      <td>1977-10-23</td>\n",
       "      <td>Costa de Nossa Senhora</td>\n",
       "      <td>Espírito Santo</td>\n",
       "      <td>275.79</td>\n",
       "      <td>FISICA</td>\n",
       "    </tr>\n",
       "    <tr>\n",
       "      <th>49</th>\n",
       "      <td>91131730810</td>\n",
       "      <td>Rizia Carvalho</td>\n",
       "      <td>Assistente Integração Frente</td>\n",
       "      <td>554500855603</td>\n",
       "      <td>Oficial</td>\n",
       "      <td>2068756735</td>\n",
       "      <td>1985-09-23</td>\n",
       "      <td>NaN</td>\n",
       "      <td>Roraima</td>\n",
       "      <td>717.84</td>\n",
       "      <td>FISICA</td>\n",
       "    </tr>\n",
       "    <tr>\n",
       "      <th>63</th>\n",
       "      <td>27534718198</td>\n",
       "      <td>Srta. Emerson Neto</td>\n",
       "      <td>Técnico Aplicações Internacional</td>\n",
       "      <td>16392243386</td>\n",
       "      <td>NaN</td>\n",
       "      <td>555744493385</td>\n",
       "      <td>1970-11-19</td>\n",
       "      <td>NaN</td>\n",
       "      <td>AC</td>\n",
       "      <td>615.94</td>\n",
       "      <td>FISICA</td>\n",
       "    </tr>\n",
       "    <tr>\n",
       "      <th>70</th>\n",
       "      <td>39481762483</td>\n",
       "      <td>Dr. Valdirene Costa Neto</td>\n",
       "      <td>Executivo Marca Regional</td>\n",
       "      <td>40953777274</td>\n",
       "      <td>Produtor</td>\n",
       "      <td>08994475247</td>\n",
       "      <td>1972-03-30</td>\n",
       "      <td>Grande Jurema do Descoberto</td>\n",
       "      <td>Ceará</td>\n",
       "      <td>863.68</td>\n",
       "      <td>FISICA</td>\n",
       "    </tr>\n",
       "  </tbody>\n",
       "</table>\n",
       "</div>"
      ],
      "text/plain": [
       "          document                       name  \\\n",
       "20  30608514374605           Vanilda Carvalho   \n",
       "21     65270593106        Flormira Costa Neto   \n",
       "22     35171180369  Vanoil Xavier Filho Filho   \n",
       "42     27511213308                 Leila Melo   \n",
       "44     18273161285      Sinezio Saraiva Filho   \n",
       "45     18091073500             Mauricio Costa   \n",
       "46     28673547067   Dr. Laura Nogueira Filho   \n",
       "49     91131730810             Rizia Carvalho   \n",
       "63     27534718198         Srta. Emerson Neto   \n",
       "70     39481762483   Dr. Valdirene Costa Neto   \n",
       "\n",
       "                                   job        jobArea        jobType  \\\n",
       "20       Supervisor Paradigma Regional      Operações       Analista   \n",
       "21  Designer Prestação de contas Chefe       Mercados            NaN   \n",
       "22   Analista Comunicações Corporativo   554729539641       Analista   \n",
       "42             Ligação Resposta Frente   553538379102       Analista   \n",
       "44            Produtor Fatores Diretor    71492839575      Associado   \n",
       "45                                 NaN  Implementação  Representante   \n",
       "46            Ligação Operações Global   Configuração    Coordenador   \n",
       "49        Assistente Integração Frente   554500855603        Oficial   \n",
       "63    Técnico Aplicações Internacional    16392243386            NaN   \n",
       "70            Executivo Marca Regional    40953777274       Produtor   \n",
       "\n",
       "     phoneNumber  birthDate                               city  \\\n",
       "20    5281574122 1979-04-11  Grande Hernandes de Nossa Senhora   \n",
       "21   44137571479 1972-11-14          Vila Tochie do Descoberto   \n",
       "22       Operaes 1979-09-25         Velha Fátima do Descoberto   \n",
       "42    3978491494 1965-06-05                       Deise do Sul   \n",
       "44    4067855749 1980-01-11                  Angelino do Norte   \n",
       "45  551545325212 1970-11-05                                NaN   \n",
       "46  556813989342 1977-10-23             Costa de Nossa Senhora   \n",
       "49    2068756735 1985-09-23                                NaN   \n",
       "63  555744493385 1970-11-19                                NaN   \n",
       "70   08994475247 1972-03-30        Grande Jurema do Descoberto   \n",
       "\n",
       "             state  totalSpent    PESSOA  \n",
       "20              AM      722.46  JURIDICA  \n",
       "21              PI      617.65    FISICA  \n",
       "22          Paraná      402.10    FISICA  \n",
       "42       Tocantins      521.93    FISICA  \n",
       "44  Rio de Janeiro      195.40    FISICA  \n",
       "45           Amapá      514.80    FISICA  \n",
       "46  Espírito Santo      275.79    FISICA  \n",
       "49         Roraima      717.84    FISICA  \n",
       "63              AC      615.94    FISICA  \n",
       "70           Ceará      863.68    FISICA  "
      ]
     },
     "execution_count": 13,
     "metadata": {},
     "output_type": "execute_result"
    }
   ],
   "source": [
    "df.iloc[[20,21,22,42,44,45,46,49,63,70]]"
   ]
  },
  {
   "cell_type": "code",
   "execution_count": 14,
   "id": "e0c2df8b-a5fa-4c0f-ab65-c0cc405e0e86",
   "metadata": {
    "execution": {
     "iopub.execute_input": "2021-12-11T20:05:43.255158Z",
     "iopub.status.busy": "2021-12-11T20:05:43.254807Z",
     "iopub.status.idle": "2021-12-11T20:05:43.257926Z",
     "shell.execute_reply": "2021-12-11T20:05:43.257561Z"
    },
    "papermill": {
     "duration": 0.101644,
     "end_time": "2021-12-11T20:05:43.258005",
     "exception": false,
     "start_time": "2021-12-11T20:05:43.156361",
     "status": "completed"
    },
    "tags": []
   },
   "outputs": [
    {
     "data": {
      "text/html": [
       "<div>\n",
       "<style scoped>\n",
       "    .dataframe tbody tr th:only-of-type {\n",
       "        vertical-align: middle;\n",
       "    }\n",
       "\n",
       "    .dataframe tbody tr th {\n",
       "        vertical-align: top;\n",
       "    }\n",
       "\n",
       "    .dataframe thead th {\n",
       "        text-align: right;\n",
       "    }\n",
       "</style>\n",
       "<table border=\"1\" class=\"dataframe\">\n",
       "  <thead>\n",
       "    <tr style=\"text-align: right;\">\n",
       "      <th></th>\n",
       "      <th>document</th>\n",
       "      <th>name</th>\n",
       "      <th>job</th>\n",
       "      <th>jobArea</th>\n",
       "      <th>jobType</th>\n",
       "      <th>phoneNumber</th>\n",
       "      <th>birthDate</th>\n",
       "      <th>city</th>\n",
       "      <th>state</th>\n",
       "      <th>totalSpent</th>\n",
       "      <th>PESSOA</th>\n",
       "    </tr>\n",
       "  </thead>\n",
       "  <tbody>\n",
       "    <tr>\n",
       "      <th>20</th>\n",
       "      <td>30608514374605</td>\n",
       "      <td>Vanilda Carvalho</td>\n",
       "      <td>Supervisor Paradigma Regional</td>\n",
       "      <td>Operações</td>\n",
       "      <td>Analista</td>\n",
       "      <td>5281574122</td>\n",
       "      <td>1979-04-11</td>\n",
       "      <td>Grande Hernandes de Nossa Senhora</td>\n",
       "      <td>AM</td>\n",
       "      <td>722.46</td>\n",
       "      <td>JURIDICA</td>\n",
       "    </tr>\n",
       "    <tr>\n",
       "      <th>21</th>\n",
       "      <td>65270593106</td>\n",
       "      <td>Flormira Costa Neto</td>\n",
       "      <td>Designer Prestação de contas Chefe</td>\n",
       "      <td>Mercados</td>\n",
       "      <td>NaN</td>\n",
       "      <td>44137571479</td>\n",
       "      <td>1972-11-14</td>\n",
       "      <td>Vila Tochie do Descoberto</td>\n",
       "      <td>PI</td>\n",
       "      <td>617.65</td>\n",
       "      <td>FISICA</td>\n",
       "    </tr>\n",
       "    <tr>\n",
       "      <th>22</th>\n",
       "      <td>35171180369</td>\n",
       "      <td>Vanoil Xavier Filho Filho</td>\n",
       "      <td>Analista Comunicações Corporativo</td>\n",
       "      <td>Operaes</td>\n",
       "      <td>Analista</td>\n",
       "      <td>554729539641</td>\n",
       "      <td>1979-09-25</td>\n",
       "      <td>Velha Fátima do Descoberto</td>\n",
       "      <td>Paraná</td>\n",
       "      <td>402.10</td>\n",
       "      <td>FISICA</td>\n",
       "    </tr>\n",
       "    <tr>\n",
       "      <th>42</th>\n",
       "      <td>27511213308</td>\n",
       "      <td>Leila Melo</td>\n",
       "      <td>Ligação Resposta Frente</td>\n",
       "      <td></td>\n",
       "      <td>Analista</td>\n",
       "      <td>3978491494</td>\n",
       "      <td>1965-06-05</td>\n",
       "      <td>Deise do Sul</td>\n",
       "      <td>Tocantins</td>\n",
       "      <td>521.93</td>\n",
       "      <td>FISICA</td>\n",
       "    </tr>\n",
       "    <tr>\n",
       "      <th>44</th>\n",
       "      <td>18273161285</td>\n",
       "      <td>Sinezio Saraiva Filho</td>\n",
       "      <td>Produtor Fatores Diretor</td>\n",
       "      <td></td>\n",
       "      <td>Associado</td>\n",
       "      <td>4067855749</td>\n",
       "      <td>1980-01-11</td>\n",
       "      <td>Angelino do Norte</td>\n",
       "      <td>Rio de Janeiro</td>\n",
       "      <td>195.40</td>\n",
       "      <td>FISICA</td>\n",
       "    </tr>\n",
       "    <tr>\n",
       "      <th>45</th>\n",
       "      <td>18091073500</td>\n",
       "      <td>Mauricio Costa</td>\n",
       "      <td>NaN</td>\n",
       "      <td>Implementação</td>\n",
       "      <td>Representante</td>\n",
       "      <td>551545325212</td>\n",
       "      <td>1970-11-05</td>\n",
       "      <td>NaN</td>\n",
       "      <td>Amapá</td>\n",
       "      <td>514.80</td>\n",
       "      <td>FISICA</td>\n",
       "    </tr>\n",
       "    <tr>\n",
       "      <th>46</th>\n",
       "      <td>28673547067</td>\n",
       "      <td>Dr. Laura Nogueira Filho</td>\n",
       "      <td>Ligação Operações Global</td>\n",
       "      <td>Configuração</td>\n",
       "      <td>Coordenador</td>\n",
       "      <td>556813989342</td>\n",
       "      <td>1977-10-23</td>\n",
       "      <td>Costa de Nossa Senhora</td>\n",
       "      <td>Espírito Santo</td>\n",
       "      <td>275.79</td>\n",
       "      <td>FISICA</td>\n",
       "    </tr>\n",
       "    <tr>\n",
       "      <th>49</th>\n",
       "      <td>91131730810</td>\n",
       "      <td>Rizia Carvalho</td>\n",
       "      <td>Assistente Integração Frente</td>\n",
       "      <td></td>\n",
       "      <td>Oficial</td>\n",
       "      <td>2068756735</td>\n",
       "      <td>1985-09-23</td>\n",
       "      <td>NaN</td>\n",
       "      <td>Roraima</td>\n",
       "      <td>717.84</td>\n",
       "      <td>FISICA</td>\n",
       "    </tr>\n",
       "    <tr>\n",
       "      <th>63</th>\n",
       "      <td>27534718198</td>\n",
       "      <td>Srta. Emerson Neto</td>\n",
       "      <td>Técnico Aplicações Internacional</td>\n",
       "      <td></td>\n",
       "      <td>NaN</td>\n",
       "      <td>555744493385</td>\n",
       "      <td>1970-11-19</td>\n",
       "      <td>NaN</td>\n",
       "      <td>AC</td>\n",
       "      <td>615.94</td>\n",
       "      <td>FISICA</td>\n",
       "    </tr>\n",
       "    <tr>\n",
       "      <th>70</th>\n",
       "      <td>39481762483</td>\n",
       "      <td>Dr. Valdirene Costa Neto</td>\n",
       "      <td>Executivo Marca Regional</td>\n",
       "      <td></td>\n",
       "      <td>Produtor</td>\n",
       "      <td>08994475247</td>\n",
       "      <td>1972-03-30</td>\n",
       "      <td>Grande Jurema do Descoberto</td>\n",
       "      <td>Ceará</td>\n",
       "      <td>863.68</td>\n",
       "      <td>FISICA</td>\n",
       "    </tr>\n",
       "  </tbody>\n",
       "</table>\n",
       "</div>"
      ],
      "text/plain": [
       "          document                       name  \\\n",
       "20  30608514374605           Vanilda Carvalho   \n",
       "21     65270593106        Flormira Costa Neto   \n",
       "22     35171180369  Vanoil Xavier Filho Filho   \n",
       "42     27511213308                 Leila Melo   \n",
       "44     18273161285      Sinezio Saraiva Filho   \n",
       "45     18091073500             Mauricio Costa   \n",
       "46     28673547067   Dr. Laura Nogueira Filho   \n",
       "49     91131730810             Rizia Carvalho   \n",
       "63     27534718198         Srta. Emerson Neto   \n",
       "70     39481762483   Dr. Valdirene Costa Neto   \n",
       "\n",
       "                                   job        jobArea        jobType  \\\n",
       "20       Supervisor Paradigma Regional      Operações       Analista   \n",
       "21  Designer Prestação de contas Chefe       Mercados            NaN   \n",
       "22   Analista Comunicações Corporativo        Operaes       Analista   \n",
       "42             Ligação Resposta Frente                      Analista   \n",
       "44            Produtor Fatores Diretor                     Associado   \n",
       "45                                 NaN  Implementação  Representante   \n",
       "46            Ligação Operações Global   Configuração    Coordenador   \n",
       "49        Assistente Integração Frente                       Oficial   \n",
       "63    Técnico Aplicações Internacional                           NaN   \n",
       "70            Executivo Marca Regional                      Produtor   \n",
       "\n",
       "     phoneNumber  birthDate                               city  \\\n",
       "20    5281574122 1979-04-11  Grande Hernandes de Nossa Senhora   \n",
       "21   44137571479 1972-11-14          Vila Tochie do Descoberto   \n",
       "22  554729539641 1979-09-25         Velha Fátima do Descoberto   \n",
       "42    3978491494 1965-06-05                       Deise do Sul   \n",
       "44    4067855749 1980-01-11                  Angelino do Norte   \n",
       "45  551545325212 1970-11-05                                NaN   \n",
       "46  556813989342 1977-10-23             Costa de Nossa Senhora   \n",
       "49    2068756735 1985-09-23                                NaN   \n",
       "63  555744493385 1970-11-19                                NaN   \n",
       "70   08994475247 1972-03-30        Grande Jurema do Descoberto   \n",
       "\n",
       "             state  totalSpent    PESSOA  \n",
       "20              AM      722.46  JURIDICA  \n",
       "21              PI      617.65    FISICA  \n",
       "22          Paraná      402.10    FISICA  \n",
       "42       Tocantins      521.93    FISICA  \n",
       "44  Rio de Janeiro      195.40    FISICA  \n",
       "45           Amapá      514.80    FISICA  \n",
       "46  Espírito Santo      275.79    FISICA  \n",
       "49         Roraima      717.84    FISICA  \n",
       "63              AC      615.94    FISICA  \n",
       "70           Ceará      863.68    FISICA  "
      ]
     },
     "execution_count": 14,
     "metadata": {},
     "output_type": "execute_result"
    }
   ],
   "source": [
    "df_aux.iloc[[20,21,22,42,44,45,46,49,63,70]]"
   ]
  },
  {
   "cell_type": "markdown",
   "id": "48a20433-6100-4eee-b3ed-8bf7d51d3c18",
   "metadata": {
    "papermill": {
     "duration": 0.084998,
     "end_time": "2021-12-11T20:05:43.425445",
     "exception": false,
     "start_time": "2021-12-11T20:05:43.340447",
     "status": "completed"
    },
    "tags": []
   },
   "source": [
    "## Correção de UF "
   ]
  },
  {
   "cell_type": "code",
   "execution_count": 15,
   "id": "d1686e8c-955e-4b67-bf08-dd7ee360d4e8",
   "metadata": {
    "execution": {
     "iopub.execute_input": "2021-12-11T20:05:43.606012Z",
     "iopub.status.busy": "2021-12-11T20:05:43.605646Z",
     "iopub.status.idle": "2021-12-11T20:05:43.966675Z",
     "shell.execute_reply": "2021-12-11T20:05:43.966253Z"
    },
    "papermill": {
     "duration": 0.453029,
     "end_time": "2021-12-11T20:05:43.966820",
     "exception": false,
     "start_time": "2021-12-11T20:05:43.513791",
     "status": "completed"
    },
    "tags": []
   },
   "outputs": [],
   "source": [
    "ufs = pd.read_csv(\"https://raw.githubusercontent.com/mapaslivres/municipios-br/main/tabelas/ufs.csv\")"
   ]
  },
  {
   "cell_type": "code",
   "execution_count": 16,
   "id": "e7675c56-3722-4a51-9eef-f685c474cecd",
   "metadata": {
    "execution": {
     "iopub.execute_input": "2021-12-11T20:05:44.141038Z",
     "iopub.status.busy": "2021-12-11T20:05:44.140535Z",
     "iopub.status.idle": "2021-12-11T20:05:45.696123Z",
     "shell.execute_reply": "2021-12-11T20:05:45.695695Z"
    },
    "papermill": {
     "duration": 1.645036,
     "end_time": "2021-12-11T20:05:45.696222",
     "exception": false,
     "start_time": "2021-12-11T20:05:44.051186",
     "status": "completed"
    },
    "tags": []
   },
   "outputs": [
    {
     "name": "stdout",
     "output_type": "stream",
     "text": [
      "\u001b[33mWARNING: The directory '/home/jovyan/.cache/pip' or its parent directory is not owned or is not writable by the current user. The cache has been disabled. Check the permissions and owner of that directory. If executing pip with sudo, you should use sudo's -H flag.\u001b[0m\r\n"
     ]
    },
    {
     "name": "stdout",
     "output_type": "stream",
     "text": [
      "Requirement already satisfied: fuzzywuzzy in /opt/conda/lib/python3.9/site-packages (0.18.0)\r\n"
     ]
    },
    {
     "name": "stdout",
     "output_type": "stream",
     "text": [
      "\u001b[33mWARNING: Running pip as the 'root' user can result in broken permissions and conflicting behaviour with the system package manager. It is recommended to use a virtual environment instead: https://pip.pypa.io/warnings/venv\u001b[0m\r\n"
     ]
    }
   ],
   "source": [
    "!pip install fuzzywuzzy"
   ]
  },
  {
   "cell_type": "code",
   "execution_count": 17,
   "id": "22707ff1-173b-4f95-b512-40a38596d50f",
   "metadata": {
    "collapsed": true,
    "execution": {
     "iopub.execute_input": "2021-12-11T20:05:45.878866Z",
     "iopub.status.busy": "2021-12-11T20:05:45.878461Z",
     "iopub.status.idle": "2021-12-11T20:05:48.110368Z",
     "shell.execute_reply": "2021-12-11T20:05:48.109871Z"
    },
    "jupyter": {
     "outputs_hidden": true
    },
    "papermill": {
     "duration": 2.32635,
     "end_time": "2021-12-11T20:05:48.110474",
     "exception": false,
     "start_time": "2021-12-11T20:05:45.784124",
     "status": "completed"
    },
    "tags": []
   },
   "outputs": [
    {
     "name": "stderr",
     "output_type": "stream",
     "text": [
      "/opt/conda/lib/python3.9/site-packages/fuzzywuzzy/fuzz.py:11: UserWarning: Using slow pure-python SequenceMatcher. Install python-Levenshtein to remove this warning\n",
      "  warnings.warn('Using slow pure-python SequenceMatcher. Install python-Levenshtein to remove this warning')\n"
     ]
    },
    {
     "name": "stdout",
     "output_type": "stream",
     "text": [
      "[20:5:45:881226]\u001b[43m\u001b[30m[ INFO  ]\u001b[0m : Etapa 2 - Data Clear |  CORRIGINDO UF \n",
      "AC Acre AC 67\n",
      "state == 'AC'\n",
      "AC Acre Acre 100\n",
      "state == 'Acre'\n"
     ]
    },
    {
     "name": "stdout",
     "output_type": "stream",
     "text": [
      "AL Alagoas Alagoas 100\n",
      "state == 'Alagoas'\n",
      "AL Alagoas Amazonas 67\n",
      "state == 'Amazonas'\n",
      "AM Amazonas Alagoas 67\n",
      "state == 'Alagoas'\n",
      "AM Amazonas Amazonas 100\n",
      "state == 'Amazonas'\n"
     ]
    },
    {
     "name": "stdout",
     "output_type": "stream",
     "text": [
      "AP Amapá Amapá 100\n",
      "state == 'Amapá'\n",
      "BA Bahia Bahia 100\n",
      "state == 'Bahia'\n",
      "CE Ceará Ceará 100\n",
      "state == 'Ceará'\n",
      "CE Ceará Pará 67\n",
      "state == 'Pará'\n",
      "DF Distrito Federal Distrito Federal 100\n",
      "state == 'Distrito Federal'\n"
     ]
    },
    {
     "name": "stdout",
     "output_type": "stream",
     "text": [
      "ES Espírito Santo Espírito Santo 100\n",
      "state == 'Espírito Santo'\n",
      "GO Goiás Goiás 100\n",
      "state == 'Goiás'\n",
      "MA Maranhão Maranhão 100\n",
      "state == 'Maranhão'\n",
      "MG Minas Gerais Minas Gerais 100\n",
      "state == 'Minas Gerais'\n",
      "MS Mato Grosso do Sul Mato Grosso 76\n",
      "state == 'Mato Grosso'\n"
     ]
    },
    {
     "name": "stdout",
     "output_type": "stream",
     "text": [
      "MS Mato Grosso do Sul Mato Grosso do Sul 94\n",
      "state == 'Mato Grosso do Sul'\n",
      "MT Mato Grosso Mato Grosso 100\n",
      "state == 'Mato Grosso'\n",
      "MT Mato Grosso Mato Grosso do Sul 76\n",
      "state == 'Mato Grosso do Sul'\n",
      "PA Pará Ceará 67\n",
      "state == 'Ceará'\n"
     ]
    },
    {
     "name": "stdout",
     "output_type": "stream",
     "text": [
      "PA Pará PA 67\n",
      "state == 'PA'\n",
      "PA Pará PR 67\n",
      "state == 'PR'\n",
      "PA Pará Paraná 80\n",
      "state == 'Paraná'\n",
      "PA Pará Pará 100\n",
      "state == 'Pará'\n",
      "PB Paraíba Paraná 62\n",
      "state == 'Paraná'\n"
     ]
    },
    {
     "name": "stdout",
     "output_type": "stream",
     "text": [
      "PB Paraíba Paraíba 100\n",
      "state == 'Paraíba'\n",
      "PE Pernambuco Pernambuco 100\n",
      "state == 'Pernambuco'\n",
      "PI Piauí Piauí 100\n",
      "state == 'Piauí'\n",
      "PR Paraná Paraná 100\n",
      "state == 'Paraná'\n",
      "PR Paraná Paraíba 62\n",
      "state == 'Paraíba'\n"
     ]
    },
    {
     "name": "stdout",
     "output_type": "stream",
     "text": [
      "PR Paraná Pará 80\n",
      "state == 'Pará'\n",
      "RJ Rio de Janeiro Rio de Janeiro 93\n",
      "state == 'Rio de Janeiro'\n",
      "RN Rio Grande do Norte Rio Grande do Norte 95\n",
      "state == 'Rio Grande do Norte'\n",
      "RN Rio Grande do Norte Rio Grande do Sul 72\n",
      "state == 'Rio Grande do Sul'\n",
      "RO Rondônia Rondônia 100\n",
      "state == 'Rondônia'\n"
     ]
    },
    {
     "name": "stdout",
     "output_type": "stream",
     "text": [
      "RR Roraima Roraima 100\n",
      "state == 'Roraima'\n",
      "RS Rio Grande do Sul Rio Grande do Norte 72\n",
      "state == 'Rio Grande do Norte'\n",
      "RS Rio Grande do Sul Rio Grande do Sul 94\n",
      "state == 'Rio Grande do Sul'\n",
      "SC Santa Catarina Santa Catarina 100\n",
      "state == 'Santa Catarina'\n",
      "SE Sergipe Sergipe 100\n",
      "state == 'Sergipe'\n"
     ]
    },
    {
     "name": "stdout",
     "output_type": "stream",
     "text": [
      "SP São Paulo São Paulo 100\n",
      "state == 'São Paulo'\n",
      "TO Tocantins Tocantins 100\n",
      "state == 'Tocantins'\n"
     ]
    }
   ],
   "source": [
    "import string\n",
    "from fuzzywuzzy import fuzz\n",
    "\n",
    "etapa = \"Etapa 2 - Data Clear\"\n",
    "\n",
    "console_log = Logs(etapa)\n",
    "\n",
    "console_log.info(\" CORRIGINDO UF \")\n",
    "\n",
    "lista_state = df_aux[['state']].groupby('state').count().index.tolist()\n",
    "\n",
    "for index, value in ufs[['uf_code','name']].iterrows():\n",
    "    #\n",
    "    for uf in lista_state:\n",
    "        distance = fuzz.ratio(value['name'], string.capwords(uf))  \n",
    "        if distance > 60:\n",
    "          print(value['uf_code'], value['name'],uf, distance)\n",
    "          query = \"state == '{}'\".format(uf)\n",
    "          print(query)  \n",
    "          lista_index_estados = df_aux.query(query).index.to_list()\n",
    "          df_aux.loc[lista_index_estados,'state'] = value['uf_code']  \n",
    "          "
   ]
  },
  {
   "cell_type": "code",
   "execution_count": 18,
   "id": "fb720035-1913-49a4-9b2d-9765021d4614",
   "metadata": {
    "execution": {
     "iopub.execute_input": "2021-12-11T20:05:48.320371Z",
     "iopub.status.busy": "2021-12-11T20:05:48.311657Z",
     "iopub.status.idle": "2021-12-11T20:05:48.323019Z",
     "shell.execute_reply": "2021-12-11T20:05:48.322726Z"
    },
    "papermill": {
     "duration": 0.115485,
     "end_time": "2021-12-11T20:05:48.323100",
     "exception": false,
     "start_time": "2021-12-11T20:05:48.207615",
     "status": "completed"
    },
    "tags": []
   },
   "outputs": [
    {
     "data": {
      "text/html": [
       "<div>\n",
       "<style scoped>\n",
       "    .dataframe tbody tr th:only-of-type {\n",
       "        vertical-align: middle;\n",
       "    }\n",
       "\n",
       "    .dataframe tbody tr th {\n",
       "        vertical-align: top;\n",
       "    }\n",
       "\n",
       "    .dataframe thead th {\n",
       "        text-align: right;\n",
       "    }\n",
       "</style>\n",
       "<table border=\"1\" class=\"dataframe\">\n",
       "  <thead>\n",
       "    <tr style=\"text-align: right;\">\n",
       "      <th></th>\n",
       "      <th>document</th>\n",
       "      <th>name</th>\n",
       "      <th>job</th>\n",
       "      <th>jobArea</th>\n",
       "      <th>jobType</th>\n",
       "      <th>phoneNumber</th>\n",
       "      <th>birthDate</th>\n",
       "      <th>city</th>\n",
       "      <th>state</th>\n",
       "      <th>totalSpent</th>\n",
       "      <th>PESSOA</th>\n",
       "    </tr>\n",
       "  </thead>\n",
       "  <tbody>\n",
       "    <tr>\n",
       "      <th>0</th>\n",
       "      <td>76684148787</td>\n",
       "      <td>Charlleny Braga</td>\n",
       "      <td>Oficial Criativo Dinâmico</td>\n",
       "      <td>Configuração</td>\n",
       "      <td>Estrategista</td>\n",
       "      <td>6242169799</td>\n",
       "      <td>1972-05-20</td>\n",
       "      <td>Município de Iara</td>\n",
       "      <td>GO</td>\n",
       "      <td>913.80</td>\n",
       "      <td>FISICA</td>\n",
       "    </tr>\n",
       "    <tr>\n",
       "      <th>1</th>\n",
       "      <td>85704855733</td>\n",
       "      <td>Newton Saraiva</td>\n",
       "      <td>Administrador Comunicações Internacional</td>\n",
       "      <td>Prestaçãodecontas</td>\n",
       "      <td>Facilitador</td>\n",
       "      <td></td>\n",
       "      <td>1982-06-10</td>\n",
       "      <td>Município de Neide do Sul</td>\n",
       "      <td>RR</td>\n",
       "      <td>57.26</td>\n",
       "      <td>FISICA</td>\n",
       "    </tr>\n",
       "    <tr>\n",
       "      <th>2</th>\n",
       "      <td>15664328373377</td>\n",
       "      <td>Dr. Sr. Solange Macedo</td>\n",
       "      <td>Designer Identidade Direto</td>\n",
       "      <td>Métricas</td>\n",
       "      <td>NaN</td>\n",
       "      <td>559571433307</td>\n",
       "      <td>1968-05-16</td>\n",
       "      <td>Município de Santo</td>\n",
       "      <td>RO</td>\n",
       "      <td>660.71</td>\n",
       "      <td>JURIDICA</td>\n",
       "    </tr>\n",
       "    <tr>\n",
       "      <th>3</th>\n",
       "      <td>02328238087786</td>\n",
       "      <td>Celina Carvalho Jr.</td>\n",
       "      <td>NaN</td>\n",
       "      <td>Qualidade</td>\n",
       "      <td>Ligação</td>\n",
       "      <td>555841365577</td>\n",
       "      <td>1981-04-17</td>\n",
       "      <td>Reis do Norte</td>\n",
       "      <td>RO</td>\n",
       "      <td>542.51</td>\n",
       "      <td>JURIDICA</td>\n",
       "    </tr>\n",
       "    <tr>\n",
       "      <th>4</th>\n",
       "      <td>30073687408740</td>\n",
       "      <td>Aurilo Martins</td>\n",
       "      <td>Especialista Paradigma Internacional</td>\n",
       "      <td>Programa</td>\n",
       "      <td>Executivo</td>\n",
       "      <td>96474987325</td>\n",
       "      <td>1980-04-07</td>\n",
       "      <td>Município de Aminadab</td>\n",
       "      <td>RO</td>\n",
       "      <td>104.33</td>\n",
       "      <td>JURIDICA</td>\n",
       "    </tr>\n",
       "    <tr>\n",
       "      <th>...</th>\n",
       "      <td>...</td>\n",
       "      <td>...</td>\n",
       "      <td>...</td>\n",
       "      <td>...</td>\n",
       "      <td>...</td>\n",
       "      <td>...</td>\n",
       "      <td>...</td>\n",
       "      <td>...</td>\n",
       "      <td>...</td>\n",
       "      <td>...</td>\n",
       "      <td>...</td>\n",
       "    </tr>\n",
       "    <tr>\n",
       "      <th>999995</th>\n",
       "      <td>20297054201</td>\n",
       "      <td>Aurilo Franco Neto</td>\n",
       "      <td>Agente Funcionalidade Investidor</td>\n",
       "      <td>Otimização</td>\n",
       "      <td>NaN</td>\n",
       "      <td>5487425107</td>\n",
       "      <td>1976-04-16</td>\n",
       "      <td>Vila Attilio</td>\n",
       "      <td>RO</td>\n",
       "      <td>180.85</td>\n",
       "      <td>FISICA</td>\n",
       "    </tr>\n",
       "    <tr>\n",
       "      <th>999996</th>\n",
       "      <td>76245248035484</td>\n",
       "      <td>Iata Martins</td>\n",
       "      <td>Técnico A infraestrutura Central</td>\n",
       "      <td>Rede</td>\n",
       "      <td>NaN</td>\n",
       "      <td>7280660110</td>\n",
       "      <td>1981-05-22</td>\n",
       "      <td>Grande Roverlei</td>\n",
       "      <td>PB</td>\n",
       "      <td>89.75</td>\n",
       "      <td>JURIDICA</td>\n",
       "    </tr>\n",
       "    <tr>\n",
       "      <th>999997</th>\n",
       "      <td>15787105200206</td>\n",
       "      <td>Erica Melo</td>\n",
       "      <td>Associado Operações Cliente</td>\n",
       "      <td>Garantia</td>\n",
       "      <td>NaN</td>\n",
       "      <td>0053162453</td>\n",
       "      <td>1988-01-23</td>\n",
       "      <td>NaN</td>\n",
       "      <td>MA</td>\n",
       "      <td>138.48</td>\n",
       "      <td>JURIDICA</td>\n",
       "    </tr>\n",
       "    <tr>\n",
       "      <th>999998</th>\n",
       "      <td>12922681661</td>\n",
       "      <td>Jurema Carvalho Filho Neto</td>\n",
       "      <td>Agente Operações Legado</td>\n",
       "      <td>Programa</td>\n",
       "      <td>Engenheiro</td>\n",
       "      <td>554486912473</td>\n",
       "      <td>1968-04-11</td>\n",
       "      <td>NaN</td>\n",
       "      <td>RN</td>\n",
       "      <td>827.67</td>\n",
       "      <td>FISICA</td>\n",
       "    </tr>\n",
       "    <tr>\n",
       "      <th>999999</th>\n",
       "      <td>97145411318</td>\n",
       "      <td>Sr. Jair Martins</td>\n",
       "      <td>Produtor Comunicações Frente</td>\n",
       "      <td>Interações</td>\n",
       "      <td>Analista</td>\n",
       "      <td>2800645483</td>\n",
       "      <td>1988-11-27</td>\n",
       "      <td>Nova Deise</td>\n",
       "      <td>AL</td>\n",
       "      <td>803.81</td>\n",
       "      <td>FISICA</td>\n",
       "    </tr>\n",
       "  </tbody>\n",
       "</table>\n",
       "<p>1000000 rows × 11 columns</p>\n",
       "</div>"
      ],
      "text/plain": [
       "              document                        name  \\\n",
       "0          76684148787             Charlleny Braga   \n",
       "1          85704855733              Newton Saraiva   \n",
       "2       15664328373377      Dr. Sr. Solange Macedo   \n",
       "3       02328238087786         Celina Carvalho Jr.   \n",
       "4       30073687408740              Aurilo Martins   \n",
       "...                ...                         ...   \n",
       "999995     20297054201          Aurilo Franco Neto   \n",
       "999996  76245248035484                Iata Martins   \n",
       "999997  15787105200206                  Erica Melo   \n",
       "999998     12922681661  Jurema Carvalho Filho Neto   \n",
       "999999     97145411318            Sr. Jair Martins   \n",
       "\n",
       "                                             job            jobArea  \\\n",
       "0                      Oficial Criativo Dinâmico       Configuração   \n",
       "1       Administrador Comunicações Internacional  Prestaçãodecontas   \n",
       "2                     Designer Identidade Direto           Métricas   \n",
       "3                                            NaN          Qualidade   \n",
       "4           Especialista Paradigma Internacional           Programa   \n",
       "...                                          ...                ...   \n",
       "999995          Agente Funcionalidade Investidor         Otimização   \n",
       "999996          Técnico A infraestrutura Central               Rede   \n",
       "999997               Associado Operações Cliente           Garantia   \n",
       "999998                   Agente Operações Legado           Programa   \n",
       "999999              Produtor Comunicações Frente         Interações   \n",
       "\n",
       "             jobType   phoneNumber  birthDate                       city  \\\n",
       "0       Estrategista    6242169799 1972-05-20          Município de Iara   \n",
       "1        Facilitador               1982-06-10  Município de Neide do Sul   \n",
       "2                NaN  559571433307 1968-05-16         Município de Santo   \n",
       "3            Ligação  555841365577 1981-04-17              Reis do Norte   \n",
       "4          Executivo   96474987325 1980-04-07      Município de Aminadab   \n",
       "...              ...           ...        ...                        ...   \n",
       "999995           NaN    5487425107 1976-04-16               Vila Attilio   \n",
       "999996           NaN    7280660110 1981-05-22            Grande Roverlei   \n",
       "999997           NaN    0053162453 1988-01-23                        NaN   \n",
       "999998    Engenheiro  554486912473 1968-04-11                        NaN   \n",
       "999999      Analista    2800645483 1988-11-27                 Nova Deise   \n",
       "\n",
       "       state  totalSpent    PESSOA  \n",
       "0         GO      913.80    FISICA  \n",
       "1         RR       57.26    FISICA  \n",
       "2         RO      660.71  JURIDICA  \n",
       "3         RO      542.51  JURIDICA  \n",
       "4         RO      104.33  JURIDICA  \n",
       "...      ...         ...       ...  \n",
       "999995    RO      180.85    FISICA  \n",
       "999996    PB       89.75  JURIDICA  \n",
       "999997    MA      138.48  JURIDICA  \n",
       "999998    RN      827.67    FISICA  \n",
       "999999    AL      803.81    FISICA  \n",
       "\n",
       "[1000000 rows x 11 columns]"
      ]
     },
     "execution_count": 18,
     "metadata": {},
     "output_type": "execute_result"
    }
   ],
   "source": [
    "df_aux"
   ]
  },
  {
   "cell_type": "markdown",
   "id": "ae338e8a-a329-4fd2-8102-e0e4b269be41",
   "metadata": {
    "papermill": {
     "duration": 0.099241,
     "end_time": "2021-12-11T20:05:48.521618",
     "exception": false,
     "start_time": "2021-12-11T20:05:48.422377",
     "status": "completed"
    },
    "tags": []
   },
   "source": [
    "## Salvando dados "
   ]
  },
  {
   "cell_type": "code",
   "execution_count": 19,
   "id": "13a3d77e-9bb7-4e09-8575-8e8eb8857ed1",
   "metadata": {
    "execution": {
     "iopub.execute_input": "2021-12-11T20:05:48.728397Z",
     "iopub.status.busy": "2021-12-11T20:05:48.728014Z",
     "iopub.status.idle": "2021-12-11T20:05:48.942805Z",
     "shell.execute_reply": "2021-12-11T20:05:48.941653Z"
    },
    "papermill": {
     "duration": 0.320294,
     "end_time": "2021-12-11T20:05:48.943088",
     "exception": false,
     "start_time": "2021-12-11T20:05:48.622794",
     "status": "completed"
    },
    "tags": []
   },
   "outputs": [],
   "source": [
    "!mkdir base_gerada"
   ]
  },
  {
   "cell_type": "code",
   "execution_count": 20,
   "id": "898b8adf-0348-4d41-b400-d41b08ee5b88",
   "metadata": {
    "execution": {
     "iopub.execute_input": "2021-12-11T20:05:49.141631Z",
     "iopub.status.busy": "2021-12-11T20:05:49.140460Z",
     "iopub.status.idle": "2021-12-11T20:05:49.149312Z",
     "shell.execute_reply": "2021-12-11T20:05:49.148904Z"
    },
    "papermill": {
     "duration": 0.109277,
     "end_time": "2021-12-11T20:05:49.149404",
     "exception": false,
     "start_time": "2021-12-11T20:05:49.040127",
     "status": "completed"
    },
    "tags": []
   },
   "outputs": [
    {
     "name": "stdout",
     "output_type": "stream",
     "text": [
      "[20:5:49:138521]\u001b[43m\u001b[30m[ INFO  ]\u001b[0m : Etapa 2 - Data Clear |  TRATANDO ANO  \n"
     ]
    }
   ],
   "source": [
    "console_log.info(\" TRATANDO ANO  \")"
   ]
  },
  {
   "cell_type": "code",
   "execution_count": 21,
   "id": "c76c0a16-8ebd-4dc5-b3c6-c4f188f24651",
   "metadata": {
    "execution": {
     "iopub.execute_input": "2021-12-11T20:05:49.351781Z",
     "iopub.status.busy": "2021-12-11T20:05:49.351333Z",
     "iopub.status.idle": "2021-12-11T20:05:53.598202Z",
     "shell.execute_reply": "2021-12-11T20:05:53.598503Z"
    },
    "papermill": {
     "duration": 4.351304,
     "end_time": "2021-12-11T20:05:53.598610",
     "exception": false,
     "start_time": "2021-12-11T20:05:49.247306",
     "status": "completed"
    },
    "tags": []
   },
   "outputs": [],
   "source": [
    "df_aux[\"Ano\"] = df_aux[\"birthDate\"].apply(lambda x:str(x).split(\"-\")[0])"
   ]
  },
  {
   "cell_type": "code",
   "execution_count": 22,
   "id": "bfff8d7f-20a3-47cc-b87a-8ede730e6466",
   "metadata": {
    "execution": {
     "iopub.execute_input": "2021-12-11T20:05:53.921871Z",
     "iopub.status.busy": "2021-12-11T20:05:53.921452Z",
     "iopub.status.idle": "2021-12-11T20:05:54.171232Z",
     "shell.execute_reply": "2021-12-11T20:05:54.170809Z"
    },
    "papermill": {
     "duration": 0.474135,
     "end_time": "2021-12-11T20:05:54.171325",
     "exception": false,
     "start_time": "2021-12-11T20:05:53.697190",
     "status": "completed"
    },
    "tags": []
   },
   "outputs": [],
   "source": [
    "lista_anos = df_aux[['Ano']].groupby('Ano').count().index.tolist()"
   ]
  },
  {
   "cell_type": "code",
   "execution_count": 23,
   "id": "22aa731b-7476-4766-affd-f40ce3f81cd6",
   "metadata": {
    "execution": {
     "iopub.execute_input": "2021-12-11T20:05:54.375577Z",
     "iopub.status.busy": "2021-12-11T20:05:54.375199Z",
     "iopub.status.idle": "2021-12-11T20:06:02.728041Z",
     "shell.execute_reply": "2021-12-11T20:06:02.727737Z"
    },
    "papermill": {
     "duration": 8.457494,
     "end_time": "2021-12-11T20:06:02.728124",
     "exception": false,
     "start_time": "2021-12-11T20:05:54.270630",
     "status": "completed"
    },
    "tags": []
   },
   "outputs": [
    {
     "data": {
      "text/plain": [
       "[None,\n",
       " None,\n",
       " None,\n",
       " None,\n",
       " None,\n",
       " None,\n",
       " None,\n",
       " None,\n",
       " None,\n",
       " None,\n",
       " None,\n",
       " None,\n",
       " None,\n",
       " None,\n",
       " None,\n",
       " None,\n",
       " None,\n",
       " None,\n",
       " None,\n",
       " None,\n",
       " None,\n",
       " None,\n",
       " None,\n",
       " None,\n",
       " None,\n",
       " None,\n",
       " None,\n",
       " None,\n",
       " None]"
      ]
     },
     "execution_count": 23,
     "metadata": {},
     "output_type": "execute_result"
    }
   ],
   "source": [
    "[df_aux.query('Ano == \"{}\"'.format(ano)).to_csv(\"base_gerada/{}.csv\".format(ano),index=False)  for ano in lista_anos ]"
   ]
  },
  {
   "cell_type": "markdown",
   "id": "2ecef15b-6079-429c-8633-027728b62b41",
   "metadata": {
    "papermill": {
     "duration": 0.098094,
     "end_time": "2021-12-11T20:06:02.924845",
     "exception": false,
     "start_time": "2021-12-11T20:06:02.826751",
     "status": "completed"
    },
    "tags": []
   },
   "source": [
    "\n",
    "### Particionamento de dados tratados com as regras descritas em DATA QUALITY\n",
    "- Particionar em arquivos PARQUET por estado (state)\n",
    "- Particionar em arquivos CSV por ano/mes/dia de nascimento (birthDate)"
   ]
  },
  {
   "cell_type": "code",
   "execution_count": 24,
   "id": "d43caec2-683a-4207-9f33-e3fd735026ba",
   "metadata": {
    "execution": {
     "iopub.execute_input": "2021-12-11T20:06:03.129149Z",
     "iopub.status.busy": "2021-12-11T20:06:03.124139Z",
     "iopub.status.idle": "2021-12-11T20:06:09.852245Z",
     "shell.execute_reply": "2021-12-11T20:06:09.852539Z"
    },
    "papermill": {
     "duration": 6.826798,
     "end_time": "2021-12-11T20:06:09.852657",
     "exception": false,
     "start_time": "2021-12-11T20:06:03.025859",
     "status": "completed"
    },
    "tags": []
   },
   "outputs": [
    {
     "name": "stdout",
     "output_type": "stream",
     "text": [
      "\u001b[33mWARNING: The directory '/home/jovyan/.cache/pip' or its parent directory is not owned or is not writable by the current user. The cache has been disabled. Check the permissions and owner of that directory. If executing pip with sudo, you should use sudo's -H flag.\u001b[0m\r\n"
     ]
    },
    {
     "name": "stdout",
     "output_type": "stream",
     "text": [
      "Collecting fastparquet\r\n"
     ]
    },
    {
     "name": "stdout",
     "output_type": "stream",
     "text": [
      "  Downloading fastparquet-0.7.2-cp39-cp39-manylinux2010_x86_64.whl (1.2 MB)\r\n",
      "\u001b[?25l\r",
      "\r",
      "     |▎                               | 10 kB 8.2 MB/s eta 0:00:01\r",
      "     |▌                               | 20 kB 13.3 MB/s eta 0:00:01\r",
      "     |▉                               | 30 kB 14.6 MB/s eta 0:00:01\r",
      "     |█                               | 40 kB 14.7 MB/s eta 0:00:01\r",
      "     |█▎                              | 51 kB 5.5 MB/s eta 0:00:01 \r",
      "     |█▋                              | 61 kB 6.5 MB/s eta 0:00:01 \r",
      "     |█▉                              | 71 kB 5.5 MB/s eta 0:00:01 \r",
      "     |██                              | 81 kB 6.2 MB/s eta 0:00:01 \r",
      "     |██▍                             | 92 kB 6.2 MB/s eta 0:00:01 \r",
      "     |██▋                             | 102 kB 5.3 MB/s eta 0:00:01\r",
      "     |███                             | 112 kB 5.3 MB/s eta 0:00:01"
     ]
    },
    {
     "name": "stdout",
     "output_type": "stream",
     "text": [
      "\r",
      "     |███▏                            | 122 kB 5.3 MB/s eta 0:00:01\r",
      "     |███▍                            | 133 kB 5.3 MB/s eta 0:00:01\r",
      "     |███▊                            | 143 kB 5.3 MB/s eta 0:00:01\r",
      "     |████                            | 153 kB 5.3 MB/s eta 0:00:01\r",
      "     |████▏                           | 163 kB 5.3 MB/s eta 0:00:01\r",
      "     |████▌                           | 174 kB 5.3 MB/s eta 0:00:01\r",
      "     |████▊                           | 184 kB 5.3 MB/s eta 0:00:01\r",
      "     |█████                           | 194 kB 5.3 MB/s eta 0:00:01\r",
      "     |█████▎                          | 204 kB 5.3 MB/s eta 0:00:01\r",
      "     |█████▌                          | 215 kB 5.3 MB/s eta 0:00:01\r",
      "     |█████▉                          | 225 kB 5.3 MB/s eta 0:00:01\r",
      "     |██████                          | 235 kB 5.3 MB/s eta 0:00:01\r",
      "     |██████▎                         | 245 kB 5.3 MB/s eta 0:00:01\r",
      "     |██████▋                         | 256 kB 5.3 MB/s eta 0:00:01\r",
      "     |██████▉                         | 266 kB 5.3 MB/s eta 0:00:01\r",
      "     |███████▏                        | 276 kB 5.3 MB/s eta 0:00:01\r",
      "     |███████▍                        | 286 kB 5.3 MB/s eta 0:00:01\r",
      "     |███████▋                        | 296 kB 5.3 MB/s eta 0:00:01\r",
      "     |████████                        | 307 kB 5.3 MB/s eta 0:00:01\r",
      "     |████████▏                       | 317 kB 5.3 MB/s eta 0:00:01\r",
      "     |████████▍                       | 327 kB 5.3 MB/s eta 0:00:01\r",
      "     |████████▊                       | 337 kB 5.3 MB/s eta 0:00:01\r",
      "     |█████████                       | 348 kB 5.3 MB/s eta 0:00:01\r",
      "     |█████████▏                      | 358 kB 5.3 MB/s eta 0:00:01\r",
      "     |█████████▌                      | 368 kB 5.3 MB/s eta 0:00:01\r",
      "     |█████████▊                      | 378 kB 5.3 MB/s eta 0:00:01\r",
      "     |██████████                      | 389 kB 5.3 MB/s eta 0:00:01\r",
      "     |██████████▎                     | 399 kB 5.3 MB/s eta 0:00:01\r",
      "     |██████████▌                     | 409 kB 5.3 MB/s eta 0:00:01\r",
      "     |██████████▉                     | 419 kB 5.3 MB/s eta 0:00:01"
     ]
    },
    {
     "name": "stdout",
     "output_type": "stream",
     "text": [
      "\r",
      "     |███████████                     | 430 kB 5.3 MB/s eta 0:00:01\r",
      "     |███████████▎                    | 440 kB 5.3 MB/s eta 0:00:01\r",
      "     |███████████▋                    | 450 kB 5.3 MB/s eta 0:00:01\r",
      "     |███████████▉                    | 460 kB 5.3 MB/s eta 0:00:01\r",
      "     |████████████▏                   | 471 kB 5.3 MB/s eta 0:00:01\r",
      "     |████████████▍                   | 481 kB 5.3 MB/s eta 0:00:01\r",
      "     |████████████▋                   | 491 kB 5.3 MB/s eta 0:00:01\r",
      "     |█████████████                   | 501 kB 5.3 MB/s eta 0:00:01\r",
      "     |█████████████▏                  | 512 kB 5.3 MB/s eta 0:00:01\r",
      "     |█████████████▍                  | 522 kB 5.3 MB/s eta 0:00:01\r",
      "     |█████████████▊                  | 532 kB 5.3 MB/s eta 0:00:01\r",
      "     |██████████████                  | 542 kB 5.3 MB/s eta 0:00:01\r",
      "     |██████████████▎                 | 552 kB 5.3 MB/s eta 0:00:01\r",
      "     |██████████████▌                 | 563 kB 5.3 MB/s eta 0:00:01\r",
      "     |██████████████▊                 | 573 kB 5.3 MB/s eta 0:00:01\r",
      "     |███████████████                 | 583 kB 5.3 MB/s eta 0:00:01\r",
      "     |███████████████▎                | 593 kB 5.3 MB/s eta 0:00:01\r",
      "     |███████████████▌                | 604 kB 5.3 MB/s eta 0:00:01\r",
      "     |███████████████▉                | 614 kB 5.3 MB/s eta 0:00:01\r",
      "     |████████████████                | 624 kB 5.3 MB/s eta 0:00:01\r",
      "     |████████████████▎               | 634 kB 5.3 MB/s eta 0:00:01\r",
      "     |████████████████▋               | 645 kB 5.3 MB/s eta 0:00:01\r",
      "     |████████████████▉               | 655 kB 5.3 MB/s eta 0:00:01\r",
      "     |█████████████████▏              | 665 kB 5.3 MB/s eta 0:00:01\r",
      "     |█████████████████▍              | 675 kB 5.3 MB/s eta 0:00:01\r",
      "     |█████████████████▋              | 686 kB 5.3 MB/s eta 0:00:01\r",
      "     |██████████████████              | 696 kB 5.3 MB/s eta 0:00:01\r",
      "     |██████████████████▏             | 706 kB 5.3 MB/s eta 0:00:01\r",
      "     |██████████████████▍             | 716 kB 5.3 MB/s eta 0:00:01\r",
      "     |██████████████████▊             | 727 kB 5.3 MB/s eta 0:00:01\r",
      "     |███████████████████             | 737 kB 5.3 MB/s eta 0:00:01"
     ]
    },
    {
     "name": "stdout",
     "output_type": "stream",
     "text": [
      "\r",
      "     |███████████████████▎            | 747 kB 5.3 MB/s eta 0:00:01\r",
      "     |███████████████████▌            | 757 kB 5.3 MB/s eta 0:00:01\r",
      "     |███████████████████▊            | 768 kB 5.3 MB/s eta 0:00:01\r",
      "     |████████████████████            | 778 kB 5.3 MB/s eta 0:00:01\r",
      "     |████████████████████▎           | 788 kB 5.3 MB/s eta 0:00:01\r",
      "     |████████████████████▌           | 798 kB 5.3 MB/s eta 0:00:01\r",
      "     |████████████████████▉           | 808 kB 5.3 MB/s eta 0:00:01\r",
      "     |█████████████████████           | 819 kB 5.3 MB/s eta 0:00:01\r",
      "     |█████████████████████▍          | 829 kB 5.3 MB/s eta 0:00:01\r",
      "     |█████████████████████▋          | 839 kB 5.3 MB/s eta 0:00:01\r",
      "     |█████████████████████▉          | 849 kB 5.3 MB/s eta 0:00:01\r",
      "     |██████████████████████▏         | 860 kB 5.3 MB/s eta 0:00:01\r",
      "     |██████████████████████▍         | 870 kB 5.3 MB/s eta 0:00:01\r",
      "     |██████████████████████▋         | 880 kB 5.3 MB/s eta 0:00:01\r",
      "     |███████████████████████         | 890 kB 5.3 MB/s eta 0:00:01\r",
      "     |███████████████████████▏        | 901 kB 5.3 MB/s eta 0:00:01\r",
      "     |███████████████████████▌        | 911 kB 5.3 MB/s eta 0:00:01\r",
      "     |███████████████████████▊        | 921 kB 5.3 MB/s eta 0:00:01\r",
      "     |████████████████████████        | 931 kB 5.3 MB/s eta 0:00:01\r",
      "     |████████████████████████▎       | 942 kB 5.3 MB/s eta 0:00:01\r",
      "     |████████████████████████▌       | 952 kB 5.3 MB/s eta 0:00:01\r",
      "     |████████████████████████▊       | 962 kB 5.3 MB/s eta 0:00:01\r",
      "     |█████████████████████████       | 972 kB 5.3 MB/s eta 0:00:01\r",
      "     |█████████████████████████▎      | 983 kB 5.3 MB/s eta 0:00:01\r",
      "     |█████████████████████████▌      | 993 kB 5.3 MB/s eta 0:00:01\r",
      "     |█████████████████████████▉      | 1.0 MB 5.3 MB/s eta 0:00:01\r",
      "     |██████████████████████████      | 1.0 MB 5.3 MB/s eta 0:00:01\r",
      "     |██████████████████████████▍     | 1.0 MB 5.3 MB/s eta 0:00:01"
     ]
    },
    {
     "name": "stdout",
     "output_type": "stream",
     "text": [
      "\r",
      "     |██████████████████████████▋     | 1.0 MB 5.3 MB/s eta 0:00:01\r",
      "     |██████████████████████████▉     | 1.0 MB 5.3 MB/s eta 0:00:01\r",
      "     |███████████████████████████▏    | 1.1 MB 5.3 MB/s eta 0:00:01\r",
      "     |███████████████████████████▍    | 1.1 MB 5.3 MB/s eta 0:00:01\r",
      "     |███████████████████████████▋    | 1.1 MB 5.3 MB/s eta 0:00:01\r",
      "     |████████████████████████████    | 1.1 MB 5.3 MB/s eta 0:00:01\r",
      "     |████████████████████████████▏   | 1.1 MB 5.3 MB/s eta 0:00:01\r",
      "     |████████████████████████████▌   | 1.1 MB 5.3 MB/s eta 0:00:01\r",
      "     |████████████████████████████▊   | 1.1 MB 5.3 MB/s eta 0:00:01\r",
      "     |█████████████████████████████   | 1.1 MB 5.3 MB/s eta 0:00:01\r",
      "     |█████████████████████████████▎  | 1.1 MB 5.3 MB/s eta 0:00:01\r",
      "     |█████████████████████████████▌  | 1.1 MB 5.3 MB/s eta 0:00:01\r",
      "     |█████████████████████████████▊  | 1.2 MB 5.3 MB/s eta 0:00:01\r",
      "     |██████████████████████████████  | 1.2 MB 5.3 MB/s eta 0:00:01\r",
      "     |██████████████████████████████▎ | 1.2 MB 5.3 MB/s eta 0:00:01\r",
      "     |██████████████████████████████▋ | 1.2 MB 5.3 MB/s eta 0:00:01\r",
      "     |██████████████████████████████▉ | 1.2 MB 5.3 MB/s eta 0:00:01\r",
      "     |███████████████████████████████ | 1.2 MB 5.3 MB/s eta 0:00:01\r",
      "     |███████████████████████████████▍| 1.2 MB 5.3 MB/s eta 0:00:01\r",
      "     |███████████████████████████████▋| 1.2 MB 5.3 MB/s eta 0:00:01\r",
      "     |███████████████████████████████▉| 1.2 MB 5.3 MB/s eta 0:00:01\r",
      "     |████████████████████████████████| 1.2 MB 5.3 MB/s            \r\n",
      "\u001b[?25h"
     ]
    },
    {
     "name": "stdout",
     "output_type": "stream",
     "text": [
      "Collecting cramjam>=2.3.0\r\n",
      "  Downloading cramjam-2.5.0-cp39-cp39-manylinux_2_5_x86_64.manylinux1_x86_64.whl (1.6 MB)\r\n",
      "\u001b[?25l\r",
      "\r",
      "     |▏                               | 10 kB 28.6 MB/s eta 0:00:01\r",
      "     |▍                               | 20 kB 7.0 MB/s eta 0:00:01 \r",
      "     |▋                               | 30 kB 9.9 MB/s eta 0:00:01 \r",
      "     |▉                               | 40 kB 8.4 MB/s eta 0:00:01 \r",
      "     |█                               | 51 kB 5.3 MB/s eta 0:00:01 \r",
      "     |█▏                              | 61 kB 6.3 MB/s eta 0:00:01 \r",
      "     |█▍                              | 71 kB 6.2 MB/s eta 0:00:01 \r",
      "     |█▋                              | 81 kB 7.0 MB/s eta 0:00:01 \r",
      "     |█▉                              | 92 kB 6.9 MB/s eta 0:00:01 \r",
      "     |██                              | 102 kB 6.5 MB/s eta 0:00:01\r",
      "     |██▏                             | 112 kB 6.5 MB/s eta 0:00:01\r",
      "     |██▍                             | 122 kB 6.5 MB/s eta 0:00:01\r",
      "     |██▋                             | 133 kB 6.5 MB/s eta 0:00:01\r",
      "     |██▉                             | 143 kB 6.5 MB/s eta 0:00:01\r",
      "     |███                             | 153 kB 6.5 MB/s eta 0:00:01\r",
      "     |███▏                            | 163 kB 6.5 MB/s eta 0:00:01\r",
      "     |███▍                            | 174 kB 6.5 MB/s eta 0:00:01"
     ]
    },
    {
     "name": "stdout",
     "output_type": "stream",
     "text": [
      "\r",
      "     |███▋                            | 184 kB 6.5 MB/s eta 0:00:01\r",
      "     |███▉                            | 194 kB 6.5 MB/s eta 0:00:01\r",
      "     |████                            | 204 kB 6.5 MB/s eta 0:00:01\r",
      "     |████▏                           | 215 kB 6.5 MB/s eta 0:00:01\r",
      "     |████▍                           | 225 kB 6.5 MB/s eta 0:00:01\r",
      "     |████▋                           | 235 kB 6.5 MB/s eta 0:00:01\r",
      "     |████▉                           | 245 kB 6.5 MB/s eta 0:00:01\r",
      "     |█████                           | 256 kB 6.5 MB/s eta 0:00:01\r",
      "     |█████▏                          | 266 kB 6.5 MB/s eta 0:00:01\r",
      "     |█████▍                          | 276 kB 6.5 MB/s eta 0:00:01\r",
      "     |█████▋                          | 286 kB 6.5 MB/s eta 0:00:01\r",
      "     |█████▉                          | 296 kB 6.5 MB/s eta 0:00:01\r",
      "     |██████                          | 307 kB 6.5 MB/s eta 0:00:01\r",
      "     |██████▏                         | 317 kB 6.5 MB/s eta 0:00:01\r",
      "     |██████▍                         | 327 kB 6.5 MB/s eta 0:00:01\r",
      "     |██████▋                         | 337 kB 6.5 MB/s eta 0:00:01\r",
      "     |██████▉                         | 348 kB 6.5 MB/s eta 0:00:01\r",
      "     |███████                         | 358 kB 6.5 MB/s eta 0:00:01\r",
      "     |███████▏                        | 368 kB 6.5 MB/s eta 0:00:01\r",
      "     |███████▍                        | 378 kB 6.5 MB/s eta 0:00:01\r",
      "     |███████▋                        | 389 kB 6.5 MB/s eta 0:00:01\r",
      "     |███████▉                        | 399 kB 6.5 MB/s eta 0:00:01\r",
      "     |████████                        | 409 kB 6.5 MB/s eta 0:00:01\r",
      "     |████████▏                       | 419 kB 6.5 MB/s eta 0:00:01\r",
      "     |████████▍                       | 430 kB 6.5 MB/s eta 0:00:01\r",
      "     |████████▋                       | 440 kB 6.5 MB/s eta 0:00:01\r",
      "     |████████▉                       | 450 kB 6.5 MB/s eta 0:00:01\r",
      "     |█████████                       | 460 kB 6.5 MB/s eta 0:00:01\r",
      "     |█████████▏                      | 471 kB 6.5 MB/s eta 0:00:01"
     ]
    },
    {
     "name": "stdout",
     "output_type": "stream",
     "text": [
      "\r",
      "     |█████████▍                      | 481 kB 6.5 MB/s eta 0:00:01\r",
      "     |█████████▋                      | 491 kB 6.5 MB/s eta 0:00:01\r",
      "     |█████████▉                      | 501 kB 6.5 MB/s eta 0:00:01\r",
      "     |██████████                      | 512 kB 6.5 MB/s eta 0:00:01\r",
      "     |██████████▏                     | 522 kB 6.5 MB/s eta 0:00:01\r",
      "     |██████████▍                     | 532 kB 6.5 MB/s eta 0:00:01\r",
      "     |██████████▋                     | 542 kB 6.5 MB/s eta 0:00:01\r",
      "     |██████████▉                     | 552 kB 6.5 MB/s eta 0:00:01\r",
      "     |███████████                     | 563 kB 6.5 MB/s eta 0:00:01\r",
      "     |███████████▏                    | 573 kB 6.5 MB/s eta 0:00:01\r",
      "     |███████████▍                    | 583 kB 6.5 MB/s eta 0:00:01\r",
      "     |███████████▋                    | 593 kB 6.5 MB/s eta 0:00:01\r",
      "     |███████████▉                    | 604 kB 6.5 MB/s eta 0:00:01\r",
      "     |████████████                    | 614 kB 6.5 MB/s eta 0:00:01\r",
      "     |████████████▏                   | 624 kB 6.5 MB/s eta 0:00:01\r",
      "     |████████████▍                   | 634 kB 6.5 MB/s eta 0:00:01\r",
      "     |████████████▋                   | 645 kB 6.5 MB/s eta 0:00:01\r",
      "     |████████████▉                   | 655 kB 6.5 MB/s eta 0:00:01\r",
      "     |█████████████                   | 665 kB 6.5 MB/s eta 0:00:01\r",
      "     |█████████████▏                  | 675 kB 6.5 MB/s eta 0:00:01\r",
      "     |█████████████▍                  | 686 kB 6.5 MB/s eta 0:00:01\r",
      "     |█████████████▋                  | 696 kB 6.5 MB/s eta 0:00:01\r",
      "     |█████████████▉                  | 706 kB 6.5 MB/s eta 0:00:01\r",
      "     |██████████████                  | 716 kB 6.5 MB/s eta 0:00:01\r",
      "     |██████████████▏                 | 727 kB 6.5 MB/s eta 0:00:01\r",
      "     |██████████████▍                 | 737 kB 6.5 MB/s eta 0:00:01\r",
      "     |██████████████▋                 | 747 kB 6.5 MB/s eta 0:00:01\r",
      "     |██████████████▉                 | 757 kB 6.5 MB/s eta 0:00:01\r",
      "     |███████████████                 | 768 kB 6.5 MB/s eta 0:00:01"
     ]
    },
    {
     "name": "stdout",
     "output_type": "stream",
     "text": [
      "\r",
      "     |███████████████▏                | 778 kB 6.5 MB/s eta 0:00:01\r",
      "     |███████████████▍                | 788 kB 6.5 MB/s eta 0:00:01\r",
      "     |███████████████▋                | 798 kB 6.5 MB/s eta 0:00:01\r",
      "     |███████████████▉                | 808 kB 6.5 MB/s eta 0:00:01\r",
      "     |████████████████                | 819 kB 6.5 MB/s eta 0:00:01\r",
      "     |████████████████▏               | 829 kB 6.5 MB/s eta 0:00:01\r",
      "     |████████████████▍               | 839 kB 6.5 MB/s eta 0:00:01\r",
      "     |████████████████▋               | 849 kB 6.5 MB/s eta 0:00:01\r",
      "     |████████████████▉               | 860 kB 6.5 MB/s eta 0:00:01\r",
      "     |█████████████████               | 870 kB 6.5 MB/s eta 0:00:01\r",
      "     |█████████████████▏              | 880 kB 6.5 MB/s eta 0:00:01\r",
      "     |█████████████████▍              | 890 kB 6.5 MB/s eta 0:00:01\r",
      "     |█████████████████▋              | 901 kB 6.5 MB/s eta 0:00:01\r",
      "     |█████████████████▉              | 911 kB 6.5 MB/s eta 0:00:01\r",
      "     |██████████████████              | 921 kB 6.5 MB/s eta 0:00:01\r",
      "     |██████████████████▏             | 931 kB 6.5 MB/s eta 0:00:01\r",
      "     |██████████████████▍             | 942 kB 6.5 MB/s eta 0:00:01\r",
      "     |██████████████████▋             | 952 kB 6.5 MB/s eta 0:00:01\r",
      "     |██████████████████▉             | 962 kB 6.5 MB/s eta 0:00:01\r",
      "     |███████████████████             | 972 kB 6.5 MB/s eta 0:00:01\r",
      "     |███████████████████▏            | 983 kB 6.5 MB/s eta 0:00:01\r",
      "     |███████████████████▍            | 993 kB 6.5 MB/s eta 0:00:01\r",
      "     |███████████████████▋            | 1.0 MB 6.5 MB/s eta 0:00:01\r",
      "     |███████████████████▉            | 1.0 MB 6.5 MB/s eta 0:00:01\r",
      "     |████████████████████            | 1.0 MB 6.5 MB/s eta 0:00:01\r",
      "     |████████████████████▏           | 1.0 MB 6.5 MB/s eta 0:00:01\r",
      "     |████████████████████▍           | 1.0 MB 6.5 MB/s eta 0:00:01\r",
      "     |████████████████████▋           | 1.1 MB 6.5 MB/s eta 0:00:01\r",
      "     |████████████████████▉           | 1.1 MB 6.5 MB/s eta 0:00:01"
     ]
    },
    {
     "name": "stdout",
     "output_type": "stream",
     "text": [
      "\r",
      "     |█████████████████████           | 1.1 MB 6.5 MB/s eta 0:00:01\r",
      "     |█████████████████████▏          | 1.1 MB 6.5 MB/s eta 0:00:01\r",
      "     |█████████████████████▍          | 1.1 MB 6.5 MB/s eta 0:00:01\r",
      "     |█████████████████████▋          | 1.1 MB 6.5 MB/s eta 0:00:01\r",
      "     |█████████████████████▉          | 1.1 MB 6.5 MB/s eta 0:00:01\r",
      "     |██████████████████████          | 1.1 MB 6.5 MB/s eta 0:00:01\r",
      "     |██████████████████████▏         | 1.1 MB 6.5 MB/s eta 0:00:01\r",
      "     |██████████████████████▍         | 1.1 MB 6.5 MB/s eta 0:00:01\r",
      "     |██████████████████████▋         | 1.2 MB 6.5 MB/s eta 0:00:01\r",
      "     |██████████████████████▊         | 1.2 MB 6.5 MB/s eta 0:00:01\r",
      "     |███████████████████████         | 1.2 MB 6.5 MB/s eta 0:00:01\r",
      "     |███████████████████████▏        | 1.2 MB 6.5 MB/s eta 0:00:01\r",
      "     |███████████████████████▍        | 1.2 MB 6.5 MB/s eta 0:00:01\r",
      "     |███████████████████████▋        | 1.2 MB 6.5 MB/s eta 0:00:01\r",
      "     |███████████████████████▊        | 1.2 MB 6.5 MB/s eta 0:00:01\r",
      "     |████████████████████████        | 1.2 MB 6.5 MB/s eta 0:00:01\r",
      "     |████████████████████████▏       | 1.2 MB 6.5 MB/s eta 0:00:01\r",
      "     |████████████████████████▍       | 1.2 MB 6.5 MB/s eta 0:00:01\r",
      "     |████████████████████████▋       | 1.3 MB 6.5 MB/s eta 0:00:01\r",
      "     |████████████████████████▊       | 1.3 MB 6.5 MB/s eta 0:00:01\r",
      "     |█████████████████████████       | 1.3 MB 6.5 MB/s eta 0:00:01\r",
      "     |█████████████████████████▏      | 1.3 MB 6.5 MB/s eta 0:00:01\r",
      "     |█████████████████████████▍      | 1.3 MB 6.5 MB/s eta 0:00:01\r",
      "     |█████████████████████████▋      | 1.3 MB 6.5 MB/s eta 0:00:01\r",
      "     |█████████████████████████▊      | 1.3 MB 6.5 MB/s eta 0:00:01\r",
      "     |██████████████████████████      | 1.3 MB 6.5 MB/s eta 0:00:01\r",
      "     |██████████████████████████▏     | 1.3 MB 6.5 MB/s eta 0:00:01\r",
      "     |██████████████████████████▍     | 1.4 MB 6.5 MB/s eta 0:00:01"
     ]
    },
    {
     "name": "stdout",
     "output_type": "stream",
     "text": [
      "\r",
      "     |██████████████████████████▋     | 1.4 MB 6.5 MB/s eta 0:00:01\r",
      "     |██████████████████████████▊     | 1.4 MB 6.5 MB/s eta 0:00:01\r",
      "     |███████████████████████████     | 1.4 MB 6.5 MB/s eta 0:00:01\r",
      "     |███████████████████████████▏    | 1.4 MB 6.5 MB/s eta 0:00:01\r",
      "     |███████████████████████████▍    | 1.4 MB 6.5 MB/s eta 0:00:01\r",
      "     |███████████████████████████▋    | 1.4 MB 6.5 MB/s eta 0:00:01\r",
      "     |███████████████████████████▊    | 1.4 MB 6.5 MB/s eta 0:00:01\r",
      "     |████████████████████████████    | 1.4 MB 6.5 MB/s eta 0:00:01\r",
      "     |████████████████████████████▏   | 1.4 MB 6.5 MB/s eta 0:00:01\r",
      "     |████████████████████████████▍   | 1.5 MB 6.5 MB/s eta 0:00:01\r",
      "     |████████████████████████████▋   | 1.5 MB 6.5 MB/s eta 0:00:01\r",
      "     |████████████████████████████▊   | 1.5 MB 6.5 MB/s eta 0:00:01\r",
      "     |█████████████████████████████   | 1.5 MB 6.5 MB/s eta 0:00:01\r",
      "     |█████████████████████████████▏  | 1.5 MB 6.5 MB/s eta 0:00:01\r",
      "     |█████████████████████████████▍  | 1.5 MB 6.5 MB/s eta 0:00:01\r",
      "     |█████████████████████████████▋  | 1.5 MB 6.5 MB/s eta 0:00:01\r",
      "     |█████████████████████████████▊  | 1.5 MB 6.5 MB/s eta 0:00:01\r",
      "     |██████████████████████████████  | 1.5 MB 6.5 MB/s eta 0:00:01\r",
      "     |██████████████████████████████▏ | 1.5 MB 6.5 MB/s eta 0:00:01\r",
      "     |██████████████████████████████▍ | 1.6 MB 6.5 MB/s eta 0:00:01\r",
      "     |██████████████████████████████▋ | 1.6 MB 6.5 MB/s eta 0:00:01\r",
      "     |██████████████████████████████▊ | 1.6 MB 6.5 MB/s eta 0:00:01\r",
      "     |███████████████████████████████ | 1.6 MB 6.5 MB/s eta 0:00:01\r",
      "     |███████████████████████████████▏| 1.6 MB 6.5 MB/s eta 0:00:01\r",
      "     |███████████████████████████████▍| 1.6 MB 6.5 MB/s eta 0:00:01\r",
      "     |███████████████████████████████▋| 1.6 MB 6.5 MB/s eta 0:00:01\r",
      "     |███████████████████████████████▊| 1.6 MB 6.5 MB/s eta 0:00:01\r",
      "     |████████████████████████████████| 1.6 MB 6.5 MB/s eta 0:00:01\r",
      "     |████████████████████████████████| 1.6 MB 6.5 MB/s            \r\n",
      "\u001b[?25h"
     ]
    },
    {
     "name": "stdout",
     "output_type": "stream",
     "text": [
      "Collecting thrift>=0.11.0\r\n"
     ]
    },
    {
     "name": "stdout",
     "output_type": "stream",
     "text": [
      "  Downloading thrift-0.15.0.tar.gz (59 kB)\r\n",
      "\u001b[?25l\r",
      "\r",
      "     |█████▌                          | 10 kB 7.4 MB/s eta 0:00:01\r",
      "     |███████████                     | 20 kB 7.3 MB/s eta 0:00:01\r",
      "     |████████████████▌               | 30 kB 10.6 MB/s eta 0:00:01\r",
      "     |██████████████████████          | 40 kB 6.2 MB/s eta 0:00:01 \r",
      "     |███████████████████████████▋    | 51 kB 7.4 MB/s eta 0:00:01 \r",
      "     |████████████████████████████████| 59 kB 8.7 MB/s             \r\n",
      "\u001b[?25h  Preparing metadata (setup.py) ... \u001b[?25l"
     ]
    },
    {
     "name": "stdout",
     "output_type": "stream",
     "text": [
      "-"
     ]
    },
    {
     "name": "stdout",
     "output_type": "stream",
     "text": [
      "\b \bdone\r\n",
      "\u001b[?25hRequirement already satisfied: pandas>=1.1.0 in /opt/conda/lib/python3.9/site-packages (from fastparquet) (1.3.4)\r\n",
      "Requirement already satisfied: numpy>=1.18 in /opt/conda/lib/python3.9/site-packages (from fastparquet) (1.21.4)\r\n"
     ]
    },
    {
     "name": "stdout",
     "output_type": "stream",
     "text": [
      "Collecting fsspec\r\n",
      "  Downloading fsspec-2021.11.1-py3-none-any.whl (132 kB)\r\n",
      "\u001b[?25l\r",
      "\r",
      "     |██▌                             | 10 kB 11.7 MB/s eta 0:00:01\r",
      "     |█████                           | 20 kB 8.5 MB/s eta 0:00:01 \r",
      "     |███████▍                        | 30 kB 12.1 MB/s eta 0:00:01\r",
      "     |█████████▉                      | 40 kB 6.6 MB/s eta 0:00:01 \r",
      "     |████████████▎                   | 51 kB 5.4 MB/s eta 0:00:01 \r",
      "     |██████████████▉                 | 61 kB 6.4 MB/s eta 0:00:01 \r",
      "     |█████████████████▎              | 71 kB 6.7 MB/s eta 0:00:01 \r",
      "     |███████████████████▊            | 81 kB 7.6 MB/s eta 0:00:01 \r",
      "     |██████████████████████▏         | 92 kB 6.3 MB/s eta 0:00:01 \r",
      "     |████████████████████████▋       | 102 kB 6.2 MB/s eta 0:00:01\r",
      "     |███████████████████████████     | 112 kB 6.2 MB/s eta 0:00:01\r",
      "     |█████████████████████████████▋  | 122 kB 6.2 MB/s eta 0:00:01\r",
      "     |████████████████████████████████| 132 kB 6.2 MB/s            \r\n",
      "\u001b[?25h"
     ]
    },
    {
     "name": "stdout",
     "output_type": "stream",
     "text": [
      "Requirement already satisfied: pytz>=2017.3 in /opt/conda/lib/python3.9/site-packages (from pandas>=1.1.0->fastparquet) (2021.3)\r\n",
      "Requirement already satisfied: python-dateutil>=2.7.3 in /opt/conda/lib/python3.9/site-packages (from pandas>=1.1.0->fastparquet) (2.8.2)\r\n",
      "Requirement already satisfied: six>=1.7.2 in /opt/conda/lib/python3.9/site-packages (from thrift>=0.11.0->fastparquet) (1.16.0)\r\n",
      "Building wheels for collected packages: thrift\r\n",
      "  Building wheel for thrift (setup.py) ... \u001b[?25l"
     ]
    },
    {
     "name": "stdout",
     "output_type": "stream",
     "text": [
      "-"
     ]
    },
    {
     "name": "stdout",
     "output_type": "stream",
     "text": [
      "\b \b\\"
     ]
    },
    {
     "name": "stdout",
     "output_type": "stream",
     "text": [
      "\b \b|"
     ]
    },
    {
     "name": "stdout",
     "output_type": "stream",
     "text": [
      "\b \b/"
     ]
    },
    {
     "name": "stdout",
     "output_type": "stream",
     "text": [
      "\b \b-"
     ]
    },
    {
     "name": "stdout",
     "output_type": "stream",
     "text": [
      "\b \b\\"
     ]
    },
    {
     "name": "stdout",
     "output_type": "stream",
     "text": [
      "\b \bdone\r\n",
      "\u001b[?25h  Created wheel for thrift: filename=thrift-0.15.0-cp39-cp39-linux_x86_64.whl size=183119 sha256=786ed2433b3ca9d16d427748c8c9b8a191cf983cfa3a290a7ee5eeac005a9785\r\n",
      "  Stored in directory: /tmp/pip-ephem-wheel-cache-sxdpq28g/wheels/00/41/cd/f65d329f7cc147ce79cc833b11b94f7bea7329df0ad9d81629\r\n",
      "Successfully built thrift\r\n"
     ]
    },
    {
     "name": "stdout",
     "output_type": "stream",
     "text": [
      "Installing collected packages: thrift, fsspec, cramjam, fastparquet\r\n"
     ]
    },
    {
     "name": "stdout",
     "output_type": "stream",
     "text": [
      "Successfully installed cramjam-2.5.0 fastparquet-0.7.2 fsspec-2021.11.1 thrift-0.15.0\r\n",
      "\u001b[33mWARNING: Running pip as the 'root' user can result in broken permissions and conflicting behaviour with the system package manager. It is recommended to use a virtual environment instead: https://pip.pypa.io/warnings/venv\u001b[0m\r\n"
     ]
    }
   ],
   "source": [
    "!pip install fastparquet"
   ]
  },
  {
   "cell_type": "code",
   "execution_count": 25,
   "id": "6d0f59aa-8966-4e2b-9f67-36ff17fd2652",
   "metadata": {
    "execution": {
     "iopub.execute_input": "2021-12-11T20:06:10.098892Z",
     "iopub.status.busy": "2021-12-11T20:06:10.098387Z",
     "iopub.status.idle": "2021-12-11T20:06:20.522605Z",
     "shell.execute_reply": "2021-12-11T20:06:20.522887Z"
    },
    "papermill": {
     "duration": 10.552002,
     "end_time": "2021-12-11T20:06:20.523000",
     "exception": false,
     "start_time": "2021-12-11T20:06:09.970998",
     "status": "completed"
    },
    "tags": []
   },
   "outputs": [],
   "source": [
    "df_aux.to_parquet('base_gerada/df.parquet.gzip',compression='gzip')"
   ]
  },
  {
   "cell_type": "code",
   "execution_count": null,
   "id": "16780007-b2f6-47c2-bb2c-e65817afe824",
   "metadata": {
    "papermill": {
     "duration": 0.126532,
     "end_time": "2021-12-11T20:06:20.772021",
     "exception": false,
     "start_time": "2021-12-11T20:06:20.645489",
     "status": "completed"
    },
    "tags": []
   },
   "outputs": [],
   "source": []
  },
  {
   "cell_type": "code",
   "execution_count": 26,
   "id": "33c13891-bf5e-40be-a7d1-2b6df283f08c",
   "metadata": {
    "execution": {
     "iopub.execute_input": "2021-12-11T20:06:21.065149Z",
     "iopub.status.busy": "2021-12-11T20:06:21.064657Z",
     "iopub.status.idle": "2021-12-11T20:06:21.067000Z",
     "shell.execute_reply": "2021-12-11T20:06:21.067302Z"
    },
    "papermill": {
     "duration": 0.169264,
     "end_time": "2021-12-11T20:06:21.067422",
     "exception": false,
     "start_time": "2021-12-11T20:06:20.898158",
     "status": "completed"
    },
    "tags": []
   },
   "outputs": [],
   "source": [
    "del df\n",
    "del df_aux"
   ]
  },
  {
   "cell_type": "code",
   "execution_count": null,
   "id": "e0b32c89-af3b-4009-a4c7-aa1d29a13862",
   "metadata": {
    "papermill": {
     "duration": 0.125638,
     "end_time": "2021-12-11T20:06:21.316144",
     "exception": false,
     "start_time": "2021-12-11T20:06:21.190506",
     "status": "completed"
    },
    "tags": []
   },
   "outputs": [],
   "source": []
  },
  {
   "cell_type": "code",
   "execution_count": 27,
   "id": "8ffbff5a-18d6-424f-8508-420b7bd478d0",
   "metadata": {
    "execution": {
     "iopub.execute_input": "2021-12-11T20:06:21.569849Z",
     "iopub.status.busy": "2021-12-11T20:06:21.569472Z",
     "iopub.status.idle": "2021-12-11T20:06:21.577503Z",
     "shell.execute_reply": "2021-12-11T20:06:21.577119Z"
    },
    "papermill": {
     "duration": 0.136638,
     "end_time": "2021-12-11T20:06:21.577616",
     "exception": false,
     "start_time": "2021-12-11T20:06:21.440978",
     "status": "completed"
    },
    "tags": []
   },
   "outputs": [
    {
     "name": "stdout",
     "output_type": "stream",
     "text": [
      "[20:6:21:567968]\u001b[43m\u001b[30m[ INFO  ]\u001b[0m : Etapa 2 - Data Clear |  FIM ETAPA 2 - NOTEBOOK  \n"
     ]
    }
   ],
   "source": [
    "console_log.info(\" FIM ETAPA 2 - NOTEBOOK  \")"
   ]
  },
  {
   "cell_type": "markdown",
   "id": "150732e4-8982-4c1b-9fd6-cb17166bf0b5",
   "metadata": {
    "papermill": {
     "duration": 0.127021,
     "end_time": "2021-12-11T20:06:21.830773",
     "exception": false,
     "start_time": "2021-12-11T20:06:21.703752",
     "status": "completed"
    },
    "tags": []
   },
   "source": [
    "\n",
    "### Agregação dos dados Essa resposta estara no (BI) Metabase\n",
    "- Quais são as 5 PF que mais gastaram (totalSpent)?\n",
    "- Qual é o valor de gasto médio por estado (state)?\n",
    "- Qual é o valor de gasto médio por jobArea?\n",
    "- Qual é a PF que gastou menos (totalSpent)?\n",
    "- Quantos nomes e documentos repetidos existem nesse dataset?\n",
    "- Quantas linhas existem nesse dataset?\n",
    "\n"
   ]
  },
  {
   "cell_type": "code",
   "execution_count": null,
   "id": "fafe096c-5383-433d-9582-244b9d6cf4e9",
   "metadata": {
    "papermill": {
     "duration": 0.125951,
     "end_time": "2021-12-11T20:06:22.082006",
     "exception": false,
     "start_time": "2021-12-11T20:06:21.956055",
     "status": "completed"
    },
    "tags": []
   },
   "outputs": [],
   "source": []
  },
  {
   "cell_type": "code",
   "execution_count": null,
   "id": "55a6413e-b092-4d9c-91a7-8137d3775666",
   "metadata": {
    "papermill": {
     "duration": 0.125809,
     "end_time": "2021-12-11T20:06:22.332034",
     "exception": false,
     "start_time": "2021-12-11T20:06:22.206225",
     "status": "completed"
    },
    "tags": []
   },
   "outputs": [],
   "source": []
  }
 ],
 "metadata": {
  "kernelspec": {
   "display_name": "Python 3 (ipykernel)",
   "language": "python",
   "name": "python3"
  },
  "language_info": {
   "codemirror_mode": {
    "name": "ipython",
    "version": 3
   },
   "file_extension": ".py",
   "mimetype": "text/x-python",
   "name": "python",
   "nbconvert_exporter": "python",
   "pygments_lexer": "ipython3",
   "version": "3.9.7"
  },
  "papermill": {
   "default_parameters": {},
   "duration": 2489.059143,
   "end_time": "2021-12-11T20:06:22.767732",
   "environment_variables": {},
   "exception": null,
   "input_path": "/home/jovyan/talent-data-analyst-lv4/Etapa 2/Etapa 2.ipynb",
   "output_path": "/home/jovyan/talent-data-analyst-lv4/Etapa 2/Etapa 2.ipynb",
   "parameters": {},
   "start_time": "2021-12-11T19:24:53.708589",
   "version": "2.3.3"
  }
 },
 "nbformat": 4,
 "nbformat_minor": 5
}