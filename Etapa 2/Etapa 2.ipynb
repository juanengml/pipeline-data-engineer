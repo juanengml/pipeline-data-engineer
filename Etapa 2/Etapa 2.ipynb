{
 "cells": [
  {
   "cell_type": "markdown",
   "id": "d40ec309-75ae-44bb-b8ff-3364a3473aeb",
   "metadata": {
    "papermill": {
     "duration": 0.07344,
     "end_time": "2021-12-12T02:55:06.444530",
     "exception": false,
     "start_time": "2021-12-12T02:55:06.371090",
     "status": "completed"
    },
    "tags": []
   },
   "source": [
    "## Problema 2: Você deverá implementar um programa, para ler, tratar e particionar os dados.\n",
    "\n",
    "O arquivo fonte está disponível em https://st-it-cloud-public.s3.amazonaws.com/people-v2_1E6.csv.gz\n"
   ]
  },
  {
   "cell_type": "markdown",
   "id": "a21cc882-15c2-4b0d-84bd-dd042e3b80ca",
   "metadata": {
    "papermill": {
     "duration": 0.08373,
     "end_time": "2021-12-12T02:55:06.602422",
     "exception": false,
     "start_time": "2021-12-12T02:55:06.518692",
     "status": "completed"
    },
    "tags": []
   },
   "source": [
    "\n",
    "### Data Quality\n",
    "\n",
    "- Higienizar e homogenizar o formato da coluna document\n",
    "- Detectar através da coluna document se o registro é de uma Pessoa Física ou Pessoa Jurídica, adicionando uma coluna com essa informação\n",
    "- Higienizar e homogenizar o formato da coluna birthDate\n",
    "\n",
    "- Existem duas colunas nesse dataset que em alguns registros estão trocadas. Quais são essas colunas?\n",
    "- Corrigir os dados com as colunas trocadas\n",
    "- Além desses pontos, existem outras tratamentos para homogenizar esse dataset. Aplique todos que conseguir.\n"
   ]
  },
  {
   "cell_type": "code",
   "execution_count": 1,
   "id": "fe83f734-b52f-4fb7-9236-7ef1f614c159",
   "metadata": {
    "execution": {
     "iopub.execute_input": "2021-12-12T02:55:06.781729Z",
     "iopub.status.busy": "2021-12-12T02:55:06.781332Z",
     "iopub.status.idle": "2021-12-12T02:55:13.722121Z",
     "shell.execute_reply": "2021-12-12T02:55:13.721712Z"
    },
    "papermill": {
     "duration": 7.034771,
     "end_time": "2021-12-12T02:55:13.722214",
     "exception": false,
     "start_time": "2021-12-12T02:55:06.687443",
     "status": "completed"
    },
    "tags": []
   },
   "outputs": [
    {
     "name": "stdout",
     "output_type": "stream",
     "text": [
      "\u001b[33mWARNING: The directory '/home/jovyan/.cache/pip' or its parent directory is not owned or is not writable by the current user. The cache has been disabled. Check the permissions and owner of that directory. If executing pip with sudo, you should use sudo's -H flag.\u001b[0m\r\n",
      "Requirement already satisfied: console-logging in /opt/conda/lib/python3.9/site-packages (0.0.5.0)\r\n",
      "Requirement already satisfied: termcolor in /opt/conda/lib/python3.9/site-packages (from console-logging) (1.1.0)\r\n"
     ]
    },
    {
     "name": "stdout",
     "output_type": "stream",
     "text": [
      "\u001b[33mWARNING: Running pip as the 'root' user can result in broken permissions and conflicting behaviour with the system package manager. It is recommended to use a virtual environment instead: https://pip.pypa.io/warnings/venv\u001b[0m\r\n"
     ]
    },
    {
     "name": "stdout",
     "output_type": "stream",
     "text": [
      "\u001b[33mWARNING: The directory '/home/jovyan/.cache/pip' or its parent directory is not owned or is not writable by the current user. The cache has been disabled. Check the permissions and owner of that directory. If executing pip with sudo, you should use sudo's -H flag.\u001b[0m\r\n"
     ]
    },
    {
     "name": "stdout",
     "output_type": "stream",
     "text": [
      "Requirement already satisfied: fuzzywuzzy in /opt/conda/lib/python3.9/site-packages (0.18.0)\r\n"
     ]
    },
    {
     "name": "stdout",
     "output_type": "stream",
     "text": [
      "\u001b[33mWARNING: Running pip as the 'root' user can result in broken permissions and conflicting behaviour with the system package manager. It is recommended to use a virtual environment instead: https://pip.pypa.io/warnings/venv\u001b[0m\r\n"
     ]
    },
    {
     "name": "stdout",
     "output_type": "stream",
     "text": [
      "\r",
      "Reading package lists... 0%\r"
     ]
    },
    {
     "name": "stdout",
     "output_type": "stream",
     "text": [
      "\r",
      "Reading package lists... 0%\r",
      "\r",
      "Reading package lists... 0%\r"
     ]
    },
    {
     "name": "stdout",
     "output_type": "stream",
     "text": [
      "\r",
      "Reading package lists... 6%\r",
      "\r",
      "Reading package lists... 6%\r",
      "\r",
      "Reading package lists... 6%\r",
      "\r",
      "Reading package lists... 6%\r"
     ]
    },
    {
     "name": "stdout",
     "output_type": "stream",
     "text": [
      "\r",
      "Reading package lists... 64%\r",
      "\r",
      "Reading package lists... 64%\r",
      "\r",
      "Reading package lists... 65%\r",
      "\r",
      "Reading package lists... 65%\r"
     ]
    },
    {
     "name": "stdout",
     "output_type": "stream",
     "text": [
      "\r",
      "Reading package lists... 73%\r",
      "\r",
      "Reading package lists... 73%\r",
      "\r",
      "Reading package lists... 77%\r",
      "\r",
      "Reading package lists... 77%\r"
     ]
    },
    {
     "name": "stdout",
     "output_type": "stream",
     "text": [
      "\r",
      "Reading package lists... 83%\r",
      "\r",
      "Reading package lists... 83%\r",
      "\r",
      "Reading package lists... 83%\r",
      "\r",
      "Reading package lists... 83%\r",
      "\r",
      "Reading package lists... 84%\r",
      "\r",
      "Reading package lists... 84%\r",
      "\r",
      "Reading package lists... 84%\r",
      "\r",
      "Reading package lists... 84%\r",
      "\r",
      "Reading package lists... 90%\r"
     ]
    },
    {
     "name": "stdout",
     "output_type": "stream",
     "text": [
      "\r",
      "Reading package lists... 90%\r",
      "\r",
      "Reading package lists... 94%\r",
      "\r",
      "Reading package lists... 94%\r",
      "\r",
      "Reading package lists... 99%\r",
      "\r",
      "Reading package lists... 99%\r",
      "\r",
      "Reading package lists... 99%\r",
      "\r",
      "Reading package lists... 99%\r",
      "\r",
      "Reading package lists... Done\r",
      "\r\n",
      "\r",
      "Building dependency tree... 0%\r",
      "\r",
      "Building dependency tree... 0%\r"
     ]
    },
    {
     "name": "stdout",
     "output_type": "stream",
     "text": [
      "\r",
      "Building dependency tree... 50%\r",
      "\r",
      "Building dependency tree... 50%\r"
     ]
    },
    {
     "name": "stdout",
     "output_type": "stream",
     "text": [
      "\r",
      "Building dependency tree... 72%\r"
     ]
    },
    {
     "name": "stdout",
     "output_type": "stream",
     "text": [
      "\r",
      "Building dependency tree       \r",
      "\r\n",
      "\r",
      "Reading state information... 0%\r",
      "\r",
      "Reading state information... 0%\r",
      "\r",
      "Reading state information... Done\r",
      "\r\n",
      "libmysqlclient-dev is already the newest version (8.0.27-0ubuntu0.20.04.1).\r\n"
     ]
    },
    {
     "name": "stdout",
     "output_type": "stream",
     "text": [
      "0 upgraded, 0 newly installed, 0 to remove and 4 not upgraded.\r\n"
     ]
    },
    {
     "name": "stdout",
     "output_type": "stream",
     "text": [
      "Requirement already satisfied: dataset in /opt/conda/lib/python3.9/site-packages (1.5.1)\r\n",
      "Requirement already satisfied: console-logging in /opt/conda/lib/python3.9/site-packages (0.0.5.0)\r\n",
      "Requirement already satisfied: mysqlclient in /opt/conda/lib/python3.9/site-packages (2.1.0)\r\n"
     ]
    },
    {
     "name": "stdout",
     "output_type": "stream",
     "text": [
      "Requirement already satisfied: banal>=1.0.1 in /opt/conda/lib/python3.9/site-packages (from dataset) (1.0.6)\r\n",
      "Requirement already satisfied: alembic>=0.6.2 in /opt/conda/lib/python3.9/site-packages (from dataset) (1.7.4)\r\n",
      "Requirement already satisfied: sqlalchemy>=1.3.2 in /opt/conda/lib/python3.9/site-packages (from dataset) (1.4.26)\r\n",
      "Requirement already satisfied: termcolor in /opt/conda/lib/python3.9/site-packages (from console-logging) (1.1.0)\r\n",
      "Requirement already satisfied: Mako in /opt/conda/lib/python3.9/site-packages (from alembic>=0.6.2->dataset) (1.1.5)\r\n"
     ]
    },
    {
     "name": "stdout",
     "output_type": "stream",
     "text": [
      "Requirement already satisfied: greenlet!=0.4.17 in /opt/conda/lib/python3.9/site-packages (from sqlalchemy>=1.3.2->dataset) (1.1.2)\r\n"
     ]
    },
    {
     "name": "stdout",
     "output_type": "stream",
     "text": [
      "Requirement already satisfied: MarkupSafe>=0.9.2 in /opt/conda/lib/python3.9/site-packages (from Mako->alembic>=0.6.2->dataset) (2.0.1)\r\n"
     ]
    },
    {
     "name": "stdout",
     "output_type": "stream",
     "text": [
      "\u001b[33mWARNING: Running pip as the 'root' user can result in broken permissions and conflicting behaviour with the system package manager. It is recommended to use a virtual environment instead: https://pip.pypa.io/warnings/venv\u001b[0m\r\n"
     ]
    }
   ],
   "source": [
    "!pip install console-logging  \n",
    "!pip install fuzzywuzzy\n",
    "!sudo apt-get install libmysqlclient-dev --yes\n",
    "!pip install dataset console-logging mysqlclient dataset --no-cache-dir"
   ]
  },
  {
   "cell_type": "code",
   "execution_count": 2,
   "id": "dab108ab-8c39-452d-a386-3f4691dfa46f",
   "metadata": {
    "execution": {
     "iopub.execute_input": "2021-12-12T02:55:13.935168Z",
     "iopub.status.busy": "2021-12-12T02:55:13.934498Z",
     "iopub.status.idle": "2021-12-12T02:55:14.373334Z",
     "shell.execute_reply": "2021-12-12T02:55:14.373752Z"
    },
    "papermill": {
     "duration": 0.549993,
     "end_time": "2021-12-12T02:55:14.373925",
     "exception": false,
     "start_time": "2021-12-12T02:55:13.823932",
     "status": "completed"
    },
    "tags": []
   },
   "outputs": [],
   "source": [
    "from console_logging.console import Console\n",
    "console = Console()\n",
    "from datetime import datetime as dt\n",
    "from Enriquecimento_UF import Logs"
   ]
  },
  {
   "cell_type": "markdown",
   "id": "9b60d6fa-f77f-40c1-97ac-9051c162aabb",
   "metadata": {
    "papermill": {
     "duration": 0.091861,
     "end_time": "2021-12-12T02:55:14.560381",
     "exception": false,
     "start_time": "2021-12-12T02:55:14.468520",
     "status": "completed"
    },
    "tags": []
   },
   "source": [
    "## Carregando Base "
   ]
  },
  {
   "cell_type": "code",
   "execution_count": null,
   "id": "69b92ae4-d2de-49e0-bee6-17709e735136",
   "metadata": {
    "execution": {
     "iopub.execute_input": "2021-12-11T19:25:01.873553Z",
     "iopub.status.busy": "2021-12-11T19:25:01.871042Z",
     "iopub.status.idle": "2021-12-11T19:27:07.436985Z",
     "shell.execute_reply": "2021-12-11T19:27:07.436527Z"
    },
    "papermill": {
     "duration": null,
     "end_time": null,
     "exception": false,
     "start_time": "2021-12-12T02:55:14.658608",
     "status": "running"
    },
    "tags": []
   },
   "outputs": [],
   "source": [
    "import pandas as pd\n",
    "import numpy as np\n",
    "import re\n",
    "\n",
    "etapa = \"Etapa 2 - Data Clear\"\n",
    "\n",
    "console_log = Logs(etapa)\n",
    "\n",
    "dataset = \"https://st-it-cloud-public.s3.amazonaws.com/people-v2_1E6.csv.gz\"\n",
    "\n",
    "\n",
    "console_log.info(\"Loading dataset :\" +dataset)\n",
    "\n",
    "\n",
    "df = pd.read_csv(dataset,compression='gzip',error_bad_lines=False,sep=';',low_memory=False)"
   ]
  },
  {
   "cell_type": "markdown",
   "id": "b2388a67-f106-4ba0-a3a8-de4e6e1f4e4a",
   "metadata": {
    "papermill": {
     "duration": null,
     "end_time": null,
     "exception": null,
     "start_time": null,
     "status": "pending"
    },
    "tags": []
   },
   "source": [
    "## Removendo caracter especial da coluna Document"
   ]
  },
  {
   "cell_type": "code",
   "execution_count": null,
   "id": "a66889d9-7fa2-4503-a0e0-e39f7b9beaf0",
   "metadata": {
    "papermill": {
     "duration": null,
     "end_time": null,
     "exception": null,
     "start_time": null,
     "status": "pending"
    },
    "tags": []
   },
   "outputs": [],
   "source": []
  },
  {
   "cell_type": "code",
   "execution_count": null,
   "id": "62100a11-21df-4934-88b4-d61825d2b870",
   "metadata": {
    "execution": {
     "iopub.execute_input": "2021-12-11T19:27:07.927836Z",
     "iopub.status.busy": "2021-12-11T19:27:07.927417Z",
     "iopub.status.idle": "2021-12-11T19:27:09.144724Z",
     "shell.execute_reply": "2021-12-11T19:27:09.144283Z"
    },
    "papermill": {
     "duration": null,
     "end_time": null,
     "exception": null,
     "start_time": null,
     "status": "pending"
    },
    "tags": []
   },
   "outputs": [],
   "source": [
    "console_log.info(\"Removento caracter especial\")\n",
    "df['document'] = df['document'].apply(lambda x: re.sub('[^A-Za-z0-9]+', '', x))"
   ]
  },
  {
   "cell_type": "code",
   "execution_count": null,
   "id": "eabbd3c7-e237-466d-af2d-f126dac77239",
   "metadata": {
    "execution": {
     "iopub.execute_input": "2021-12-11T19:27:09.315061Z",
     "iopub.status.busy": "2021-12-11T19:27:09.311354Z",
     "iopub.status.idle": "2021-12-11T19:27:09.321264Z",
     "shell.execute_reply": "2021-12-11T19:27:09.321533Z"
    },
    "papermill": {
     "duration": null,
     "end_time": null,
     "exception": null,
     "start_time": null,
     "status": "pending"
    },
    "tags": []
   },
   "outputs": [],
   "source": [
    "df.head()"
   ]
  },
  {
   "cell_type": "markdown",
   "id": "3353745f-a1f4-4f30-84cd-8b08501ec7c7",
   "metadata": {
    "papermill": {
     "duration": null,
     "end_time": null,
     "exception": null,
     "start_time": null,
     "status": "pending"
    },
    "tags": []
   },
   "source": [
    "## Avaliando Doc para Pessoas Juridica ou Fisica"
   ]
  },
  {
   "cell_type": "code",
   "execution_count": null,
   "id": "983313d5-4f81-4321-a446-a201cee2f434",
   "metadata": {
    "execution": {
     "iopub.execute_input": "2021-12-11T19:27:09.657717Z",
     "iopub.status.busy": "2021-12-11T19:27:09.657135Z",
     "iopub.status.idle": "2021-12-11T19:27:09.877038Z",
     "shell.execute_reply": "2021-12-11T19:27:09.877346Z"
    },
    "papermill": {
     "duration": null,
     "end_time": null,
     "exception": null,
     "start_time": null,
     "status": "pending"
    },
    "tags": []
   },
   "outputs": [],
   "source": [
    "\n",
    "console_log.info(\"Criando Coluna Pessoas, Pessoa fisica x Pessoa Juridica\")\n",
    "df['PESSOA'] = df['document'].apply(lambda document: \"JURIDICA\" if len(str(document)) == 14 else \"FISICA\")"
   ]
  },
  {
   "cell_type": "markdown",
   "id": "ed1d6847-230d-43d2-ae82-55a8af51858d",
   "metadata": {
    "papermill": {
     "duration": null,
     "end_time": null,
     "exception": null,
     "start_time": null,
     "status": "pending"
    },
    "tags": []
   },
   "source": [
    "## Correção e Parse de Data Hora"
   ]
  },
  {
   "cell_type": "code",
   "execution_count": null,
   "id": "884fb740-e46d-488b-8a08-cda633845350",
   "metadata": {
    "execution": {
     "iopub.execute_input": "2021-12-11T19:27:10.211720Z",
     "iopub.status.busy": "2021-12-11T19:27:10.211305Z",
     "iopub.status.idle": "2021-12-11T19:27:55.134681Z",
     "shell.execute_reply": "2021-12-11T19:27:55.134987Z"
    },
    "papermill": {
     "duration": null,
     "end_time": null,
     "exception": null,
     "start_time": null,
     "status": "pending"
    },
    "tags": []
   },
   "outputs": [],
   "source": [
    "from dateutil.parser import parse\n",
    "\n",
    "console_log.info(\"CORREÇÃO DATA HORA\")\n",
    "\n",
    "console.info(\"INICIO CORREÇÃO DATA HORA\")\n",
    "inicio = dt.now()\n",
    "df['birthDate'] = df['birthDate'].apply(lambda date: parse (date))\n",
    "\n",
    "console.info(\"FIM CORREÇÃO HORA\")\n",
    "\n",
    "console.log(\"Tempo de Exec: \"+str(dt.now() - inicio))"
   ]
  },
  {
   "cell_type": "markdown",
   "id": "0f8a2848-117e-4196-8a54-a0c88bd333a1",
   "metadata": {
    "papermill": {
     "duration": null,
     "end_time": null,
     "exception": null,
     "start_time": null,
     "status": "pending"
    },
    "tags": []
   },
   "source": [
    "## Processo de correção de phoneNumber e Job Area"
   ]
  },
  {
   "cell_type": "code",
   "execution_count": null,
   "id": "a996b69f-c30a-480d-a6af-1cd7fef5699f",
   "metadata": {
    "execution": {
     "iopub.execute_input": "2021-12-11T19:27:55.483455Z",
     "iopub.status.busy": "2021-12-11T19:27:55.483060Z",
     "iopub.status.idle": "2021-12-11T19:27:57.151215Z",
     "shell.execute_reply": "2021-12-11T19:27:57.150052Z"
    },
    "papermill": {
     "duration": null,
     "end_time": null,
     "exception": null,
     "start_time": null,
     "status": "pending"
    },
    "tags": []
   },
   "outputs": [],
   "source": [
    "df['phoneNumber'] = df['phoneNumber'].apply(lambda x: re.sub('[^A-Za-z0-9]+', '', x))"
   ]
  },
  {
   "cell_type": "code",
   "execution_count": null,
   "id": "fec3e229-560e-4345-86e7-72346f024c1f",
   "metadata": {
    "execution": {
     "iopub.execute_input": "2021-12-11T19:27:57.328919Z",
     "iopub.status.busy": "2021-12-11T19:27:57.326491Z",
     "iopub.status.idle": "2021-12-11T19:27:57.714059Z",
     "shell.execute_reply": "2021-12-11T19:27:57.714370Z"
    },
    "papermill": {
     "duration": null,
     "end_time": null,
     "exception": null,
     "start_time": null,
     "status": "pending"
    },
    "tags": []
   },
   "outputs": [],
   "source": [
    "df['jobArea'] = df['jobArea'].apply(lambda x: x.replace(\"+\",\"\").replace(\"(\",\"\").replace(\")\",\"\").replace(\"-\",\"\").replace(\" \",\"\"))"
   ]
  },
  {
   "cell_type": "code",
   "execution_count": null,
   "id": "1c06af22-fd5c-4293-a1c9-17309819e4d4",
   "metadata": {
    "execution": {
     "iopub.execute_input": "2021-12-11T19:27:58.132961Z",
     "iopub.status.busy": "2021-12-11T19:27:57.886959Z",
     "iopub.status.idle": "2021-12-11T19:27:58.146969Z",
     "shell.execute_reply": "2021-12-11T19:27:58.146545Z"
    },
    "papermill": {
     "duration": null,
     "end_time": null,
     "exception": null,
     "start_time": null,
     "status": "pending"
    },
    "tags": []
   },
   "outputs": [],
   "source": [
    "df.iloc[[20,21,22,42,44,45,46,49,63,70]]"
   ]
  },
  {
   "cell_type": "code",
   "execution_count": null,
   "id": "ea6c0633-f0b7-4c14-92a4-28f6e61bb7d1",
   "metadata": {
    "execution": {
     "iopub.execute_input": "2021-12-11T19:27:58.320674Z",
     "iopub.status.busy": "2021-12-11T19:27:58.320332Z",
     "iopub.status.idle": "2021-12-11T19:27:58.323043Z",
     "shell.execute_reply": "2021-12-11T19:27:58.322770Z"
    },
    "papermill": {
     "duration": null,
     "end_time": null,
     "exception": null,
     "start_time": null,
     "status": "pending"
    },
    "tags": []
   },
   "outputs": [],
   "source": [
    "def fuck_corrige(df):\n",
    "    aux = df.copy()\n",
    "\n",
    "    for ids,item in df[['jobArea','phoneNumber']].iterrows():\n",
    "        if item['jobArea'].isnumeric() == True and item['phoneNumber'].isnumeric() == False:\n",
    "              aux.loc[ids,\"jobArea\"] = item[\"phoneNumber\"]\n",
    "              aux.loc[ids,\"phoneNumber\"]= item [\"jobArea\"]\n",
    "\n",
    "        if item[\"jobArea\"].isnumeric() == False and item['phoneNumber'].isnumeric() == True:\n",
    "            pass    \n",
    "        \n",
    "        if item[\"jobArea\"].isnumeric() == True and item['phoneNumber'].isnumeric() == True:\n",
    "            aux.loc[ids,\"jobArea\"] =  \"\"\n",
    "\n",
    "        if item[\"jobArea\"].isnumeric() == False and item['phoneNumber'].isnumeric() == False:\n",
    "            aux.loc[ids,\"phoneNumber\"]= \"\" \n",
    "    return aux \n"
   ]
  },
  {
   "cell_type": "code",
   "execution_count": null,
   "id": "81e8cd48-72c7-4f0d-9342-5f95367a1ee6",
   "metadata": {
    "execution": {
     "iopub.execute_input": "2021-12-11T19:27:58.489520Z",
     "iopub.status.busy": "2021-12-11T19:27:58.488875Z",
     "iopub.status.idle": "2021-12-11T20:05:42.893301Z",
     "shell.execute_reply": "2021-12-11T20:05:42.893630Z"
    },
    "papermill": {
     "duration": null,
     "end_time": null,
     "exception": null,
     "start_time": null,
     "status": "pending"
    },
    "tags": []
   },
   "outputs": [],
   "source": [
    "\n",
    "inicio = dt.now()\n",
    "console_log.info(\" TRATAMENTO DE COLUNAS \")\n",
    "\n",
    "df_aux = fuck_corrige(df)\n",
    "\n",
    "console.log(\"Tempo de Exec: \"+str(dt.now() - inicio))"
   ]
  },
  {
   "cell_type": "code",
   "execution_count": null,
   "id": "e38b6b98-0104-4abe-a44c-d140f706cff0",
   "metadata": {
    "execution": {
     "iopub.execute_input": "2021-12-11T20:05:43.071475Z",
     "iopub.status.busy": "2021-12-11T20:05:43.070947Z",
     "iopub.status.idle": "2021-12-11T20:05:43.073811Z",
     "shell.execute_reply": "2021-12-11T20:05:43.074079Z"
    },
    "papermill": {
     "duration": null,
     "end_time": null,
     "exception": null,
     "start_time": null,
     "status": "pending"
    },
    "tags": []
   },
   "outputs": [],
   "source": [
    "df.iloc[[20,21,22,42,44,45,46,49,63,70]]"
   ]
  },
  {
   "cell_type": "code",
   "execution_count": null,
   "id": "e0c2df8b-a5fa-4c0f-ab65-c0cc405e0e86",
   "metadata": {
    "execution": {
     "iopub.execute_input": "2021-12-11T20:05:43.255158Z",
     "iopub.status.busy": "2021-12-11T20:05:43.254807Z",
     "iopub.status.idle": "2021-12-11T20:05:43.257926Z",
     "shell.execute_reply": "2021-12-11T20:05:43.257561Z"
    },
    "papermill": {
     "duration": null,
     "end_time": null,
     "exception": null,
     "start_time": null,
     "status": "pending"
    },
    "tags": []
   },
   "outputs": [],
   "source": [
    "df_aux.iloc[[20,21,22,42,44,45,46,49,63,70]]"
   ]
  },
  {
   "cell_type": "markdown",
   "id": "48a20433-6100-4eee-b3ed-8bf7d51d3c18",
   "metadata": {
    "papermill": {
     "duration": null,
     "end_time": null,
     "exception": null,
     "start_time": null,
     "status": "pending"
    },
    "tags": []
   },
   "source": [
    "## Correção de UF "
   ]
  },
  {
   "cell_type": "code",
   "execution_count": null,
   "id": "d1686e8c-955e-4b67-bf08-dd7ee360d4e8",
   "metadata": {
    "execution": {
     "iopub.execute_input": "2021-12-11T20:05:43.606012Z",
     "iopub.status.busy": "2021-12-11T20:05:43.605646Z",
     "iopub.status.idle": "2021-12-11T20:05:43.966675Z",
     "shell.execute_reply": "2021-12-11T20:05:43.966253Z"
    },
    "papermill": {
     "duration": null,
     "end_time": null,
     "exception": null,
     "start_time": null,
     "status": "pending"
    },
    "tags": []
   },
   "outputs": [],
   "source": [
    "ufs = pd.read_csv(\"https://raw.githubusercontent.com/mapaslivres/municipios-br/main/tabelas/ufs.csv\")"
   ]
  },
  {
   "cell_type": "code",
   "execution_count": null,
   "id": "e7675c56-3722-4a51-9eef-f685c474cecd",
   "metadata": {
    "execution": {
     "iopub.execute_input": "2021-12-11T20:05:44.141038Z",
     "iopub.status.busy": "2021-12-11T20:05:44.140535Z",
     "iopub.status.idle": "2021-12-11T20:05:45.696123Z",
     "shell.execute_reply": "2021-12-11T20:05:45.695695Z"
    },
    "papermill": {
     "duration": null,
     "end_time": null,
     "exception": null,
     "start_time": null,
     "status": "pending"
    },
    "tags": []
   },
   "outputs": [],
   "source": [
    "!pip install fuzzywuzzy"
   ]
  },
  {
   "cell_type": "code",
   "execution_count": null,
   "id": "22707ff1-173b-4f95-b512-40a38596d50f",
   "metadata": {
    "collapsed": true,
    "execution": {
     "iopub.execute_input": "2021-12-11T20:05:45.878866Z",
     "iopub.status.busy": "2021-12-11T20:05:45.878461Z",
     "iopub.status.idle": "2021-12-11T20:05:48.110368Z",
     "shell.execute_reply": "2021-12-11T20:05:48.109871Z"
    },
    "jupyter": {
     "outputs_hidden": true
    },
    "papermill": {
     "duration": null,
     "end_time": null,
     "exception": null,
     "start_time": null,
     "status": "pending"
    },
    "tags": []
   },
   "outputs": [],
   "source": [
    "import string\n",
    "from fuzzywuzzy import fuzz\n",
    "\n",
    "etapa = \"Etapa 2 - Data Clear\"\n",
    "\n",
    "console_log = Logs(etapa)\n",
    "\n",
    "console_log.info(\" CORRIGINDO UF \")\n",
    "\n",
    "lista_state = df_aux[['state']].groupby('state').count().index.tolist()\n",
    "\n",
    "for index, value in ufs[['uf_code','name']].iterrows():\n",
    "    #\n",
    "    for uf in lista_state:\n",
    "        distance = fuzz.ratio(value['name'], string.capwords(uf))  \n",
    "        if distance > 60:\n",
    "          print(value['uf_code'], value['name'],uf, distance)\n",
    "          query = \"state == '{}'\".format(uf)\n",
    "          print(query)  \n",
    "          lista_index_estados = df_aux.query(query).index.to_list()\n",
    "          df_aux.loc[lista_index_estados,'state'] = value['uf_code']  \n",
    "          "
   ]
  },
  {
   "cell_type": "code",
   "execution_count": null,
   "id": "fb720035-1913-49a4-9b2d-9765021d4614",
   "metadata": {
    "execution": {
     "iopub.execute_input": "2021-12-11T20:05:48.320371Z",
     "iopub.status.busy": "2021-12-11T20:05:48.311657Z",
     "iopub.status.idle": "2021-12-11T20:05:48.323019Z",
     "shell.execute_reply": "2021-12-11T20:05:48.322726Z"
    },
    "papermill": {
     "duration": null,
     "end_time": null,
     "exception": null,
     "start_time": null,
     "status": "pending"
    },
    "tags": []
   },
   "outputs": [],
   "source": [
    "df_aux"
   ]
  },
  {
   "cell_type": "markdown",
   "id": "ae338e8a-a329-4fd2-8102-e0e4b269be41",
   "metadata": {
    "papermill": {
     "duration": null,
     "end_time": null,
     "exception": null,
     "start_time": null,
     "status": "pending"
    },
    "tags": []
   },
   "source": [
    "## Salvando dados "
   ]
  },
  {
   "cell_type": "code",
   "execution_count": null,
   "id": "13a3d77e-9bb7-4e09-8575-8e8eb8857ed1",
   "metadata": {
    "execution": {
     "iopub.execute_input": "2021-12-11T20:05:48.728397Z",
     "iopub.status.busy": "2021-12-11T20:05:48.728014Z",
     "iopub.status.idle": "2021-12-11T20:05:48.942805Z",
     "shell.execute_reply": "2021-12-11T20:05:48.941653Z"
    },
    "papermill": {
     "duration": null,
     "end_time": null,
     "exception": null,
     "start_time": null,
     "status": "pending"
    },
    "tags": []
   },
   "outputs": [],
   "source": [
    "!mkdir base_gerada"
   ]
  },
  {
   "cell_type": "code",
   "execution_count": null,
   "id": "898b8adf-0348-4d41-b400-d41b08ee5b88",
   "metadata": {
    "execution": {
     "iopub.execute_input": "2021-12-11T20:05:49.141631Z",
     "iopub.status.busy": "2021-12-11T20:05:49.140460Z",
     "iopub.status.idle": "2021-12-11T20:05:49.149312Z",
     "shell.execute_reply": "2021-12-11T20:05:49.148904Z"
    },
    "papermill": {
     "duration": null,
     "end_time": null,
     "exception": null,
     "start_time": null,
     "status": "pending"
    },
    "tags": []
   },
   "outputs": [],
   "source": [
    "console_log.info(\" TRATANDO ANO  \")"
   ]
  },
  {
   "cell_type": "code",
   "execution_count": null,
   "id": "c76c0a16-8ebd-4dc5-b3c6-c4f188f24651",
   "metadata": {
    "execution": {
     "iopub.execute_input": "2021-12-11T20:05:49.351781Z",
     "iopub.status.busy": "2021-12-11T20:05:49.351333Z",
     "iopub.status.idle": "2021-12-11T20:05:53.598202Z",
     "shell.execute_reply": "2021-12-11T20:05:53.598503Z"
    },
    "papermill": {
     "duration": null,
     "end_time": null,
     "exception": null,
     "start_time": null,
     "status": "pending"
    },
    "tags": []
   },
   "outputs": [],
   "source": [
    "df_aux[\"Ano\"] = df_aux[\"birthDate\"].apply(lambda x:str(x).split(\"-\")[0])"
   ]
  },
  {
   "cell_type": "code",
   "execution_count": null,
   "id": "bfff8d7f-20a3-47cc-b87a-8ede730e6466",
   "metadata": {
    "execution": {
     "iopub.execute_input": "2021-12-11T20:05:53.921871Z",
     "iopub.status.busy": "2021-12-11T20:05:53.921452Z",
     "iopub.status.idle": "2021-12-11T20:05:54.171232Z",
     "shell.execute_reply": "2021-12-11T20:05:54.170809Z"
    },
    "papermill": {
     "duration": null,
     "end_time": null,
     "exception": null,
     "start_time": null,
     "status": "pending"
    },
    "tags": []
   },
   "outputs": [],
   "source": [
    "lista_anos = df_aux[['Ano']].groupby('Ano').count().index.tolist()"
   ]
  },
  {
   "cell_type": "code",
   "execution_count": null,
   "id": "22aa731b-7476-4766-affd-f40ce3f81cd6",
   "metadata": {
    "execution": {
     "iopub.execute_input": "2021-12-11T20:05:54.375577Z",
     "iopub.status.busy": "2021-12-11T20:05:54.375199Z",
     "iopub.status.idle": "2021-12-11T20:06:02.728041Z",
     "shell.execute_reply": "2021-12-11T20:06:02.727737Z"
    },
    "papermill": {
     "duration": null,
     "end_time": null,
     "exception": null,
     "start_time": null,
     "status": "pending"
    },
    "tags": []
   },
   "outputs": [],
   "source": [
    "[df_aux.query('Ano == \"{}\"'.format(ano)).to_csv(\"base_gerada/{}.csv\".format(ano),index=False)  for ano in lista_anos ]"
   ]
  },
  {
   "cell_type": "markdown",
   "id": "2ecef15b-6079-429c-8633-027728b62b41",
   "metadata": {
    "papermill": {
     "duration": null,
     "end_time": null,
     "exception": null,
     "start_time": null,
     "status": "pending"
    },
    "tags": []
   },
   "source": [
    "\n",
    "### Particionamento de dados tratados com as regras descritas em DATA QUALITY\n",
    "- Particionar em arquivos PARQUET por estado (state)\n",
    "- Particionar em arquivos CSV por ano/mes/dia de nascimento (birthDate)"
   ]
  },
  {
   "cell_type": "code",
   "execution_count": null,
   "id": "d43caec2-683a-4207-9f33-e3fd735026ba",
   "metadata": {
    "execution": {
     "iopub.execute_input": "2021-12-11T20:06:03.129149Z",
     "iopub.status.busy": "2021-12-11T20:06:03.124139Z",
     "iopub.status.idle": "2021-12-11T20:06:09.852245Z",
     "shell.execute_reply": "2021-12-11T20:06:09.852539Z"
    },
    "papermill": {
     "duration": null,
     "end_time": null,
     "exception": null,
     "start_time": null,
     "status": "pending"
    },
    "tags": []
   },
   "outputs": [],
   "source": [
    "!pip install fastparquet"
   ]
  },
  {
   "cell_type": "code",
   "execution_count": null,
   "id": "6d0f59aa-8966-4e2b-9f67-36ff17fd2652",
   "metadata": {
    "execution": {
     "iopub.execute_input": "2021-12-11T20:06:10.098892Z",
     "iopub.status.busy": "2021-12-11T20:06:10.098387Z",
     "iopub.status.idle": "2021-12-11T20:06:20.522605Z",
     "shell.execute_reply": "2021-12-11T20:06:20.522887Z"
    },
    "papermill": {
     "duration": null,
     "end_time": null,
     "exception": null,
     "start_time": null,
     "status": "pending"
    },
    "tags": []
   },
   "outputs": [],
   "source": [
    "df_aux.to_parquet('base_gerada/df.parquet.gzip',compression='gzip')"
   ]
  },
  {
   "cell_type": "code",
   "execution_count": null,
   "id": "16780007-b2f6-47c2-bb2c-e65817afe824",
   "metadata": {
    "papermill": {
     "duration": null,
     "end_time": null,
     "exception": null,
     "start_time": null,
     "status": "pending"
    },
    "tags": []
   },
   "outputs": [],
   "source": []
  },
  {
   "cell_type": "code",
   "execution_count": null,
   "id": "33c13891-bf5e-40be-a7d1-2b6df283f08c",
   "metadata": {
    "collapsed": true,
    "jupyter": {
     "outputs_hidden": true
    },
    "papermill": {
     "duration": null,
     "end_time": null,
     "exception": null,
     "start_time": null,
     "status": "pending"
    },
    "tags": []
   },
   "outputs": [],
   "source": [
    "del df\n",
    "del df_aux"
   ]
  },
  {
   "cell_type": "code",
   "execution_count": null,
   "id": "e0b32c89-af3b-4009-a4c7-aa1d29a13862",
   "metadata": {
    "papermill": {
     "duration": null,
     "end_time": null,
     "exception": null,
     "start_time": null,
     "status": "pending"
    },
    "tags": []
   },
   "outputs": [],
   "source": []
  },
  {
   "cell_type": "code",
   "execution_count": null,
   "id": "8ffbff5a-18d6-424f-8508-420b7bd478d0",
   "metadata": {
    "execution": {
     "iopub.execute_input": "2021-12-11T20:06:21.569849Z",
     "iopub.status.busy": "2021-12-11T20:06:21.569472Z",
     "iopub.status.idle": "2021-12-11T20:06:21.577503Z",
     "shell.execute_reply": "2021-12-11T20:06:21.577119Z"
    },
    "papermill": {
     "duration": null,
     "end_time": null,
     "exception": null,
     "start_time": null,
     "status": "pending"
    },
    "tags": []
   },
   "outputs": [],
   "source": [
    "console_log.info(\" FIM ETAPA 2 - NOTEBOOK  \")"
   ]
  },
  {
   "cell_type": "markdown",
   "id": "150732e4-8982-4c1b-9fd6-cb17166bf0b5",
   "metadata": {
    "papermill": {
     "duration": null,
     "end_time": null,
     "exception": null,
     "start_time": null,
     "status": "pending"
    },
    "tags": []
   },
   "source": [
    "\n",
    "### Agregação dos dados Essa resposta estara no (BI) Metabase\n",
    "- Quais são as 5 PF que mais gastaram (totalSpent)?\n",
    "- Qual é o valor de gasto médio por estado (state)?\n",
    "- Qual é o valor de gasto médio por jobArea?\n",
    "- Qual é a PF que gastou menos (totalSpent)?\n",
    "- Quantos nomes e documentos repetidos existem nesse dataset?\n",
    "- Quantas linhas existem nesse dataset?\n",
    "\n"
   ]
  },
  {
   "cell_type": "code",
   "execution_count": null,
   "id": "fafe096c-5383-433d-9582-244b9d6cf4e9",
   "metadata": {
    "papermill": {
     "duration": null,
     "end_time": null,
     "exception": null,
     "start_time": null,
     "status": "pending"
    },
    "tags": []
   },
   "outputs": [],
   "source": []
  },
  {
   "cell_type": "code",
   "execution_count": null,
   "id": "55a6413e-b092-4d9c-91a7-8137d3775666",
   "metadata": {
    "papermill": {
     "duration": null,
     "end_time": null,
     "exception": null,
     "start_time": null,
     "status": "pending"
    },
    "tags": []
   },
   "outputs": [],
   "source": []
  }
 ],
 "metadata": {
  "kernelspec": {
   "display_name": "Python 3 (ipykernel)",
   "language": "python",
   "name": "python3"
  },
  "language_info": {
   "codemirror_mode": {
    "name": "ipython",
    "version": 3
   },
   "file_extension": ".py",
   "mimetype": "text/x-python",
   "name": "python",
   "nbconvert_exporter": "python",
   "pygments_lexer": "ipython3",
   "version": "3.9.7"
  },
  "papermill": {
   "default_parameters": {},
   "duration": null,
   "end_time": null,
   "environment_variables": {},
   "exception": null,
   "input_path": "/home/jovyan/talent-data-analyst-lv4/Etapa 2/Etapa 2.ipynb",
   "output_path": "/home/jovyan/talent-data-analyst-lv4/Etapa 2/Etapa 2.ipynb",
   "parameters": {},
   "start_time": "2021-12-12T02:55:05.368596",
   "version": "2.3.3"
  }
 },
 "nbformat": 4,
 "nbformat_minor": 5
}