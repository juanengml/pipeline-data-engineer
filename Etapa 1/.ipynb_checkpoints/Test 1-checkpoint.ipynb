{
 "cells": [
  {
   "cell_type": "markdown",
   "id": "86d33f08-478d-4870-aa6b-2c5a5ecef3f1",
   "metadata": {
    "papermill": {
     "duration": 0.046381,
     "end_time": "2021-12-08T13:40:31.697885",
     "exception": false,
     "start_time": "2021-12-08T13:40:31.651504",
     "status": "completed"
    },
    "tags": []
   },
   "source": [
    "# TESTE PRÁTICO\n",
    "\n",
    "### Problema 1: Você está recebendo o arquivo 'dados_cadastrais_fake.csv' \n",
    "\n",
    "que contem dados cadastrais de clientes, mas para que análises ou relatórios sejam feitos é necessário limpar e normalizar os dados. Além disso, existe uma coluna com o número de cpf e outra com cnpj, você precisará padronizar deixando apenas dígitos em formato string (sem caracteres especiais), implementar uma forma de verificar se tais documentos são válidos sendo que a informação deve se adicionada ao dataframe em outras duas novas colunas.\n",
    "\n",
    "Após a normalização, gere reports que respondam as seguintes perguntas:\n",
    "\n",
    "- Quantos clientes temos nessa base?\n",
    "- Qual a média de idade dos clientes?\n",
    "- Quantos clientes nessa base pertencem a cada estado?\n",
    "- Quantos CPFs válidos e inválidos foram encontrados?\n",
    "- Quantos CNPJs válidos e inválidos foram encontrados?\n",
    "\n",
    "Ao final gere um arquivo no formato csv e um outro arquivo no formato parquet chamado (problema1_normalizado), eles serão destinados para pessoas distintas."
   ]
  },
  {
   "cell_type": "code",
   "execution_count": 1,
   "id": "272b4dd9-a233-4259-83be-0b39629f41b2",
   "metadata": {
    "execution": {
     "iopub.execute_input": "2021-12-08T13:40:31.800489Z",
     "iopub.status.busy": "2021-12-08T13:40:31.800139Z",
     "iopub.status.idle": "2021-12-08T13:40:33.696130Z",
     "shell.execute_reply": "2021-12-08T13:40:33.696462Z"
    },
    "papermill": {
     "duration": 1.951599,
     "end_time": "2021-12-08T13:40:33.696687",
     "exception": false,
     "start_time": "2021-12-08T13:40:31.745088",
     "status": "completed"
    },
    "tags": []
   },
   "outputs": [
    {
     "name": "stdout",
     "output_type": "stream",
     "text": [
      "\u001b[33mWARNING: The directory '/home/jovyan/.cache/pip' or its parent directory is not owned or is not writable by the current user. The cache has been disabled. Check the permissions and owner of that directory. If executing pip with sudo, you should use sudo's -H flag.\u001b[0m\n",
      "Requirement already satisfied: fuzzywuzzy in /opt/conda/lib/python3.9/site-packages (0.18.0)\n",
      "\u001b[33mWARNING: Running pip as the 'root' user can result in broken permissions and conflicting behaviour with the system package manager. It is recommended to use a virtual environment instead: https://pip.pypa.io/warnings/venv\u001b[0m\n"
     ]
    }
   ],
   "source": [
    "!pip install fuzzywuzzy"
   ]
  },
  {
   "cell_type": "code",
   "execution_count": 2,
   "id": "32929d72-2b37-4b43-8fc2-26ab83c4b954",
   "metadata": {
    "execution": {
     "iopub.execute_input": "2021-12-08T13:40:33.821453Z",
     "iopub.status.busy": "2021-12-08T13:40:33.821072Z",
     "iopub.status.idle": "2021-12-08T13:40:34.110650Z",
     "shell.execute_reply": "2021-12-08T13:40:34.110276Z"
    },
    "papermill": {
     "duration": 0.354157,
     "end_time": "2021-12-08T13:40:34.110754",
     "exception": false,
     "start_time": "2021-12-08T13:40:33.756597",
     "status": "completed"
    },
    "tags": []
   },
   "outputs": [
    {
     "name": "stderr",
     "output_type": "stream",
     "text": [
      "/opt/conda/lib/python3.9/site-packages/fuzzywuzzy/fuzz.py:11: UserWarning: Using slow pure-python SequenceMatcher. Install python-Levenshtein to remove this warning\n",
      "  warnings.warn('Using slow pure-python SequenceMatcher. Install python-Levenshtein to remove this warning')\n"
     ]
    }
   ],
   "source": [
    "import pandas as pd \n",
    "import numpy as np\n",
    "from fuzzywuzzy import fuzz"
   ]
  },
  {
   "cell_type": "code",
   "execution_count": 3,
   "id": "9f0b62cd-a802-484c-8fe5-4d331d412641",
   "metadata": {
    "execution": {
     "iopub.execute_input": "2021-12-08T13:40:34.222017Z",
     "iopub.status.busy": "2021-12-08T13:40:34.221555Z",
     "iopub.status.idle": "2021-12-08T13:40:34.238128Z",
     "shell.execute_reply": "2021-12-08T13:40:34.237732Z"
    },
    "papermill": {
     "duration": 0.076918,
     "end_time": "2021-12-08T13:40:34.238265",
     "exception": false,
     "start_time": "2021-12-08T13:40:34.161347",
     "status": "completed"
    },
    "tags": []
   },
   "outputs": [],
   "source": [
    "df = pd.read_csv(\"dados_cadastrais_fake.csv\",sep=';')"
   ]
  },
  {
   "cell_type": "code",
   "execution_count": 4,
   "id": "cf618489-9f72-4727-9842-d03af5921094",
   "metadata": {
    "execution": {
     "iopub.execute_input": "2021-12-08T13:40:34.345496Z",
     "iopub.status.busy": "2021-12-08T13:40:34.345080Z",
     "iopub.status.idle": "2021-12-08T13:40:34.347174Z",
     "shell.execute_reply": "2021-12-08T13:40:34.346771Z"
    },
    "papermill": {
     "duration": 0.059315,
     "end_time": "2021-12-08T13:40:34.347264",
     "exception": false,
     "start_time": "2021-12-08T13:40:34.287949",
     "status": "completed"
    },
    "tags": []
   },
   "outputs": [],
   "source": [
    "import string"
   ]
  },
  {
   "cell_type": "code",
   "execution_count": 5,
   "id": "a92fd3d7-29ec-4668-8498-7b24e19d2382",
   "metadata": {
    "execution": {
     "iopub.execute_input": "2021-12-08T13:40:34.466713Z",
     "iopub.status.busy": "2021-12-08T13:40:34.461572Z",
     "iopub.status.idle": "2021-12-08T13:40:34.475717Z",
     "shell.execute_reply": "2021-12-08T13:40:34.476178Z"
    },
    "papermill": {
     "duration": 0.077047,
     "end_time": "2021-12-08T13:40:34.476294",
     "exception": false,
     "start_time": "2021-12-08T13:40:34.399247",
     "status": "completed"
    },
    "tags": []
   },
   "outputs": [],
   "source": [
    "df['nomes'] = df['nomes'].apply (lambda var_nome: string.capwords(\" \".join([n.lower() for n in str (var_nome).split (\" \")])))"
   ]
  },
  {
   "cell_type": "code",
   "execution_count": 6,
   "id": "3f51c5bb-aa0c-451c-bacc-4e8f2b10a45f",
   "metadata": {
    "execution": {
     "iopub.execute_input": "2021-12-08T13:40:34.585831Z",
     "iopub.status.busy": "2021-12-08T13:40:34.585412Z",
     "iopub.status.idle": "2021-12-08T13:40:34.600001Z",
     "shell.execute_reply": "2021-12-08T13:40:34.600404Z"
    },
    "papermill": {
     "duration": 0.073496,
     "end_time": "2021-12-08T13:40:34.600526",
     "exception": false,
     "start_time": "2021-12-08T13:40:34.527030",
     "status": "completed"
    },
    "tags": []
   },
   "outputs": [
    {
     "data": {
      "text/html": [
       "<div>\n",
       "<style scoped>\n",
       "    .dataframe tbody tr th:only-of-type {\n",
       "        vertical-align: middle;\n",
       "    }\n",
       "\n",
       "    .dataframe tbody tr th {\n",
       "        vertical-align: top;\n",
       "    }\n",
       "\n",
       "    .dataframe thead th {\n",
       "        text-align: right;\n",
       "    }\n",
       "</style>\n",
       "<table border=\"1\" class=\"dataframe\">\n",
       "  <thead>\n",
       "    <tr style=\"text-align: right;\">\n",
       "      <th></th>\n",
       "      <th>nomes</th>\n",
       "      <th>idade</th>\n",
       "      <th>estado</th>\n",
       "      <th>cpf</th>\n",
       "      <th>cnpj</th>\n",
       "    </tr>\n",
       "    <tr>\n",
       "      <th>cidade</th>\n",
       "      <th></th>\n",
       "      <th></th>\n",
       "      <th></th>\n",
       "      <th></th>\n",
       "      <th></th>\n",
       "    </tr>\n",
       "  </thead>\n",
       "  <tbody>\n",
       "    <tr>\n",
       "      <th>ABADIA DE GOIÁS</th>\n",
       "      <td>371</td>\n",
       "      <td>371</td>\n",
       "      <td>371</td>\n",
       "      <td>371</td>\n",
       "      <td>371</td>\n",
       "    </tr>\n",
       "    <tr>\n",
       "      <th>ABADIA DOS DOURADOS</th>\n",
       "      <td>370</td>\n",
       "      <td>370</td>\n",
       "      <td>370</td>\n",
       "      <td>370</td>\n",
       "      <td>370</td>\n",
       "    </tr>\n",
       "    <tr>\n",
       "      <th>ABAETETUBA</th>\n",
       "      <td>370</td>\n",
       "      <td>370</td>\n",
       "      <td>370</td>\n",
       "      <td>370</td>\n",
       "      <td>370</td>\n",
       "    </tr>\n",
       "    <tr>\n",
       "      <th>ABAIARA</th>\n",
       "      <td>371</td>\n",
       "      <td>371</td>\n",
       "      <td>371</td>\n",
       "      <td>371</td>\n",
       "      <td>371</td>\n",
       "    </tr>\n",
       "    <tr>\n",
       "      <th>ABATIÁ</th>\n",
       "      <td>370</td>\n",
       "      <td>370</td>\n",
       "      <td>370</td>\n",
       "      <td>370</td>\n",
       "      <td>370</td>\n",
       "    </tr>\n",
       "    <tr>\n",
       "      <th>ABAÍRA</th>\n",
       "      <td>371</td>\n",
       "      <td>371</td>\n",
       "      <td>371</td>\n",
       "      <td>371</td>\n",
       "      <td>371</td>\n",
       "    </tr>\n",
       "    <tr>\n",
       "      <th>ABDON BATISTA</th>\n",
       "      <td>370</td>\n",
       "      <td>370</td>\n",
       "      <td>370</td>\n",
       "      <td>370</td>\n",
       "      <td>370</td>\n",
       "    </tr>\n",
       "    <tr>\n",
       "      <th>ABREU E LIMA</th>\n",
       "      <td>370</td>\n",
       "      <td>370</td>\n",
       "      <td>370</td>\n",
       "      <td>370</td>\n",
       "      <td>370</td>\n",
       "    </tr>\n",
       "    <tr>\n",
       "      <th>ABREULÂNDIA</th>\n",
       "      <td>370</td>\n",
       "      <td>370</td>\n",
       "      <td>370</td>\n",
       "      <td>370</td>\n",
       "      <td>370</td>\n",
       "    </tr>\n",
       "    <tr>\n",
       "      <th>ACARI</th>\n",
       "      <td>370</td>\n",
       "      <td>370</td>\n",
       "      <td>370</td>\n",
       "      <td>370</td>\n",
       "      <td>370</td>\n",
       "    </tr>\n",
       "    <tr>\n",
       "      <th>ACAUÃ</th>\n",
       "      <td>370</td>\n",
       "      <td>370</td>\n",
       "      <td>370</td>\n",
       "      <td>370</td>\n",
       "      <td>370</td>\n",
       "    </tr>\n",
       "    <tr>\n",
       "      <th>ACEGUÁ</th>\n",
       "      <td>370</td>\n",
       "      <td>370</td>\n",
       "      <td>370</td>\n",
       "      <td>370</td>\n",
       "      <td>370</td>\n",
       "    </tr>\n",
       "    <tr>\n",
       "      <th>ACORIZAL</th>\n",
       "      <td>370</td>\n",
       "      <td>370</td>\n",
       "      <td>370</td>\n",
       "      <td>370</td>\n",
       "      <td>370</td>\n",
       "    </tr>\n",
       "    <tr>\n",
       "      <th>ACRELÂNDIA</th>\n",
       "      <td>371</td>\n",
       "      <td>371</td>\n",
       "      <td>371</td>\n",
       "      <td>371</td>\n",
       "      <td>371</td>\n",
       "    </tr>\n",
       "    <tr>\n",
       "      <th>ADAMANTINA</th>\n",
       "      <td>370</td>\n",
       "      <td>370</td>\n",
       "      <td>370</td>\n",
       "      <td>370</td>\n",
       "      <td>370</td>\n",
       "    </tr>\n",
       "    <tr>\n",
       "      <th>AFONSO CLÁUDIO</th>\n",
       "      <td>371</td>\n",
       "      <td>371</td>\n",
       "      <td>371</td>\n",
       "      <td>371</td>\n",
       "      <td>371</td>\n",
       "    </tr>\n",
       "    <tr>\n",
       "      <th>ALTA FLORESTA D'OESTE</th>\n",
       "      <td>370</td>\n",
       "      <td>370</td>\n",
       "      <td>370</td>\n",
       "      <td>370</td>\n",
       "      <td>370</td>\n",
       "    </tr>\n",
       "    <tr>\n",
       "      <th>ALVARÃES</th>\n",
       "      <td>371</td>\n",
       "      <td>371</td>\n",
       "      <td>371</td>\n",
       "      <td>371</td>\n",
       "      <td>371</td>\n",
       "    </tr>\n",
       "    <tr>\n",
       "      <th>AMAJARI</th>\n",
       "      <td>370</td>\n",
       "      <td>370</td>\n",
       "      <td>370</td>\n",
       "      <td>370</td>\n",
       "      <td>370</td>\n",
       "    </tr>\n",
       "    <tr>\n",
       "      <th>AMPARO DE SÃO FRANCISCO</th>\n",
       "      <td>370</td>\n",
       "      <td>370</td>\n",
       "      <td>370</td>\n",
       "      <td>370</td>\n",
       "      <td>370</td>\n",
       "    </tr>\n",
       "    <tr>\n",
       "      <th>ANGRA DOS REIS</th>\n",
       "      <td>370</td>\n",
       "      <td>370</td>\n",
       "      <td>370</td>\n",
       "      <td>370</td>\n",
       "      <td>370</td>\n",
       "    </tr>\n",
       "    <tr>\n",
       "      <th>AÇAILÂNDIA</th>\n",
       "      <td>371</td>\n",
       "      <td>371</td>\n",
       "      <td>371</td>\n",
       "      <td>371</td>\n",
       "      <td>371</td>\n",
       "    </tr>\n",
       "    <tr>\n",
       "      <th>Brasília</th>\n",
       "      <td>371</td>\n",
       "      <td>371</td>\n",
       "      <td>371</td>\n",
       "      <td>371</td>\n",
       "      <td>371</td>\n",
       "    </tr>\n",
       "    <tr>\n",
       "      <th>SERRA DO NAVIO</th>\n",
       "      <td>371</td>\n",
       "      <td>371</td>\n",
       "      <td>371</td>\n",
       "      <td>371</td>\n",
       "      <td>371</td>\n",
       "    </tr>\n",
       "    <tr>\n",
       "      <th>ÁGUA BRANCA</th>\n",
       "      <td>741</td>\n",
       "      <td>741</td>\n",
       "      <td>741</td>\n",
       "      <td>741</td>\n",
       "      <td>741</td>\n",
       "    </tr>\n",
       "    <tr>\n",
       "      <th>ÁGUA CLARA</th>\n",
       "      <td>370</td>\n",
       "      <td>370</td>\n",
       "      <td>370</td>\n",
       "      <td>370</td>\n",
       "      <td>370</td>\n",
       "    </tr>\n",
       "  </tbody>\n",
       "</table>\n",
       "</div>"
      ],
      "text/plain": [
       "                         nomes  idade  estado  cpf  cnpj\n",
       "cidade                                                  \n",
       "ABADIA DE GOIÁS            371    371     371  371   371\n",
       "ABADIA DOS DOURADOS        370    370     370  370   370\n",
       "ABAETETUBA                 370    370     370  370   370\n",
       "ABAIARA                    371    371     371  371   371\n",
       "ABATIÁ                     370    370     370  370   370\n",
       "ABAÍRA                     371    371     371  371   371\n",
       "ABDON BATISTA              370    370     370  370   370\n",
       "ABREU E LIMA               370    370     370  370   370\n",
       "ABREULÂNDIA                370    370     370  370   370\n",
       "ACARI                      370    370     370  370   370\n",
       "ACAUÃ                      370    370     370  370   370\n",
       "ACEGUÁ                     370    370     370  370   370\n",
       "ACORIZAL                   370    370     370  370   370\n",
       "ACRELÂNDIA                 371    371     371  371   371\n",
       "ADAMANTINA                 370    370     370  370   370\n",
       "AFONSO CLÁUDIO             371    371     371  371   371\n",
       "ALTA FLORESTA D'OESTE      370    370     370  370   370\n",
       "ALVARÃES                   371    371     371  371   371\n",
       "AMAJARI                    370    370     370  370   370\n",
       "AMPARO DE SÃO FRANCISCO    370    370     370  370   370\n",
       "ANGRA DOS REIS             370    370     370  370   370\n",
       "AÇAILÂNDIA                 371    371     371  371   371\n",
       "Brasília                   371    371     371  371   371\n",
       "SERRA DO NAVIO             371    371     371  371   371\n",
       "ÁGUA BRANCA                741    741     741  741   741\n",
       "ÁGUA CLARA                 370    370     370  370   370"
      ]
     },
     "execution_count": 6,
     "metadata": {},
     "output_type": "execute_result"
    }
   ],
   "source": [
    "df.groupby (['cidade']).count()"
   ]
  },
  {
   "cell_type": "code",
   "execution_count": 7,
   "id": "fda326e1-3a17-4fc6-ac82-d5940c9a6655",
   "metadata": {
    "execution": {
     "iopub.execute_input": "2021-12-08T13:40:34.713863Z",
     "iopub.status.busy": "2021-12-08T13:40:34.713336Z",
     "iopub.status.idle": "2021-12-08T13:40:34.715597Z",
     "shell.execute_reply": "2021-12-08T13:40:34.715980Z"
    },
    "papermill": {
     "duration": 0.062931,
     "end_time": "2021-12-08T13:40:34.716112",
     "exception": false,
     "start_time": "2021-12-08T13:40:34.653181",
     "status": "completed"
    },
    "tags": []
   },
   "outputs": [],
   "source": [
    "df.loc[df.query(\"cidade=='Brasília'\").index.to_list (),'cidade'] = 'BRASÍLIA'"
   ]
  },
  {
   "cell_type": "code",
   "execution_count": 8,
   "id": "7a0a85c3-2f09-4636-88b2-242f59f581c5",
   "metadata": {
    "execution": {
     "iopub.execute_input": "2021-12-08T13:40:34.830456Z",
     "iopub.status.busy": "2021-12-08T13:40:34.830024Z",
     "iopub.status.idle": "2021-12-08T13:40:34.833026Z",
     "shell.execute_reply": "2021-12-08T13:40:34.832626Z"
    },
    "papermill": {
     "duration": 0.063387,
     "end_time": "2021-12-08T13:40:34.833113",
     "exception": false,
     "start_time": "2021-12-08T13:40:34.769726",
     "status": "completed"
    },
    "tags": []
   },
   "outputs": [],
   "source": [
    "uf_fail = [uf for uf in list (df['estado'].drop_duplicates()) if len(uf) > 2 ]"
   ]
  },
  {
   "cell_type": "code",
   "execution_count": 9,
   "id": "ff384f7d-185d-42e7-86e9-a45bc9d9adaa",
   "metadata": {
    "execution": {
     "iopub.execute_input": "2021-12-08T13:40:34.943051Z",
     "iopub.status.busy": "2021-12-08T13:40:34.942597Z",
     "iopub.status.idle": "2021-12-08T13:40:34.945663Z",
     "shell.execute_reply": "2021-12-08T13:40:34.945245Z"
    },
    "papermill": {
     "duration": 0.064147,
     "end_time": "2021-12-08T13:40:34.945760",
     "exception": false,
     "start_time": "2021-12-08T13:40:34.881613",
     "status": "completed"
    },
    "tags": []
   },
   "outputs": [
    {
     "data": {
      "text/plain": [
       "['distrito federal',\n",
       " 'sao  paulo',\n",
       " 'são  paulo',\n",
       " 'rio de  janeiro ',\n",
       " 'MINAS GERAI',\n",
       " 'MINAS GERAIs']"
      ]
     },
     "execution_count": 9,
     "metadata": {},
     "output_type": "execute_result"
    }
   ],
   "source": [
    "uf_fail"
   ]
  },
  {
   "cell_type": "code",
   "execution_count": 10,
   "id": "ccd048f8-85ea-4596-99e7-39449378d5c4",
   "metadata": {
    "execution": {
     "iopub.execute_input": "2021-12-08T13:40:35.056573Z",
     "iopub.status.busy": "2021-12-08T13:40:35.056171Z",
     "iopub.status.idle": "2021-12-08T13:40:35.194159Z",
     "shell.execute_reply": "2021-12-08T13:40:35.193694Z"
    },
    "papermill": {
     "duration": 0.195438,
     "end_time": "2021-12-08T13:40:35.194258",
     "exception": false,
     "start_time": "2021-12-08T13:40:34.998820",
     "status": "completed"
    },
    "tags": []
   },
   "outputs": [],
   "source": [
    "ufs = pd.read_csv(\"https://raw.githubusercontent.com/mapaslivres/municipios-br/main/tabelas/ufs.csv\")"
   ]
  },
  {
   "cell_type": "code",
   "execution_count": 11,
   "id": "128f9642-c40f-46f6-9b51-b218e3f9f6f5",
   "metadata": {
    "execution": {
     "iopub.execute_input": "2021-12-08T13:40:35.316198Z",
     "iopub.status.busy": "2021-12-08T13:40:35.315787Z",
     "iopub.status.idle": "2021-12-08T13:40:35.318927Z",
     "shell.execute_reply": "2021-12-08T13:40:35.318565Z"
    },
    "papermill": {
     "duration": 0.067746,
     "end_time": "2021-12-08T13:40:35.319024",
     "exception": false,
     "start_time": "2021-12-08T13:40:35.251278",
     "status": "completed"
    },
    "tags": []
   },
   "outputs": [
    {
     "data": {
      "text/html": [
       "<div>\n",
       "<style scoped>\n",
       "    .dataframe tbody tr th:only-of-type {\n",
       "        vertical-align: middle;\n",
       "    }\n",
       "\n",
       "    .dataframe tbody tr th {\n",
       "        vertical-align: top;\n",
       "    }\n",
       "\n",
       "    .dataframe thead th {\n",
       "        text-align: right;\n",
       "    }\n",
       "</style>\n",
       "<table border=\"1\" class=\"dataframe\">\n",
       "  <thead>\n",
       "    <tr style=\"text-align: right;\">\n",
       "      <th></th>\n",
       "      <th>uf</th>\n",
       "      <th>uf_code</th>\n",
       "      <th>iso3166-2</th>\n",
       "      <th>osm_relation_id</th>\n",
       "      <th>wikidata_id</th>\n",
       "      <th>name</th>\n",
       "      <th>no_accents</th>\n",
       "      <th>gentilic</th>\n",
       "      <th>gentilic_alternative</th>\n",
       "      <th>macroregion</th>\n",
       "      <th>wikipedia_pt</th>\n",
       "      <th>website</th>\n",
       "      <th>timezone</th>\n",
       "      <th>flag_image</th>\n",
       "    </tr>\n",
       "  </thead>\n",
       "  <tbody>\n",
       "    <tr>\n",
       "      <th>0</th>\n",
       "      <td>12</td>\n",
       "      <td>AC</td>\n",
       "      <td>BR-AC</td>\n",
       "      <td>326266</td>\n",
       "      <td>Q40780</td>\n",
       "      <td>Acre</td>\n",
       "      <td>Acre</td>\n",
       "      <td>acriano</td>\n",
       "      <td>acreano</td>\n",
       "      <td>Norte</td>\n",
       "      <td>pt:Acre</td>\n",
       "      <td>http://www.ac.gov.br</td>\n",
       "      <td>America/Rio_Branco</td>\n",
       "      <td>https://upload.wikimedia.org/wikipedia/commons...</td>\n",
       "    </tr>\n",
       "    <tr>\n",
       "      <th>1</th>\n",
       "      <td>27</td>\n",
       "      <td>AL</td>\n",
       "      <td>BR-AL</td>\n",
       "      <td>303781</td>\n",
       "      <td>Q40885</td>\n",
       "      <td>Alagoas</td>\n",
       "      <td>Alagoas</td>\n",
       "      <td>alagoano</td>\n",
       "      <td>NaN</td>\n",
       "      <td>Nordeste</td>\n",
       "      <td>pt:Alagoas</td>\n",
       "      <td>http://www.agenciaalagoas.al.gov.br</td>\n",
       "      <td>America/Maceio</td>\n",
       "      <td>https://upload.wikimedia.org/wikipedia/commons...</td>\n",
       "    </tr>\n",
       "    <tr>\n",
       "      <th>2</th>\n",
       "      <td>13</td>\n",
       "      <td>AM</td>\n",
       "      <td>BR-AM</td>\n",
       "      <td>332476</td>\n",
       "      <td>Q40040</td>\n",
       "      <td>Amazonas</td>\n",
       "      <td>Amazonas</td>\n",
       "      <td>amazonense</td>\n",
       "      <td>NaN</td>\n",
       "      <td>Norte</td>\n",
       "      <td>pt:Amazonas</td>\n",
       "      <td>http://www.amazonas.am.gov.br</td>\n",
       "      <td>(Leste) America/Manaus, (Oeste) America/Eirunepe</td>\n",
       "      <td>https://upload.wikimedia.org/wikipedia/commons...</td>\n",
       "    </tr>\n",
       "    <tr>\n",
       "      <th>3</th>\n",
       "      <td>16</td>\n",
       "      <td>AP</td>\n",
       "      <td>BR-AP</td>\n",
       "      <td>331463</td>\n",
       "      <td>Q40130</td>\n",
       "      <td>Amapá</td>\n",
       "      <td>Amapa</td>\n",
       "      <td>amapaense</td>\n",
       "      <td>NaN</td>\n",
       "      <td>Norte</td>\n",
       "      <td>pt:Amapá</td>\n",
       "      <td>http://www.ap.gov.br</td>\n",
       "      <td>America/Belem</td>\n",
       "      <td>https://upload.wikimedia.org/wikipedia/commons...</td>\n",
       "    </tr>\n",
       "    <tr>\n",
       "      <th>4</th>\n",
       "      <td>29</td>\n",
       "      <td>BA</td>\n",
       "      <td>BR-BA</td>\n",
       "      <td>362413</td>\n",
       "      <td>Q40430</td>\n",
       "      <td>Bahia</td>\n",
       "      <td>Bahia</td>\n",
       "      <td>baiano</td>\n",
       "      <td>NaN</td>\n",
       "      <td>Nordeste</td>\n",
       "      <td>pt:Bahia</td>\n",
       "      <td>http://www.ba.gov.br</td>\n",
       "      <td>America/Bahia</td>\n",
       "      <td>https://upload.wikimedia.org/wikipedia/commons...</td>\n",
       "    </tr>\n",
       "  </tbody>\n",
       "</table>\n",
       "</div>"
      ],
      "text/plain": [
       "   uf uf_code iso3166-2  osm_relation_id wikidata_id      name no_accents  \\\n",
       "0  12      AC     BR-AC           326266      Q40780      Acre       Acre   \n",
       "1  27      AL     BR-AL           303781      Q40885   Alagoas    Alagoas   \n",
       "2  13      AM     BR-AM           332476      Q40040  Amazonas   Amazonas   \n",
       "3  16      AP     BR-AP           331463      Q40130     Amapá      Amapa   \n",
       "4  29      BA     BR-BA           362413      Q40430     Bahia      Bahia   \n",
       "\n",
       "     gentilic gentilic_alternative macroregion wikipedia_pt  \\\n",
       "0     acriano              acreano       Norte      pt:Acre   \n",
       "1    alagoano                  NaN    Nordeste   pt:Alagoas   \n",
       "2  amazonense                  NaN       Norte  pt:Amazonas   \n",
       "3   amapaense                  NaN       Norte     pt:Amapá   \n",
       "4      baiano                  NaN    Nordeste     pt:Bahia   \n",
       "\n",
       "                               website  \\\n",
       "0                 http://www.ac.gov.br   \n",
       "1  http://www.agenciaalagoas.al.gov.br   \n",
       "2        http://www.amazonas.am.gov.br   \n",
       "3                 http://www.ap.gov.br   \n",
       "4                 http://www.ba.gov.br   \n",
       "\n",
       "                                           timezone  \\\n",
       "0                                America/Rio_Branco   \n",
       "1                                    America/Maceio   \n",
       "2  (Leste) America/Manaus, (Oeste) America/Eirunepe   \n",
       "3                                     America/Belem   \n",
       "4                                     America/Bahia   \n",
       "\n",
       "                                          flag_image  \n",
       "0  https://upload.wikimedia.org/wikipedia/commons...  \n",
       "1  https://upload.wikimedia.org/wikipedia/commons...  \n",
       "2  https://upload.wikimedia.org/wikipedia/commons...  \n",
       "3  https://upload.wikimedia.org/wikipedia/commons...  \n",
       "4  https://upload.wikimedia.org/wikipedia/commons...  "
      ]
     },
     "execution_count": 11,
     "metadata": {},
     "output_type": "execute_result"
    }
   ],
   "source": [
    "ufs.head()"
   ]
  },
  {
   "cell_type": "code",
   "execution_count": 12,
   "id": "2e01a491-bca2-419e-b7b2-f8c4928ca5aa",
   "metadata": {
    "execution": {
     "iopub.execute_input": "2021-12-08T13:40:35.434768Z",
     "iopub.status.busy": "2021-12-08T13:40:35.434364Z",
     "iopub.status.idle": "2021-12-08T13:40:35.437293Z",
     "shell.execute_reply": "2021-12-08T13:40:35.437616Z"
    },
    "papermill": {
     "duration": 0.063348,
     "end_time": "2021-12-08T13:40:35.437739",
     "exception": false,
     "start_time": "2021-12-08T13:40:35.374391",
     "status": "completed"
    },
    "tags": []
   },
   "outputs": [
    {
     "data": {
      "text/plain": [
       "['distrito federal',\n",
       " 'sao  paulo',\n",
       " 'são  paulo',\n",
       " 'rio de  janeiro ',\n",
       " 'MINAS GERAI',\n",
       " 'MINAS GERAIs']"
      ]
     },
     "execution_count": 12,
     "metadata": {},
     "output_type": "execute_result"
    }
   ],
   "source": [
    "uf_fail"
   ]
  },
  {
   "cell_type": "code",
   "execution_count": 13,
   "id": "6f36f8c7-bc7c-4905-9f85-15daede7199e",
   "metadata": {
    "execution": {
     "iopub.execute_input": "2021-12-08T13:40:35.567314Z",
     "iopub.status.busy": "2021-12-08T13:40:35.565751Z",
     "iopub.status.idle": "2021-12-08T13:40:35.586529Z",
     "shell.execute_reply": "2021-12-08T13:40:35.586124Z"
    },
    "papermill": {
     "duration": 0.089824,
     "end_time": "2021-12-08T13:40:35.586636",
     "exception": false,
     "start_time": "2021-12-08T13:40:35.496812",
     "status": "completed"
    },
    "tags": []
   },
   "outputs": [
    {
     "name": "stdout",
     "output_type": "stream",
     "text": [
      "estado == 'distrito federal' DF\n",
      "estado == 'MINAS GERAI' MG\n",
      "estado == 'MINAS GERAIs' MG\n",
      "estado == 'rio de  janeiro ' RJ\n",
      "estado == 'sao  paulo' SP\n",
      "estado == 'são  paulo' SP\n"
     ]
    }
   ],
   "source": [
    "for uf in ufs[['uf_code','name']].values.tolist():\n",
    "    for fail in uf_fail:\n",
    "      distance = fuzz.ratio(uf[1], string.capwords(fail))  \n",
    "      #print(distance, fail, uf)\n",
    "      if distance > 80:\n",
    "        query = \"estado == '{}'\".format(fail)\n",
    "        print(query,uf[0])\n",
    "        lista_index_estados = df.query(query).index.to_list()\n",
    "        df.loc[lista_index_estados,'estado'] = uf[0]\n",
    "        "
   ]
  },
  {
   "cell_type": "code",
   "execution_count": 14,
   "id": "79c1fbc2-58aa-4749-952d-abb6502ddf05",
   "metadata": {
    "execution": {
     "iopub.execute_input": "2021-12-08T13:40:35.707201Z",
     "iopub.status.busy": "2021-12-08T13:40:35.706795Z",
     "iopub.status.idle": "2021-12-08T13:40:35.710246Z",
     "shell.execute_reply": "2021-12-08T13:40:35.709918Z"
    },
    "papermill": {
     "duration": 0.068441,
     "end_time": "2021-12-08T13:40:35.710328",
     "exception": false,
     "start_time": "2021-12-08T13:40:35.641887",
     "status": "completed"
    },
    "tags": []
   },
   "outputs": [
    {
     "data": {
      "text/html": [
       "<div>\n",
       "<style scoped>\n",
       "    .dataframe tbody tr th:only-of-type {\n",
       "        vertical-align: middle;\n",
       "    }\n",
       "\n",
       "    .dataframe tbody tr th {\n",
       "        vertical-align: top;\n",
       "    }\n",
       "\n",
       "    .dataframe thead th {\n",
       "        text-align: right;\n",
       "    }\n",
       "</style>\n",
       "<table border=\"1\" class=\"dataframe\">\n",
       "  <thead>\n",
       "    <tr style=\"text-align: right;\">\n",
       "      <th></th>\n",
       "      <th>nomes</th>\n",
       "      <th>idade</th>\n",
       "      <th>cidade</th>\n",
       "      <th>estado</th>\n",
       "      <th>cpf</th>\n",
       "      <th>cnpj</th>\n",
       "    </tr>\n",
       "  </thead>\n",
       "  <tbody>\n",
       "    <tr>\n",
       "      <th>9090</th>\n",
       "      <td>Eric Smith Md</td>\n",
       "      <td>37</td>\n",
       "      <td>ANGRA DOS REIS</td>\n",
       "      <td>RJ</td>\n",
       "      <td>31056372303</td>\n",
       "      <td>88858009394020</td>\n",
       "    </tr>\n",
       "    <tr>\n",
       "      <th>9091</th>\n",
       "      <td>Kenneth Medina Md</td>\n",
       "      <td>34</td>\n",
       "      <td>ACARI</td>\n",
       "      <td>RN</td>\n",
       "      <td>741.588.764-60</td>\n",
       "      <td>82.374.015/2586-02</td>\n",
       "    </tr>\n",
       "    <tr>\n",
       "      <th>9092</th>\n",
       "      <td>Patricia Reilly Md</td>\n",
       "      <td>55</td>\n",
       "      <td>ALTA FLORESTA D'OESTE</td>\n",
       "      <td>RO</td>\n",
       "      <td>74616472459</td>\n",
       "      <td>38260505531953</td>\n",
       "    </tr>\n",
       "    <tr>\n",
       "      <th>9093</th>\n",
       "      <td>Joel Davis Jr.</td>\n",
       "      <td>84</td>\n",
       "      <td>AMAJARI</td>\n",
       "      <td>RR</td>\n",
       "      <td>926.232.172-46</td>\n",
       "      <td>96.699.737/9278-10</td>\n",
       "    </tr>\n",
       "    <tr>\n",
       "      <th>9094</th>\n",
       "      <td>Jeanette Zhang Jr.</td>\n",
       "      <td>62</td>\n",
       "      <td>ACEGUÁ</td>\n",
       "      <td>RS</td>\n",
       "      <td>71854380710</td>\n",
       "      <td>53457966936300</td>\n",
       "    </tr>\n",
       "    <tr>\n",
       "      <th>9095</th>\n",
       "      <td>Gregory Acosta Md</td>\n",
       "      <td>42</td>\n",
       "      <td>ABDON BATISTA</td>\n",
       "      <td>SC</td>\n",
       "      <td>518.441.952-79</td>\n",
       "      <td>56.811.634/2022-10</td>\n",
       "    </tr>\n",
       "  </tbody>\n",
       "</table>\n",
       "</div>"
      ],
      "text/plain": [
       "                   nomes  idade                 cidade estado             cpf  \\\n",
       "9090       Eric Smith Md     37         ANGRA DOS REIS     RJ     31056372303   \n",
       "9091   Kenneth Medina Md     34                  ACARI     RN  741.588.764-60   \n",
       "9092  Patricia Reilly Md     55  ALTA FLORESTA D'OESTE     RO     74616472459   \n",
       "9093      Joel Davis Jr.     84                AMAJARI     RR  926.232.172-46   \n",
       "9094  Jeanette Zhang Jr.     62                 ACEGUÁ     RS     71854380710   \n",
       "9095   Gregory Acosta Md     42          ABDON BATISTA     SC  518.441.952-79   \n",
       "\n",
       "                    cnpj  \n",
       "9090      88858009394020  \n",
       "9091  82.374.015/2586-02  \n",
       "9092      38260505531953  \n",
       "9093  96.699.737/9278-10  \n",
       "9094      53457966936300  \n",
       "9095  56.811.634/2022-10  "
      ]
     },
     "execution_count": 14,
     "metadata": {},
     "output_type": "execute_result"
    }
   ],
   "source": [
    "df.iloc[9090:9096]"
   ]
  },
  {
   "cell_type": "code",
   "execution_count": 15,
   "id": "9ae9c2cf-4628-4ea7-b320-ae4a9fb0b8f9",
   "metadata": {
    "execution": {
     "iopub.execute_input": "2021-12-08T13:40:35.836387Z",
     "iopub.status.busy": "2021-12-08T13:40:35.835748Z",
     "iopub.status.idle": "2021-12-08T13:40:35.838012Z",
     "shell.execute_reply": "2021-12-08T13:40:35.838410Z"
    },
    "papermill": {
     "duration": 0.070971,
     "end_time": "2021-12-08T13:40:35.838542",
     "exception": false,
     "start_time": "2021-12-08T13:40:35.767571",
     "status": "completed"
    },
    "tags": []
   },
   "outputs": [],
   "source": [
    "df['cpf'] = df['cpf'].apply(lambda cpf: cpf.replace(\".\",\"\").replace(\"-\",\"\").replace(\"/\",\"\"))"
   ]
  },
  {
   "cell_type": "code",
   "execution_count": 16,
   "id": "e0a95234-1de5-470c-a547-21c68155eb74",
   "metadata": {
    "execution": {
     "iopub.execute_input": "2021-12-08T13:40:35.980359Z",
     "iopub.status.busy": "2021-12-08T13:40:35.974394Z",
     "iopub.status.idle": "2021-12-08T13:40:35.982581Z",
     "shell.execute_reply": "2021-12-08T13:40:35.982915Z"
    },
    "papermill": {
     "duration": 0.077587,
     "end_time": "2021-12-08T13:40:35.983051",
     "exception": false,
     "start_time": "2021-12-08T13:40:35.905464",
     "status": "completed"
    },
    "tags": []
   },
   "outputs": [],
   "source": [
    "df['cnpj'] = df['cnpj'].apply(lambda cnpj: cnpj.replace(\".\",\"\").replace(\"-\",\"\").replace(\"/\",\"\").replace(\",\",\"\"))"
   ]
  },
  {
   "cell_type": "code",
   "execution_count": 17,
   "id": "190656af-4ca1-42de-9be6-aa39b8974b63",
   "metadata": {
    "execution": {
     "iopub.execute_input": "2021-12-08T13:40:36.103044Z",
     "iopub.status.busy": "2021-12-08T13:40:36.102659Z",
     "iopub.status.idle": "2021-12-08T13:40:36.111060Z",
     "shell.execute_reply": "2021-12-08T13:40:36.110697Z"
    },
    "papermill": {
     "duration": 0.072119,
     "end_time": "2021-12-08T13:40:36.111143",
     "exception": false,
     "start_time": "2021-12-08T13:40:36.039024",
     "status": "completed"
    },
    "tags": []
   },
   "outputs": [
    {
     "data": {
      "text/html": [
       "<div>\n",
       "<style scoped>\n",
       "    .dataframe tbody tr th:only-of-type {\n",
       "        vertical-align: middle;\n",
       "    }\n",
       "\n",
       "    .dataframe tbody tr th {\n",
       "        vertical-align: top;\n",
       "    }\n",
       "\n",
       "    .dataframe thead th {\n",
       "        text-align: right;\n",
       "    }\n",
       "</style>\n",
       "<table border=\"1\" class=\"dataframe\">\n",
       "  <thead>\n",
       "    <tr style=\"text-align: right;\">\n",
       "      <th></th>\n",
       "      <th>nomes</th>\n",
       "      <th>idade</th>\n",
       "      <th>cidade</th>\n",
       "      <th>estado</th>\n",
       "      <th>cpf</th>\n",
       "      <th>cnpj</th>\n",
       "    </tr>\n",
       "  </thead>\n",
       "  <tbody>\n",
       "    <tr>\n",
       "      <th>0</th>\n",
       "      <td>Dennis Daniels</td>\n",
       "      <td>31</td>\n",
       "      <td>ACRELÂNDIA</td>\n",
       "      <td>AC</td>\n",
       "      <td>97566536800</td>\n",
       "      <td>06589184909526</td>\n",
       "    </tr>\n",
       "    <tr>\n",
       "      <th>1</th>\n",
       "      <td>Leah Becker</td>\n",
       "      <td>42</td>\n",
       "      <td>ÁGUA BRANCA</td>\n",
       "      <td>AL</td>\n",
       "      <td>42526380707</td>\n",
       "      <td>25673336235020</td>\n",
       "    </tr>\n",
       "    <tr>\n",
       "      <th>2</th>\n",
       "      <td>Sally Ford</td>\n",
       "      <td>18</td>\n",
       "      <td>ALVARÃES</td>\n",
       "      <td>AM</td>\n",
       "      <td>34647754103</td>\n",
       "      <td>26543101702989</td>\n",
       "    </tr>\n",
       "    <tr>\n",
       "      <th>3</th>\n",
       "      <td>Colleen Duncan</td>\n",
       "      <td>21</td>\n",
       "      <td>SERRA DO NAVIO</td>\n",
       "      <td>AP</td>\n",
       "      <td>25253156003</td>\n",
       "      <td>19062080510098</td>\n",
       "    </tr>\n",
       "    <tr>\n",
       "      <th>4</th>\n",
       "      <td>Jeff Stephenson</td>\n",
       "      <td>73</td>\n",
       "      <td>ABAÍRA</td>\n",
       "      <td>BA</td>\n",
       "      <td>49668886542</td>\n",
       "      <td>97794530015384</td>\n",
       "    </tr>\n",
       "    <tr>\n",
       "      <th>...</th>\n",
       "      <td>...</td>\n",
       "      <td>...</td>\n",
       "      <td>...</td>\n",
       "      <td>...</td>\n",
       "      <td>...</td>\n",
       "      <td>...</td>\n",
       "    </tr>\n",
       "    <tr>\n",
       "      <th>9995</th>\n",
       "      <td>Rebekah Mitchell Phd</td>\n",
       "      <td>55</td>\n",
       "      <td>ABAIARA</td>\n",
       "      <td>CE</td>\n",
       "      <td>74482262234</td>\n",
       "      <td>16740076932975</td>\n",
       "    </tr>\n",
       "    <tr>\n",
       "      <th>9996</th>\n",
       "      <td>Lisa Parrish Jr.</td>\n",
       "      <td>73</td>\n",
       "      <td>BRASÍLIA</td>\n",
       "      <td>DF</td>\n",
       "      <td>10683395190</td>\n",
       "      <td>32246978843482</td>\n",
       "    </tr>\n",
       "    <tr>\n",
       "      <th>9997</th>\n",
       "      <td>Michael Young Md</td>\n",
       "      <td>87</td>\n",
       "      <td>AFONSO CLÁUDIO</td>\n",
       "      <td>ES</td>\n",
       "      <td>53822363804</td>\n",
       "      <td>86601303758088</td>\n",
       "    </tr>\n",
       "    <tr>\n",
       "      <th>9998</th>\n",
       "      <td>Kevin Watson Dds</td>\n",
       "      <td>82</td>\n",
       "      <td>ABADIA DE GOIÁS</td>\n",
       "      <td>GO</td>\n",
       "      <td>11632512408</td>\n",
       "      <td>08651414023648</td>\n",
       "    </tr>\n",
       "    <tr>\n",
       "      <th>9999</th>\n",
       "      <td>Mr. Joseph Wilson Md</td>\n",
       "      <td>50</td>\n",
       "      <td>AÇAILÂNDIA</td>\n",
       "      <td>MA</td>\n",
       "      <td>19213449208</td>\n",
       "      <td>08908871516191</td>\n",
       "    </tr>\n",
       "  </tbody>\n",
       "</table>\n",
       "<p>10000 rows × 6 columns</p>\n",
       "</div>"
      ],
      "text/plain": [
       "                     nomes  idade           cidade estado          cpf  \\\n",
       "0           Dennis Daniels     31       ACRELÂNDIA     AC  97566536800   \n",
       "1              Leah Becker     42      ÁGUA BRANCA     AL  42526380707   \n",
       "2               Sally Ford     18         ALVARÃES     AM  34647754103   \n",
       "3           Colleen Duncan     21   SERRA DO NAVIO     AP  25253156003   \n",
       "4          Jeff Stephenson     73           ABAÍRA     BA  49668886542   \n",
       "...                    ...    ...              ...    ...          ...   \n",
       "9995  Rebekah Mitchell Phd     55          ABAIARA     CE  74482262234   \n",
       "9996      Lisa Parrish Jr.     73         BRASÍLIA     DF  10683395190   \n",
       "9997      Michael Young Md     87   AFONSO CLÁUDIO     ES  53822363804   \n",
       "9998      Kevin Watson Dds     82  ABADIA DE GOIÁS     GO  11632512408   \n",
       "9999  Mr. Joseph Wilson Md     50       AÇAILÂNDIA     MA  19213449208   \n",
       "\n",
       "                cnpj  \n",
       "0     06589184909526  \n",
       "1     25673336235020  \n",
       "2     26543101702989  \n",
       "3     19062080510098  \n",
       "4     97794530015384  \n",
       "...              ...  \n",
       "9995  16740076932975  \n",
       "9996  32246978843482  \n",
       "9997  86601303758088  \n",
       "9998  08651414023648  \n",
       "9999  08908871516191  \n",
       "\n",
       "[10000 rows x 6 columns]"
      ]
     },
     "execution_count": 17,
     "metadata": {},
     "output_type": "execute_result"
    }
   ],
   "source": [
    "df"
   ]
  },
  {
   "cell_type": "code",
   "execution_count": 18,
   "id": "f7f7123b-20db-4e11-849d-69de856e2fb1",
   "metadata": {
    "execution": {
     "iopub.execute_input": "2021-12-08T13:40:36.230770Z",
     "iopub.status.busy": "2021-12-08T13:40:36.230319Z",
     "iopub.status.idle": "2021-12-08T13:40:38.053961Z",
     "shell.execute_reply": "2021-12-08T13:40:38.053537Z"
    },
    "papermill": {
     "duration": 1.885426,
     "end_time": "2021-12-08T13:40:38.054076",
     "exception": false,
     "start_time": "2021-12-08T13:40:36.168650",
     "status": "completed"
    },
    "tags": []
   },
   "outputs": [
    {
     "name": "stdout",
     "output_type": "stream",
     "text": [
      "\u001b[33mWARNING: The directory '/home/jovyan/.cache/pip' or its parent directory is not owned or is not writable by the current user. The cache has been disabled. Check the permissions and owner of that directory. If executing pip with sudo, you should use sudo's -H flag.\u001b[0m\n",
      "Requirement already satisfied: validate-docbr in /opt/conda/lib/python3.9/site-packages (1.10.0)\n",
      "\u001b[33mWARNING: Running pip as the 'root' user can result in broken permissions and conflicting behaviour with the system package manager. It is recommended to use a virtual environment instead: https://pip.pypa.io/warnings/venv\u001b[0m\n"
     ]
    }
   ],
   "source": [
    "!pip install validate-docbr"
   ]
  },
  {
   "cell_type": "code",
   "execution_count": 19,
   "id": "4fb04a18-e8a7-4d8e-b482-39dcc1afca1f",
   "metadata": {
    "execution": {
     "iopub.execute_input": "2021-12-08T13:40:38.179004Z",
     "iopub.status.busy": "2021-12-08T13:40:38.178513Z",
     "iopub.status.idle": "2021-12-08T13:40:38.183965Z",
     "shell.execute_reply": "2021-12-08T13:40:38.183479Z"
    },
    "papermill": {
     "duration": 0.073171,
     "end_time": "2021-12-08T13:40:38.184097",
     "exception": false,
     "start_time": "2021-12-08T13:40:38.110926",
     "status": "completed"
    },
    "tags": []
   },
   "outputs": [],
   "source": [
    "from validate_docbr import CPF,CNPJ\n",
    "\n",
    "cpf = CPF()\n",
    "cnpj = CNPJ()"
   ]
  },
  {
   "cell_type": "code",
   "execution_count": 20,
   "id": "27b1d418-e157-4a56-a5dd-48a6a7cf256b",
   "metadata": {
    "execution": {
     "iopub.execute_input": "2021-12-08T13:40:38.349617Z",
     "iopub.status.busy": "2021-12-08T13:40:38.344526Z",
     "iopub.status.idle": "2021-12-08T13:40:38.559684Z",
     "shell.execute_reply": "2021-12-08T13:40:38.560019Z"
    },
    "papermill": {
     "duration": 0.308979,
     "end_time": "2021-12-08T13:40:38.560152",
     "exception": false,
     "start_time": "2021-12-08T13:40:38.251173",
     "status": "completed"
    },
    "tags": []
   },
   "outputs": [],
   "source": [
    "df['isvalid_cpf'] = df['cpf'].apply(lambda x:cpf.validate(x))\n",
    "df['isvalid_cnpj'] = df['cnpj'].apply(lambda x:cnpj.validate(x))"
   ]
  },
  {
   "cell_type": "markdown",
   "id": "2e2c8c5a-f303-4fd0-a816-0188bd101472",
   "metadata": {
    "papermill": {
     "duration": 0.060569,
     "end_time": "2021-12-08T13:40:38.678786",
     "exception": false,
     "start_time": "2021-12-08T13:40:38.618217",
     "status": "completed"
    },
    "tags": []
   },
   "source": [
    "## Salvando base"
   ]
  },
  {
   "cell_type": "code",
   "execution_count": 21,
   "id": "ae1f9036-a710-4211-ac5a-7c102d7967cd",
   "metadata": {
    "execution": {
     "iopub.execute_input": "2021-12-08T13:40:38.809803Z",
     "iopub.status.busy": "2021-12-08T13:40:38.808480Z",
     "iopub.status.idle": "2021-12-08T13:40:39.032604Z",
     "shell.execute_reply": "2021-12-08T13:40:39.031309Z"
    },
    "papermill": {
     "duration": 0.292211,
     "end_time": "2021-12-08T13:40:39.032987",
     "exception": false,
     "start_time": "2021-12-08T13:40:38.740776",
     "status": "completed"
    },
    "tags": []
   },
   "outputs": [
    {
     "name": "stdout",
     "output_type": "stream",
     "text": [
      "mkdir: cannot create directory ‘base_gerada’: File exists\n"
     ]
    }
   ],
   "source": [
    "!mkdir base_gerada"
   ]
  },
  {
   "cell_type": "code",
   "execution_count": 22,
   "id": "4afbc809-0cd5-40ff-94db-310d71aa8210",
   "metadata": {
    "execution": {
     "iopub.execute_input": "2021-12-08T13:40:39.167435Z",
     "iopub.status.busy": "2021-12-08T13:40:39.167064Z",
     "iopub.status.idle": "2021-12-08T13:40:39.188276Z",
     "shell.execute_reply": "2021-12-08T13:40:39.188634Z"
    },
    "papermill": {
     "duration": 0.091752,
     "end_time": "2021-12-08T13:40:39.188763",
     "exception": false,
     "start_time": "2021-12-08T13:40:39.097011",
     "status": "completed"
    },
    "tags": []
   },
   "outputs": [],
   "source": [
    "df.to_csv(\"base_gerada/base_limpinha.csv\",index=False)"
   ]
  },
  {
   "cell_type": "code",
   "execution_count": 23,
   "id": "8077fd1d-414f-4b08-9d2c-2b17c91b757a",
   "metadata": {
    "execution": {
     "iopub.execute_input": "2021-12-08T13:40:39.318066Z",
     "iopub.status.busy": "2021-12-08T13:40:39.316339Z",
     "iopub.status.idle": "2021-12-08T13:40:39.329582Z",
     "shell.execute_reply": "2021-12-08T13:40:39.329207Z"
    },
    "papermill": {
     "duration": 0.079884,
     "end_time": "2021-12-08T13:40:39.329677",
     "exception": false,
     "start_time": "2021-12-08T13:40:39.249793",
     "status": "completed"
    },
    "tags": []
   },
   "outputs": [
    {
     "data": {
      "text/html": [
       "<div>\n",
       "<style scoped>\n",
       "    .dataframe tbody tr th:only-of-type {\n",
       "        vertical-align: middle;\n",
       "    }\n",
       "\n",
       "    .dataframe tbody tr th {\n",
       "        vertical-align: top;\n",
       "    }\n",
       "\n",
       "    .dataframe thead th {\n",
       "        text-align: right;\n",
       "    }\n",
       "</style>\n",
       "<table border=\"1\" class=\"dataframe\">\n",
       "  <thead>\n",
       "    <tr style=\"text-align: right;\">\n",
       "      <th></th>\n",
       "      <th>nomes</th>\n",
       "      <th>idade</th>\n",
       "      <th>cidade</th>\n",
       "      <th>estado</th>\n",
       "      <th>cpf</th>\n",
       "      <th>cnpj</th>\n",
       "      <th>isvalid_cpf</th>\n",
       "      <th>isvalid_cnpj</th>\n",
       "    </tr>\n",
       "  </thead>\n",
       "  <tbody>\n",
       "    <tr>\n",
       "      <th>0</th>\n",
       "      <td>Dennis Daniels</td>\n",
       "      <td>31</td>\n",
       "      <td>ACRELÂNDIA</td>\n",
       "      <td>AC</td>\n",
       "      <td>97566536800</td>\n",
       "      <td>06589184909526</td>\n",
       "      <td>True</td>\n",
       "      <td>True</td>\n",
       "    </tr>\n",
       "    <tr>\n",
       "      <th>1</th>\n",
       "      <td>Leah Becker</td>\n",
       "      <td>42</td>\n",
       "      <td>ÁGUA BRANCA</td>\n",
       "      <td>AL</td>\n",
       "      <td>42526380707</td>\n",
       "      <td>25673336235020</td>\n",
       "      <td>True</td>\n",
       "      <td>True</td>\n",
       "    </tr>\n",
       "    <tr>\n",
       "      <th>2</th>\n",
       "      <td>Sally Ford</td>\n",
       "      <td>18</td>\n",
       "      <td>ALVARÃES</td>\n",
       "      <td>AM</td>\n",
       "      <td>34647754103</td>\n",
       "      <td>26543101702989</td>\n",
       "      <td>True</td>\n",
       "      <td>True</td>\n",
       "    </tr>\n",
       "    <tr>\n",
       "      <th>3</th>\n",
       "      <td>Colleen Duncan</td>\n",
       "      <td>21</td>\n",
       "      <td>SERRA DO NAVIO</td>\n",
       "      <td>AP</td>\n",
       "      <td>25253156003</td>\n",
       "      <td>19062080510098</td>\n",
       "      <td>True</td>\n",
       "      <td>True</td>\n",
       "    </tr>\n",
       "    <tr>\n",
       "      <th>4</th>\n",
       "      <td>Jeff Stephenson</td>\n",
       "      <td>73</td>\n",
       "      <td>ABAÍRA</td>\n",
       "      <td>BA</td>\n",
       "      <td>49668886542</td>\n",
       "      <td>97794530015384</td>\n",
       "      <td>True</td>\n",
       "      <td>True</td>\n",
       "    </tr>\n",
       "    <tr>\n",
       "      <th>...</th>\n",
       "      <td>...</td>\n",
       "      <td>...</td>\n",
       "      <td>...</td>\n",
       "      <td>...</td>\n",
       "      <td>...</td>\n",
       "      <td>...</td>\n",
       "      <td>...</td>\n",
       "      <td>...</td>\n",
       "    </tr>\n",
       "    <tr>\n",
       "      <th>9995</th>\n",
       "      <td>Rebekah Mitchell Phd</td>\n",
       "      <td>55</td>\n",
       "      <td>ABAIARA</td>\n",
       "      <td>CE</td>\n",
       "      <td>74482262234</td>\n",
       "      <td>16740076932975</td>\n",
       "      <td>True</td>\n",
       "      <td>True</td>\n",
       "    </tr>\n",
       "    <tr>\n",
       "      <th>9996</th>\n",
       "      <td>Lisa Parrish Jr.</td>\n",
       "      <td>73</td>\n",
       "      <td>BRASÍLIA</td>\n",
       "      <td>DF</td>\n",
       "      <td>10683395190</td>\n",
       "      <td>32246978843482</td>\n",
       "      <td>True</td>\n",
       "      <td>True</td>\n",
       "    </tr>\n",
       "    <tr>\n",
       "      <th>9997</th>\n",
       "      <td>Michael Young Md</td>\n",
       "      <td>87</td>\n",
       "      <td>AFONSO CLÁUDIO</td>\n",
       "      <td>ES</td>\n",
       "      <td>53822363804</td>\n",
       "      <td>86601303758088</td>\n",
       "      <td>True</td>\n",
       "      <td>True</td>\n",
       "    </tr>\n",
       "    <tr>\n",
       "      <th>9998</th>\n",
       "      <td>Kevin Watson Dds</td>\n",
       "      <td>82</td>\n",
       "      <td>ABADIA DE GOIÁS</td>\n",
       "      <td>GO</td>\n",
       "      <td>11632512408</td>\n",
       "      <td>08651414023648</td>\n",
       "      <td>True</td>\n",
       "      <td>True</td>\n",
       "    </tr>\n",
       "    <tr>\n",
       "      <th>9999</th>\n",
       "      <td>Mr. Joseph Wilson Md</td>\n",
       "      <td>50</td>\n",
       "      <td>AÇAILÂNDIA</td>\n",
       "      <td>MA</td>\n",
       "      <td>19213449208</td>\n",
       "      <td>08908871516191</td>\n",
       "      <td>True</td>\n",
       "      <td>True</td>\n",
       "    </tr>\n",
       "  </tbody>\n",
       "</table>\n",
       "<p>10000 rows × 8 columns</p>\n",
       "</div>"
      ],
      "text/plain": [
       "                     nomes  idade           cidade estado          cpf  \\\n",
       "0           Dennis Daniels     31       ACRELÂNDIA     AC  97566536800   \n",
       "1              Leah Becker     42      ÁGUA BRANCA     AL  42526380707   \n",
       "2               Sally Ford     18         ALVARÃES     AM  34647754103   \n",
       "3           Colleen Duncan     21   SERRA DO NAVIO     AP  25253156003   \n",
       "4          Jeff Stephenson     73           ABAÍRA     BA  49668886542   \n",
       "...                    ...    ...              ...    ...          ...   \n",
       "9995  Rebekah Mitchell Phd     55          ABAIARA     CE  74482262234   \n",
       "9996      Lisa Parrish Jr.     73         BRASÍLIA     DF  10683395190   \n",
       "9997      Michael Young Md     87   AFONSO CLÁUDIO     ES  53822363804   \n",
       "9998      Kevin Watson Dds     82  ABADIA DE GOIÁS     GO  11632512408   \n",
       "9999  Mr. Joseph Wilson Md     50       AÇAILÂNDIA     MA  19213449208   \n",
       "\n",
       "                cnpj  isvalid_cpf  isvalid_cnpj  \n",
       "0     06589184909526         True          True  \n",
       "1     25673336235020         True          True  \n",
       "2     26543101702989         True          True  \n",
       "3     19062080510098         True          True  \n",
       "4     97794530015384         True          True  \n",
       "...              ...          ...           ...  \n",
       "9995  16740076932975         True          True  \n",
       "9996  32246978843482         True          True  \n",
       "9997  86601303758088         True          True  \n",
       "9998  08651414023648         True          True  \n",
       "9999  08908871516191         True          True  \n",
       "\n",
       "[10000 rows x 8 columns]"
      ]
     },
     "execution_count": 23,
     "metadata": {},
     "output_type": "execute_result"
    }
   ],
   "source": [
    "df"
   ]
  },
  {
   "cell_type": "code",
   "execution_count": null,
   "id": "8a2fdd91-e7ea-4639-88b0-f9ad98f6ac49",
   "metadata": {
    "papermill": {
     "duration": 0.061972,
     "end_time": "2021-12-08T13:40:39.456951",
     "exception": false,
     "start_time": "2021-12-08T13:40:39.394979",
     "status": "completed"
    },
    "tags": []
   },
   "outputs": [],
   "source": []
  }
 ],
 "metadata": {
  "kernelspec": {
   "display_name": "Python 3 (ipykernel)",
   "language": "python",
   "name": "python3"
  },
  "language_info": {
   "codemirror_mode": {
    "name": "ipython",
    "version": 3
   },
   "file_extension": ".py",
   "mimetype": "text/x-python",
   "name": "python",
   "nbconvert_exporter": "python",
   "pygments_lexer": "ipython3",
   "version": "3.9.7"
  },
  "papermill": {
   "default_parameters": {},
   "duration": 8.95954,
   "end_time": "2021-12-08T13:40:39.727969",
   "environment_variables": {},
   "exception": null,
   "input_path": "/home/jovyan/talent-data-analyst-lv4/Etapa 1/Test 1.ipynb",
   "output_path": "/home/jovyan/talent-data-analyst-lv4/Etapa 1/Test 1.ipynb",
   "parameters": {},
   "start_time": "2021-12-08T13:40:30.768429",
   "version": "2.3.3"
  }
 },
 "nbformat": 4,
 "nbformat_minor": 5
}
